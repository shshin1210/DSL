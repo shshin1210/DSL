{
 "cells": [
  {
   "cell_type": "code",
   "execution_count": 1,
   "metadata": {},
   "outputs": [],
   "source": [
    "import torch\n",
    "import sys, os, cv2\n",
    "import numpy as np\n",
    "import matplotlib.pyplot as plt"
   ]
  },
  {
   "cell_type": "code",
   "execution_count": 2,
   "metadata": {},
   "outputs": [],
   "source": [
    "img_hyp_text_path = \"C:/Users/shins/HyperImaging/Dataset/image formation/img_hyp_text\""
   ]
  },
  {
   "cell_type": "code",
   "execution_count": 3,
   "metadata": {},
   "outputs": [],
   "source": [
    "img_list = os.listdir(img_hyp_text_path)"
   ]
  },
  {
   "cell_type": "code",
   "execution_count": 4,
   "metadata": {},
   "outputs": [],
   "source": [
    "img_choice = img_list[0]"
   ]
  },
  {
   "cell_type": "code",
   "execution_count": 5,
   "metadata": {},
   "outputs": [],
   "source": [
    "hyp_img = np.load(os.path.join(img_hyp_text_path, img_choice)).astype(np.float32)\n",
    "hyp_img = torch.tensor(hyp_img)\n"
   ]
  },
  {
   "cell_type": "code",
   "execution_count": 6,
   "metadata": {},
   "outputs": [
    {
     "name": "stdout",
     "output_type": "stream",
     "text": [
      "hyp_img type: <class 'torch.Tensor'> hyp_img shape: torch.Size([640, 640, 77])\n"
     ]
    }
   ],
   "source": [
    "print('hyp_img type:',type(hyp_img), 'hyp_img shape:', hyp_img.shape)"
   ]
  },
  {
   "cell_type": "code",
   "execution_count": 7,
   "metadata": {},
   "outputs": [],
   "source": [
    "illum_path = \"C:/Users/shins/HyperImaging/Calibration/patterns/graycode_pattern\"\n",
    "illum = cv2.imread(os.path.join(illum_path, \"pattern_12.png\")).astype(np.float32)\n",
    "illum = torch.tensor(illum)"
   ]
  },
  {
   "cell_type": "code",
   "execution_count": 8,
   "metadata": {},
   "outputs": [],
   "source": [
    "R = illum.shape[0]\n",
    "C = illum.shape[1]"
   ]
  },
  {
   "cell_type": "code",
   "execution_count": 9,
   "metadata": {},
   "outputs": [],
   "source": [
    "illum = illum.reshape(illum.shape[0]* illum.shape[1], 3)\n",
    "\n",
    "mask_0 = (illum[:,:] < 150)\n",
    "mask_1 = (illum[:,:] >= 150)\n",
    "\n",
    "ill = np.ma.array(illum, mask = mask_0)\n",
    "ill = ill.filled(fill_value = 0.0)\n",
    "\n",
    "ill = np.ma.array(ill, mask= mask_1)\n",
    "ill = ill.filled(fill_value = 1.0)\n",
    "\n",
    "ill = ill.reshape(720,1280, 3)\n",
    "\n",
    "ill = torch.tensor(ill)"
   ]
  },
  {
   "cell_type": "code",
   "execution_count": 10,
   "metadata": {},
   "outputs": [
    {
     "data": {
      "text/plain": [
       "<matplotlib.image.AxesImage at 0x1c13eef5908>"
      ]
     },
     "execution_count": 10,
     "metadata": {},
     "output_type": "execute_result"
    },
    {
     "data": {
      "image/png": "[encoded data removed]",
      "text/plain": [
       "<Figure size 1000x500 with 1 Axes>"
      ]
     },
     "metadata": {},
     "output_type": "display_data"
    }
   ],
   "source": [
    "plt.figure(figsize=(10,5))\n",
    "plt.imshow(ill)"
   ]
  },
  {
   "cell_type": "code",
   "execution_count": 11,
   "metadata": {},
   "outputs": [
    {
     "data": {
      "text/plain": [
       "torch.Size([640, 640, 77])"
      ]
     },
     "execution_count": 11,
     "metadata": {},
     "output_type": "execute_result"
    }
   ],
   "source": [
    "hyp_img.shape"
   ]
  },
  {
   "cell_type": "code",
   "execution_count": 12,
   "metadata": {},
   "outputs": [
    {
     "data": {
      "text/plain": [
       "torch.Size([720, 1280, 3])"
      ]
     },
     "execution_count": 12,
     "metadata": {},
     "output_type": "execute_result"
    }
   ],
   "source": [
    "ill.shape"
   ]
  },
  {
   "cell_type": "code",
   "execution_count": 13,
   "metadata": {},
   "outputs": [],
   "source": [
    "# make ill to 720, 1280, 77\n",
    "a = np.zeros(shape= (720,1280,77))"
   ]
  },
  {
   "cell_type": "code",
   "execution_count": 14,
   "metadata": {},
   "outputs": [
    {
     "data": {
      "text/plain": [
       "(720, 1280, 77)"
      ]
     },
     "execution_count": 14,
     "metadata": {},
     "output_type": "execute_result"
    }
   ],
   "source": [
    "a.shape"
   ]
  },
  {
   "cell_type": "code",
   "execution_count": 15,
   "metadata": {},
   "outputs": [],
   "source": [
    "for i in range(25):\n",
    "    if i == 0 :\n",
    "        ill_77 = np.append(ill, ill, axis=2)\n",
    "    else:\n",
    "        ill_77 = np.append(ill_77, ill, axis=2)\n",
    "ill_77 = np.delete(ill_77, -1, axis = 2)"
   ]
  },
  {
   "cell_type": "code",
   "execution_count": 16,
   "metadata": {},
   "outputs": [
    {
     "data": {
      "text/plain": [
       "(720, 1280, 77)"
      ]
     },
     "execution_count": 16,
     "metadata": {},
     "output_type": "execute_result"
    }
   ],
   "source": [
    "ill_77.shape"
   ]
  },
  {
   "cell_type": "code",
   "execution_count": 17,
   "metadata": {},
   "outputs": [],
   "source": [
    "ill_77_reshape = ill_77.reshape(720*1280,77)\n",
    "a_reshape = a.reshape(720*1280,77)"
   ]
  },
  {
   "cell_type": "code",
   "execution_count": 18,
   "metadata": {},
   "outputs": [],
   "source": [
    "a_reshape[:,:] = ill_77_reshape[:,:]"
   ]
  },
  {
   "cell_type": "code",
   "execution_count": 19,
   "metadata": {},
   "outputs": [],
   "source": [
    "a = a_reshape.reshape(720,1280,77)"
   ]
  },
  {
   "cell_type": "code",
   "execution_count": 20,
   "metadata": {},
   "outputs": [
    {
     "data": {
      "text/plain": [
       "(720, 1280, 77)"
      ]
     },
     "execution_count": 20,
     "metadata": {},
     "output_type": "execute_result"
    }
   ],
   "source": [
    "a.shape"
   ]
  },
  {
   "cell_type": "code",
   "execution_count": 21,
   "metadata": {},
   "outputs": [
    {
     "name": "stdout",
     "output_type": "stream",
     "text": [
      "yes\n"
     ]
    }
   ],
   "source": [
    "if 1.0 in ill:\n",
    "    print('yes')"
   ]
  },
  {
   "cell_type": "code",
   "execution_count": 22,
   "metadata": {},
   "outputs": [],
   "source": [
    "import tifffile\n",
    "\n",
    "def array_to_tif(arr, i):\n",
    "    \"\"\"     Make array into tif file\n",
    "    \n",
    "    check hyperspectral image / tif file\n",
    "    \"\"\"\n",
    "    arr = np.swapaxes(arr,0,2)\n",
    "    arr = np.swapaxes(arr,1,2)\n",
    "    # tifffile.imwrite(f'./tif_file/output_scene_{i}.tif', arr)\n",
    "    tifffile.imwrite(f'./scene_{i}_hyp_text.tif', arr)"
   ]
  },
  {
   "cell_type": "code",
   "execution_count": 23,
   "metadata": {},
   "outputs": [],
   "source": [
    "# # hyp_img_2 = hyp_img * a\n",
    "# a = torch.tensor(a)\n",
    "# array_to_tif(a, 3)"
   ]
  }
 ],
 "metadata": {
  "kernelspec": {
   "display_name": "Python 3.7.13 ('HyperImaging')",
   "language": "python",
   "name": "python3"
  },
  "language_info": {
   "codemirror_mode": {
    "name": "ipython",
    "version": 3
   },
   "file_extension": ".py",
   "mimetype": "text/x-python",
   "name": "python",
   "nbconvert_exporter": "python",
   "pygments_lexer": "ipython3",
   "version": "3.7.13"
  },
  "orig_nbformat": 4,
  "vscode": {
   "interpreter": {
    "hash": "e8cf70f61cfe72a4f8190e2e208b2f51629869aacaf20dcade6a2849e98c1eaf"
   }
  }
 },
 "nbformat": 4,
 "nbformat_minor": 2
}
