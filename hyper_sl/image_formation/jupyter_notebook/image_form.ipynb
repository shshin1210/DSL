{
 "cells": [
  {
   "cell_type": "code",
   "execution_count": 1,
   "metadata": {},
   "outputs": [
    {
     "name": "stderr",
     "output_type": "stream",
     "text": [
      "c:\\Users\\shins\\Anaconda3\\envs\\HyperImaging\\lib\\site-packages\\tqdm\\auto.py:22: TqdmWarning: IProgress not found. Please update jupyter and ipywidgets. See https://ipywidgets.readthedocs.io/en/stable/user_install.html\n",
      "  from .autonotebook import tqdm as notebook_tqdm\n"
     ]
    }
   ],
   "source": [
    "import OpenEXR, Imath, os\n",
    "import numpy as np\n",
    "import torch\n",
    "import matplotlib.pyplot as plt\n",
    "import cv2"
   ]
  },
  {
   "cell_type": "markdown",
   "metadata": {},
   "source": [
    "## Bring Depth(Distance) map"
   ]
  },
  {
   "cell_type": "code",
   "execution_count": 2,
   "metadata": {},
   "outputs": [],
   "source": [
    "output_dir = \"C:/Users/shins/HyperImaging/Dataset/data/result\"\n",
    "\n",
    "def read_exr_as_np(i, rendertype):\n",
    "        \"\"\"  Read exr file(rgb rendered obj scene) as numpy array\n",
    "        \n",
    "        exr file shape RGBA 640x640x4\n",
    "        return : numpy array        \n",
    "        \"\"\"\n",
    "        \n",
    "        fn = os.listdir(output_dir)\n",
    "        fn = [file for file in fn if rendertype in file]\n",
    "        \n",
    "        fn = os.path.join(output_dir, fn[i])\n",
    "\n",
    "        f = OpenEXR.InputFile(fn)\n",
    "        channels = f.header()['channels']\n",
    " \n",
    "        dw = f.header()['dataWindow']\n",
    "        size = (dw.max.x - dw.min.x + 1, dw.max.y - dw.min.y + 1)\n",
    "\n",
    "        ch_names = []\n",
    "\n",
    "        image = np.zeros((size[1], size[0], len(channels)-1))\n",
    "\n",
    "        for i, ch_name in enumerate(channels):\n",
    "            ch_names.append(ch_name)\n",
    "            ch_dtype = channels[ch_name].type\n",
    "            ch_str = f.channel(ch_name, ch_dtype)\n",
    "\n",
    "            if ch_dtype == Imath.PixelType(Imath.PixelType.FLOAT):\n",
    "                np_dtype = np.float32\n",
    "\n",
    "            image_ch = np.fromstring(ch_str, dtype=np_dtype)\n",
    "            image_ch.shape = (size[1], size[0])\n",
    "\n",
    "            if ch_name == \"A\" :\n",
    "                continue\n",
    "            else:\n",
    "                image[:,:,3-i] = image_ch\n",
    "        \n",
    "        return image"
   ]
  },
  {
   "cell_type": "code",
   "execution_count": 3,
   "metadata": {},
   "outputs": [
    {
     "name": "stderr",
     "output_type": "stream",
     "text": [
      "c:\\Users\\shins\\Anaconda3\\envs\\HyperImaging\\lib\\site-packages\\ipykernel_launcher.py:33: DeprecationWarning: The binary mode of fromstring is deprecated, as it behaves surprisingly on unicode inputs. Use frombuffer instead\n"
     ]
    }
   ],
   "source": [
    "dist = read_exr_as_np(0,\"Depth\").astype(np.float32)\n",
    "dist = dist[...,0]\n",
    "sensor_width = 5.32e-3 \n",
    "focal_length = 16e-3 \n",
    "N = 640\n",
    "x, y = np.meshgrid(np.linspace(-sensor_width/2, sensor_width/2, N), np.linspace(-sensor_width/2, sensor_width/2, N))\n",
    "depth = focal_length *dist / np.sqrt(x**2 + y**2 + focal_length**2)"
   ]
  },
  {
   "cell_type": "code",
   "execution_count": 4,
   "metadata": {},
   "outputs": [],
   "source": [
    "# plt.figure()\n",
    "# plt.imshow(depth)\n",
    "# plt.colorbar()"
   ]
  },
  {
   "cell_type": "code",
   "execution_count": 5,
   "metadata": {},
   "outputs": [
    {
     "name": "stdout",
     "output_type": "stream",
     "text": [
      "0.14000000925648473 0.09059517587604828\n"
     ]
    }
   ],
   "source": [
    "print(depth.max(), depth.min())"
   ]
  },
  {
   "cell_type": "code",
   "execution_count": 6,
   "metadata": {},
   "outputs": [],
   "source": [
    "# set depth to real meters 1~1.4m\n",
    "depth_to_meter = 10\n",
    "depth *= depth_to_meter"
   ]
  },
  {
   "cell_type": "code",
   "execution_count": 7,
   "metadata": {},
   "outputs": [
    {
     "name": "stdout",
     "output_type": "stream",
     "text": [
      "0.9059517587604827 1.4000000925648473\n"
     ]
    }
   ],
   "source": [
    "print(depth.min(), depth.max()) # 1m ~ 1.4m where object is in WC"
   ]
  },
  {
   "cell_type": "code",
   "execution_count": 8,
   "metadata": {},
   "outputs": [],
   "source": [
    "# bring only R values since RGB values are all the same\n",
    "depth = torch.tensor(depth)\n",
    "\n",
    "R,C = depth.shape"
   ]
  },
  {
   "cell_type": "markdown",
   "metadata": {},
   "source": [
    "## Unprojection, Projection"
   ]
  },
  {
   "cell_type": "code",
   "execution_count": 9,
   "metadata": {},
   "outputs": [],
   "source": [
    "xs = torch.linspace(0, R-1, steps=R)\n",
    "ys = torch.linspace(0, C-1, steps=C)\n",
    "c, r = torch.meshgrid(xs, ys, indexing='ij')"
   ]
  },
  {
   "cell_type": "code",
   "execution_count": 10,
   "metadata": {},
   "outputs": [],
   "source": [
    "# plt.subplot(121), plt.imshow(r), plt.colorbar()\n",
    "# plt.subplot(122), plt.imshow(c), plt.colorbar()"
   ]
  },
  {
   "cell_type": "code",
   "execution_count": 11,
   "metadata": {},
   "outputs": [
    {
     "name": "stdout",
     "output_type": "stream",
     "text": [
      "cam pitch 8.3125e-06\n"
     ]
    }
   ],
   "source": [
    "cam_pitch = sensor_width/N\n",
    "print('cam pitch', cam_pitch)\n",
    "x_c, y_c = (r-R/2)*cam_pitch, (c-R/2)*cam_pitch\n",
    "\n",
    "z_c = torch.zeros_like(x_c)\n",
    "z_c[:] = -focal_length"
   ]
  },
  {
   "cell_type": "code",
   "execution_count": 12,
   "metadata": {},
   "outputs": [],
   "source": [
    "X,Y,Z = (-x_c/focal_length)*depth, (-y_c/focal_length)*depth, depth\n",
    "# plt.figure(figsize=(15,5))\n",
    "# plt.subplot(131), plt.imshow(X), plt.colorbar()\n",
    "# plt.subplot(132), plt.imshow(Y), plt.colorbar()\n",
    "# plt.subplot(133), plt.imshow(Z), plt.colorbar()"
   ]
  },
  {
   "cell_type": "code",
   "execution_count": 13,
   "metadata": {},
   "outputs": [],
   "source": [
    "X,Y,Z = X.flatten(), Y.flatten(), Z.flatten()\n",
    "XYZ1 = torch.stack((X,Y,Z, torch.ones_like(X)), dim = 1).transpose(1,0)"
   ]
  },
  {
   "cell_type": "code",
   "execution_count": 14,
   "metadata": {},
   "outputs": [
    {
     "data": {
      "text/plain": [
       "torch.Size([4, 409600])"
      ]
     },
     "execution_count": 14,
     "metadata": {},
     "output_type": "execute_result"
    }
   ],
   "source": [
    "XYZ1.shape"
   ]
  },
  {
   "cell_type": "code",
   "execution_count": 15,
   "metadata": {},
   "outputs": [],
   "source": [
    "# bring parameters(numpy array)\n",
    "\n",
    "param_path = 'C:/Users/shins/HyperImaging/Calibration/parameters'\n",
    "\n",
    "proj_int = np.load(os.path.join(param_path, 'proj_int.npy')) # unit um\n",
    "cam_proj_tvec = np.load(os.path.join(param_path, 'cam_proj_tvec.npy')) # unit mm\n"
   ]
  },
  {
   "cell_type": "code",
   "execution_count": 16,
   "metadata": {},
   "outputs": [
    {
     "data": {
      "text/plain": [
       "array([[2.02636127e+03, 0.00000000e+00, 6.41597887e+02],\n",
       "       [0.00000000e+00, 2.04296197e+03, 6.88201132e+02],\n",
       "       [0.00000000e+00, 0.00000000e+00, 1.00000000e+00]])"
      ]
     },
     "execution_count": 16,
     "metadata": {},
     "output_type": "execute_result"
    }
   ],
   "source": [
    "proj_int"
   ]
  },
  {
   "cell_type": "code",
   "execution_count": 17,
   "metadata": {},
   "outputs": [
    {
     "name": "stdout",
     "output_type": "stream",
     "text": [
      "proj fov: 20.29766953435788\n"
     ]
    }
   ],
   "source": [
    "# proj intrinsic matrix\n",
    "focal_length_proj = 8e-3 # proj intrinsic * pitch\n",
    "sensor_diag_proj = 5.842e-3\n",
    "sensor_width_proj = np.sin(np.arctan2(720, 1280))*sensor_diag_proj  # height\n",
    "N_proj = 720\n",
    "proj_pitch = sensor_width_proj/N_proj\n",
    "proj_fov = np.rad2deg(np.arctan2(sensor_width_proj/2, focal_length_proj))\n",
    "print(\"proj fov:\", 2*proj_fov)"
   ]
  },
  {
   "cell_type": "code",
   "execution_count": 18,
   "metadata": {},
   "outputs": [],
   "source": [
    "# proj extrinsic matrix\n",
    "proj_extrinsic = np.zeros((3,4))\n",
    "# no rotation\n",
    "proj_extrinsic[0,0] = 1 \n",
    "proj_extrinsic[1,1] = 1\n",
    "proj_extrinsic[2,2] = 1\n",
    "\n",
    "# translate + x 50e-3\n",
    "proj_extrinsic[0,3] = 50e-3 "
   ]
  },
  {
   "cell_type": "code",
   "execution_count": 19,
   "metadata": {},
   "outputs": [],
   "source": [
    "# change to tensor\n",
    "proj_extrinsic = torch.tensor(proj_extrinsic)"
   ]
  },
  {
   "cell_type": "code",
   "execution_count": 20,
   "metadata": {},
   "outputs": [
    {
     "data": {
      "text/plain": [
       "torch.Size([3, 409600])"
      ]
     },
     "execution_count": 20,
     "metadata": {},
     "output_type": "execute_result"
    }
   ],
   "source": [
    "# world coord (XYZ) in projector view\n",
    "XYZ_proj = proj_extrinsic@XYZ1\n",
    "XYZ_proj.shape"
   ]
  },
  {
   "cell_type": "code",
   "execution_count": 21,
   "metadata": {},
   "outputs": [],
   "source": [
    "np.save('./xyz_proj.npy',XYZ_proj)"
   ]
  },
  {
   "cell_type": "code",
   "execution_count": 22,
   "metadata": {},
   "outputs": [],
   "source": [
    "# Check XYZ\n",
    "# XYZ_proj_reshape = XYZ_proj.transpose(0,1).reshape(640,640,3)\n",
    "# plt.figure(figsize=(10,5))\n",
    "# plt.imshow(XYZ_proj_reshape[:,:,2]), plt.colorbar()"
   ]
  },
  {
   "cell_type": "code",
   "execution_count": 23,
   "metadata": {},
   "outputs": [],
   "source": [
    "# world coord to proj sensor\n",
    "rc_proj = (-focal_length_proj*XYZ_proj[:2,:]/XYZ_proj[2,:])/proj_pitch + N_proj/2"
   ]
  },
  {
   "cell_type": "code",
   "execution_count": 24,
   "metadata": {},
   "outputs": [],
   "source": [
    "# xy_proj = (-focal_length_proj*XYZ_proj[:2,:]/XYZ_proj[2,:])"
   ]
  },
  {
   "cell_type": "code",
   "execution_count": 25,
   "metadata": {},
   "outputs": [],
   "source": [
    "# xy_proj"
   ]
  },
  {
   "cell_type": "code",
   "execution_count": 26,
   "metadata": {},
   "outputs": [
    {
     "data": {
      "text/plain": [
       "torch.Size([2, 409600])"
      ]
     },
     "execution_count": 26,
     "metadata": {},
     "output_type": "execute_result"
    }
   ],
   "source": [
    "rc_proj.shape"
   ]
  },
  {
   "cell_type": "code",
   "execution_count": 27,
   "metadata": {},
   "outputs": [
    {
     "data": {
      "text/plain": [
       "409600"
      ]
     },
     "execution_count": 27,
     "metadata": {},
     "output_type": "execute_result"
    }
   ],
   "source": [
    "640*640"
   ]
  },
  {
   "cell_type": "code",
   "execution_count": 28,
   "metadata": {},
   "outputs": [],
   "source": [
    "rc_proj = rc_proj.transpose(0,1).reshape(R,C,2)"
   ]
  },
  {
   "cell_type": "code",
   "execution_count": 29,
   "metadata": {},
   "outputs": [
    {
     "data": {
      "text/plain": [
       "(<AxesSubplot:>,\n",
       " <matplotlib.image.AxesImage at 0x1a7a4cdf848>,\n",
       " <matplotlib.colorbar.Colorbar at 0x1a7a4cfc248>)"
      ]
     },
     "execution_count": 29,
     "metadata": {},
     "output_type": "execute_result"
    },
    {
     "data": {
      "image/png": "[encoded data removed]",
      "text/plain": [
       "<Figure size 1000x500 with 4 Axes>"
      ]
     },
     "metadata": {},
     "output_type": "display_data"
    }
   ],
   "source": [
    "plt.figure(figsize=(10,5))\n",
    "plt.subplot(121), plt.imshow(rc_proj[:,:,0]), plt.colorbar()\n",
    "plt.subplot(122),plt.imshow(rc_proj[:,:,1]), plt.colorbar()"
   ]
  },
  {
   "cell_type": "code",
   "execution_count": 30,
   "metadata": {},
   "outputs": [
    {
     "data": {
      "text/plain": [
       "(<AxesSubplot:>,\n",
       " <matplotlib.image.AxesImage at 0x1a7a551af48>,\n",
       " <matplotlib.colorbar.Colorbar at 0x1a7a93a1a88>)"
      ]
     },
     "execution_count": 30,
     "metadata": {},
     "output_type": "execute_result"
    },
    {
     "data": {
      "image/png": "[encoded data removed]",
      "text/plain": [
       "<Figure size 1000x500 with 4 Axes>"
      ]
     },
     "metadata": {},
     "output_type": "display_data"
    }
   ],
   "source": [
    "plt.figure(figsize=(10,5))\n",
    "plt.subplot(121), plt.imshow((0<= rc_proj[:,:,0])*(rc_proj[:,:,0] <N_proj)), plt.colorbar()\n",
    "plt.subplot(122), plt.imshow((0<=rc_proj[:,:,1])*(rc_proj[:,:,1]<N_proj)), plt.colorbar()"
   ]
  },
  {
   "cell_type": "markdown",
   "metadata": {},
   "source": [
    "## Bring Illumination"
   ]
  },
  {
   "cell_type": "code",
   "execution_count": 31,
   "metadata": {},
   "outputs": [],
   "source": [
    "illum_path = \"C:/Users/shins/HyperImaging/Calibration/patterns/graycode_pattern\"\n",
    "illum = cv2.imread(os.path.join(illum_path, \"pattern_12.png\")).astype(np.float32)\n",
    "illum = torch.tensor(illum)"
   ]
  },
  {
   "cell_type": "code",
   "execution_count": 32,
   "metadata": {},
   "outputs": [
    {
     "data": {
      "text/plain": [
       "720"
      ]
     },
     "execution_count": 32,
     "metadata": {},
     "output_type": "execute_result"
    }
   ],
   "source": [
    "illum.shape[0]"
   ]
  },
  {
   "cell_type": "code",
   "execution_count": 33,
   "metadata": {},
   "outputs": [
    {
     "data": {
      "text/plain": [
       "<matplotlib.colorbar.Colorbar at 0x1a7a94af888>"
      ]
     },
     "execution_count": 33,
     "metadata": {},
     "output_type": "execute_result"
    },
    {
     "data": {
      "image/png": "[encoded data removed]",
      "text/plain": [
       "<Figure size 1000x500 with 2 Axes>"
      ]
     },
     "metadata": {},
     "output_type": "display_data"
    }
   ],
   "source": [
    "plt.figure(figsize=(10,5))\n",
    "plt.imshow(illum[:,:,0])\n",
    "plt.colorbar()"
   ]
  },
  {
   "cell_type": "code",
   "execution_count": 34,
   "metadata": {},
   "outputs": [
    {
     "data": {
      "text/plain": [
       "torch.Size([921600, 3])"
      ]
     },
     "execution_count": 34,
     "metadata": {},
     "output_type": "execute_result"
    }
   ],
   "source": [
    "illum = illum.reshape(720*1280,3)\n",
    "illum.shape"
   ]
  },
  {
   "cell_type": "code",
   "execution_count": 35,
   "metadata": {},
   "outputs": [],
   "source": [
    "mask_0 = (illum[:,:] < 150)\n",
    "mask_1 = (illum[:,:] >= 150)\n",
    "\n",
    "ill = np.ma.array(illum, mask = mask_0)\n",
    "ill = ill.filled(fill_value = 0.0)\n",
    "\n",
    "ill = np.ma.array(ill, mask= mask_1)\n",
    "ill = ill.filled(fill_value = 1.0)\n",
    "\n",
    "ill = ill.reshape(720,1280, 3)"
   ]
  },
  {
   "cell_type": "code",
   "execution_count": 36,
   "metadata": {},
   "outputs": [
    {
     "data": {
      "text/plain": [
       "<matplotlib.image.AxesImage at 0x1a7a9739048>"
      ]
     },
     "execution_count": 36,
     "metadata": {},
     "output_type": "execute_result"
    },
    {
     "data": {
      "image/png": "[encoded data removed]",
      "text/plain": [
       "<Figure size 1000x500 with 1 Axes>"
      ]
     },
     "metadata": {},
     "output_type": "display_data"
    }
   ],
   "source": [
    "plt.figure(figsize = (10,5))\n",
    "plt.imshow(ill)"
   ]
  },
  {
   "cell_type": "code",
   "execution_count": 37,
   "metadata": {},
   "outputs": [
    {
     "name": "stdout",
     "output_type": "stream",
     "text": [
      "x: tensor([[-77.3869, -76.4070, -75.3736,  ..., 619.3798, 620.4247, 621.4695],\n",
      "        [-46.1759, -76.3119, -75.3186,  ..., 619.3799, 620.4247, 621.4695],\n",
      "        [-46.1759, -45.1311, -75.2370,  ..., 619.3799, 620.4247, 621.4695],\n",
      "        ...,\n",
      "        [-46.1759, -45.1311, -44.0862,  ..., 619.3799, 620.4247, 621.4695],\n",
      "        [-46.1759, -45.1311, -44.0863,  ..., 619.3799, 620.4247, 621.4695],\n",
      "        [-46.1759, -45.1311, -44.0863,  ..., 619.3798, 620.4247, 621.4695]],\n",
      "       dtype=torch.float64) \n",
      "y: tensor([[ 25.6549,  25.6549,  25.6549,  ...,  25.6549,  25.6549,  25.6549],\n",
      "        [ 26.6997,  26.6997,  26.6997,  ...,  26.6997,  26.6997,  26.6997],\n",
      "        [ 27.7445,  27.7445,  27.7445,  ...,  27.7445,  27.7445,  27.7445],\n",
      "        ...,\n",
      "        [691.2106, 691.2106, 691.2106,  ..., 691.2106, 691.2106, 691.2106],\n",
      "        [692.2555, 692.2555, 692.2555,  ..., 692.2555, 692.2555, 692.2555],\n",
      "        [693.3003, 693.3003, 693.3003,  ..., 693.3003, 693.3003, 693.3003]],\n",
      "       dtype=torch.float64)\n"
     ]
    }
   ],
   "source": [
    "print('x:',rc_proj[:,:,0],'\\ny:',rc_proj[:,:,1])"
   ]
  },
  {
   "cell_type": "code",
   "execution_count": 55,
   "metadata": {},
   "outputs": [
    {
     "name": "stdout",
     "output_type": "stream",
     "text": [
      "max : tensor(621) min: tensor(-78)\n"
     ]
    }
   ],
   "source": [
    "print('max :', rc_proj[:,:,0].max().long(), 'min:', rc_proj[:,:,0].min().long())"
   ]
  },
  {
   "cell_type": "code",
   "execution_count": 56,
   "metadata": {},
   "outputs": [
    {
     "name": "stdout",
     "output_type": "stream",
     "text": [
      "max : tensor(693) min: tensor(25)\n"
     ]
    }
   ],
   "source": [
    "print('max :', rc_proj[:,:,1].max().long(), 'min:', rc_proj[:,:,1].min().long())"
   ]
  },
  {
   "cell_type": "code",
   "execution_count": null,
   "metadata": {},
   "outputs": [],
   "source": [
    "print('max :', rc_proj[:,:,0].max(), 'min:', rc_proj[:,:,0].min())"
   ]
  },
  {
   "cell_type": "code",
   "execution_count": 38,
   "metadata": {},
   "outputs": [
    {
     "data": {
      "text/plain": [
       "tensor([[-77, -76, -75,  ..., 619, 620, 621],\n",
       "        [-46, -76, -75,  ..., 619, 620, 621],\n",
       "        [-46, -45, -75,  ..., 619, 620, 621],\n",
       "        ...,\n",
       "        [-46, -45, -44,  ..., 619, 620, 621],\n",
       "        [-46, -45, -44,  ..., 619, 620, 621],\n",
       "        [-46, -45, -44,  ..., 619, 620, 621]])"
      ]
     },
     "execution_count": 38,
     "metadata": {},
     "output_type": "execute_result"
    }
   ],
   "source": [
    "rc_proj[:,:,0].long()"
   ]
  },
  {
   "cell_type": "code",
   "execution_count": null,
   "metadata": {},
   "outputs": [],
   "source": []
  },
  {
   "cell_type": "code",
   "execution_count": 47,
   "metadata": {},
   "outputs": [],
   "source": [
    "illum_img = ill[rc_proj[:,:,1].long(), rc_proj[:,:,0].long()]"
   ]
  },
  {
   "cell_type": "code",
   "execution_count": 40,
   "metadata": {},
   "outputs": [
    {
     "data": {
      "text/plain": [
       "<matplotlib.image.AxesImage at 0x1a7a97bf4c8>"
      ]
     },
     "execution_count": 40,
     "metadata": {},
     "output_type": "execute_result"
    },
    {
     "data": {
      "image/png": "[encoded data removed]",
      "text/plain": [
       "<Figure size 1000x500 with 1 Axes>"
      ]
     },
     "metadata": {},
     "output_type": "display_data"
    }
   ],
   "source": [
    "plt.figure(figsize=(10,5))\n",
    "plt.imshow(illum_img[:,:,:])"
   ]
  },
  {
   "cell_type": "code",
   "execution_count": 42,
   "metadata": {},
   "outputs": [
    {
     "data": {
      "text/plain": [
       "array([[[0., 0., 0.],\n",
       "        [0., 0., 0.],\n",
       "        [0., 0., 0.],\n",
       "        ...,\n",
       "        [1., 1., 1.],\n",
       "        [1., 1., 1.],\n",
       "        [1., 1., 1.]],\n",
       "\n",
       "       [[1., 1., 1.],\n",
       "        [0., 0., 0.],\n",
       "        [0., 0., 0.],\n",
       "        ...,\n",
       "        [1., 1., 1.],\n",
       "        [1., 1., 1.],\n",
       "        [1., 1., 1.]],\n",
       "\n",
       "       [[1., 1., 1.],\n",
       "        [1., 1., 1.],\n",
       "        [0., 0., 0.],\n",
       "        ...,\n",
       "        [1., 1., 1.],\n",
       "        [1., 1., 1.],\n",
       "        [1., 1., 1.]],\n",
       "\n",
       "       ...,\n",
       "\n",
       "       [[1., 1., 1.],\n",
       "        [1., 1., 1.],\n",
       "        [1., 1., 1.],\n",
       "        ...,\n",
       "        [1., 1., 1.],\n",
       "        [1., 1., 1.],\n",
       "        [1., 1., 1.]],\n",
       "\n",
       "       [[1., 1., 1.],\n",
       "        [1., 1., 1.],\n",
       "        [1., 1., 1.],\n",
       "        ...,\n",
       "        [1., 1., 1.],\n",
       "        [1., 1., 1.],\n",
       "        [1., 1., 1.]],\n",
       "\n",
       "       [[1., 1., 1.],\n",
       "        [1., 1., 1.],\n",
       "        [1., 1., 1.],\n",
       "        ...,\n",
       "        [1., 1., 1.],\n",
       "        [1., 1., 1.],\n",
       "        [1., 1., 1.]]], dtype=float32)"
      ]
     },
     "execution_count": 42,
     "metadata": {},
     "output_type": "execute_result"
    }
   ],
   "source": [
    "illum_img"
   ]
  },
  {
   "cell_type": "markdown",
   "metadata": {},
   "source": [
    "## Bring occlusion map"
   ]
  },
  {
   "cell_type": "code",
   "execution_count": null,
   "metadata": {},
   "outputs": [],
   "source": [
    "occlusion = read_exr_as_np(0, \"Occlusion\").astype(np.float32)\n",
    "occlusion = torch.tensor(occlusion)\n",
    "\n",
    "plt.figure(figsize=(10,5))\n",
    "plt.imshow(occlusion[:,:,0])\n",
    "plt.colorbar()"
   ]
  },
  {
   "cell_type": "code",
   "execution_count": null,
   "metadata": {},
   "outputs": [],
   "source": [
    "occlusion = occlusion.reshape(640*640,3)\n",
    "occlusion.shape\n",
    "occlusion.mean()"
   ]
  },
  {
   "cell_type": "code",
   "execution_count": null,
   "metadata": {},
   "outputs": [],
   "source": [
    "mask_0 = (occlusion[:,:] <= 0.8)  #  0.5보다 작은 숫자들 즉, true 인 곳에 0을 넣기\n",
    "mask_1 = (occlusion[:,:] > 0.8)\n",
    "\n",
    "occ = np.ma.array(occlusion, mask=mask_0)\n",
    "occ = occ.filled(fill_value=0.0)\n",
    "\n",
    "occ = np.ma.array(occ, mask=mask_1)\n",
    "occ = occ.filled(fill_value=1.0)\n",
    "\n",
    "occ = occ.reshape(640,640,3)"
   ]
  },
  {
   "cell_type": "code",
   "execution_count": null,
   "metadata": {},
   "outputs": [],
   "source": [
    "plt.figure(figsize=(10,5))\n",
    "plt.imshow(occ), plt.colorbar()"
   ]
  },
  {
   "cell_type": "markdown",
   "metadata": {},
   "source": [
    "## Illum with Occlusion"
   ]
  },
  {
   "cell_type": "code",
   "execution_count": null,
   "metadata": {},
   "outputs": [],
   "source": [
    "illum_img.shape"
   ]
  },
  {
   "cell_type": "code",
   "execution_count": null,
   "metadata": {},
   "outputs": [],
   "source": [
    "occ.shape"
   ]
  },
  {
   "cell_type": "code",
   "execution_count": null,
   "metadata": {},
   "outputs": [],
   "source": [
    "illum_img_w_occ = illum_img * occ\n",
    "\n",
    "plt.figure(figsize=(10,5))\n",
    "plt.imshow(illum_img_w_occ)"
   ]
  },
  {
   "cell_type": "code",
   "execution_count": null,
   "metadata": {},
   "outputs": [],
   "source": [
    "type(illum_img_w_occ)"
   ]
  }
 ],
 "metadata": {
  "kernelspec": {
   "display_name": "Python 3.7.13 ('HyperImaging')",
   "language": "python",
   "name": "python3"
  },
  "language_info": {
   "codemirror_mode": {
    "name": "ipython",
    "version": 3
   },
   "file_extension": ".py",
   "mimetype": "text/x-python",
   "name": "python",
   "nbconvert_exporter": "python",
   "pygments_lexer": "ipython3",
   "version": "3.7.13 (default, Mar 28 2022, 08:03:21) [MSC v.1916 64 bit (AMD64)]"
  },
  "orig_nbformat": 4,
  "vscode": {
   "interpreter": {
    "hash": "e8cf70f61cfe72a4f8190e2e208b2f51629869aacaf20dcade6a2849e98c1eaf"
   }
  }
 },
 "nbformat": 4,
 "nbformat_minor": 2
}
