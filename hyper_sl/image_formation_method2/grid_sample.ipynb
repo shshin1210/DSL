{
 "cells": [
  {
   "cell_type": "code",
   "execution_count": 127,
   "metadata": {},
   "outputs": [],
   "source": [
    "import numpy as np\n",
    "import torch\n",
    "import matplotlib.pyplot as plt"
   ]
  },
  {
   "cell_type": "code",
   "execution_count": 128,
   "metadata": {},
   "outputs": [],
   "source": [
    "# data\n",
    "illum_hyp_unsq = torch.tensor(np.load('../../illum_hyp_unsq.npy'))\n",
    "illum_img = torch.tensor(np.load('../../illum_img.npy'))\n",
    "uv1 = torch.tensor(np.load('../../uv1.npy'))"
   ]
  },
  {
   "cell_type": "code",
   "execution_count": 129,
   "metadata": {},
   "outputs": [],
   "source": [
    "uv1_reshape = uv1.reshape(1, 3, 25, 3, 580, 890)"
   ]
  },
  {
   "cell_type": "code",
   "execution_count": 130,
   "metadata": {},
   "outputs": [],
   "source": [
    "uv1_integer = uv1_reshape.long()\n",
    "u_float = (uv1_reshape - uv1_integer)[:,:,:,1]\n",
    "v_float = (uv1_reshape - uv1_integer)[:,:,:,0]"
   ]
  },
  {
   "cell_type": "code",
   "execution_count": 131,
   "metadata": {},
   "outputs": [],
   "source": [
    "top_left_weight = (1-u_float) * (1-v_float)\n",
    "top_right_weight = u_float * (1-v_float)\n",
    "bott_left_weight = (1-u_float) * v_float\n",
    "bott_right_weight = u_float * v_float"
   ]
  },
  {
   "cell_type": "code",
   "execution_count": 132,
   "metadata": {},
   "outputs": [
    {
     "data": {
      "text/plain": [
       "torch.Size([1, 3, 25, 580, 890])"
      ]
     },
     "execution_count": 132,
     "metadata": {},
     "output_type": "execute_result"
    }
   ],
   "source": [
    "top_left_weight.shape"
   ]
  },
  {
   "cell_type": "code",
   "execution_count": 133,
   "metadata": {},
   "outputs": [],
   "source": [
    "# args\n",
    "proj_H, proj_W = 360, 640\n",
    "batch_size = 1\n",
    "wvls_n = 25\n",
    "m_n= 3\n",
    "pixel_num = 580*890"
   ]
  },
  {
   "cell_type": "code",
   "execution_count": 134,
   "metadata": {},
   "outputs": [],
   "source": [
    "def grid_sample(uv1, corner):\n",
    "        \n",
    "        if corner == 'A':\n",
    "                r_proj, c_proj = uv1[:,:,:,1], uv1[:,:,:,0]\n",
    "                cond = (0<= r_proj)*(r_proj < proj_H)*(0<=c_proj)*(c_proj< proj_W) \n",
    "        elif corner == 'B':\n",
    "                r_proj, c_proj = uv1[:,:,:,1], uv1[:,:,:,0]\n",
    "                r_proj += 1\n",
    "                cond = (0<= r_proj)*(r_proj < proj_H)*(0<=c_proj)*(c_proj< proj_W) \n",
    "        elif corner == 'C':\n",
    "                r_proj, c_proj = uv1[:,:,:,1], uv1[:,:,:,0]\n",
    "                c_proj += 1\n",
    "                cond = (0<= r_proj)*(r_proj < proj_H)*(0<=c_proj)*(c_proj< proj_W) \n",
    "        else:\n",
    "                r_proj, c_proj = uv1[:,:,:,1], uv1[:,:,:,0]\n",
    "                r_proj += 1\n",
    "                c_proj += 1\n",
    "                cond = (0<= r_proj)*(r_proj < proj_H)*(0<=c_proj)*(c_proj< proj_W) \n",
    "        \n",
    "        r_proj_valid, c_proj_valid = r_proj[cond], c_proj[cond]\n",
    "\n",
    "        batch_samples = torch.linspace(0, batch_size-1, batch_size)\n",
    "        wvl_samples = torch.linspace(0, wvls_n-1, wvls_n)\n",
    "        m_samples = torch.linspace(0, m_n-1, m_n)\n",
    "\n",
    "        pixel_samples = torch.linspace(0, pixel_num-1, pixel_num)\n",
    "        grid_b, grid_m, grid_w, grid_pixel = torch.meshgrid(batch_samples,m_samples,wvl_samples,pixel_samples,indexing='ij')\n",
    "\n",
    "        grid_b_valid = grid_b.reshape(batch_size, m_n, wvls_n, pixel_num)[cond]\n",
    "        grid_m_valid = grid_m.reshape(batch_size, m_n, wvls_n, pixel_num)[cond]\n",
    "        grid_w_valid = grid_w.reshape(batch_size, m_n, wvls_n, pixel_num)[cond]\n",
    "                \n",
    "        new_idx = m_n * wvls_n * proj_H * proj_W * grid_b_valid \\\n",
    "                + wvls_n * proj_H * proj_W * grid_m_valid \\\n",
    "                + proj_H * proj_W * grid_w_valid \\\n",
    "                + proj_W * r_proj_valid \\\n",
    "                + c_proj_valid\n",
    "\n",
    "        return new_idx.long(), cond"
   ]
  },
  {
   "cell_type": "code",
   "execution_count": 135,
   "metadata": {},
   "outputs": [],
   "source": [
    "A, A_cond = grid_sample(uv1.long(), 'A')\n",
    "B, B_cond = grid_sample(uv1.long(), 'B')\n",
    "C, C_cond = grid_sample(uv1.long(), 'C')\n",
    "D, D_cond = grid_sample(uv1.long(), 'D')"
   ]
  },
  {
   "cell_type": "code",
   "execution_count": 136,
   "metadata": {},
   "outputs": [],
   "source": [
    "hyp_f = illum_hyp_unsq.flatten()"
   ]
  },
  {
   "cell_type": "code",
   "execution_count": 137,
   "metadata": {},
   "outputs": [],
   "source": [
    "hyp_f = illum_hyp_unsq.flatten()\n",
    "\n",
    "# 여기서 grid sampling?\n",
    "valid_pattern_img_A = hyp_f[A]\n",
    "valid_pattern_img_B = hyp_f[B]\n",
    "valid_pattern_img_C = hyp_f[C]\n",
    "valid_pattern_img_D = hyp_f[D]\n",
    "\n",
    "illum_img[A_cond.flatten()] = valid_pattern_img_A.flatten()\n",
    "illum_img_A = top_left_weight.flatten() * illum_img\n",
    "\n",
    "illum_img[B_cond.flatten()] = valid_pattern_img_B.flatten()\n",
    "illum_img_B = top_right_weight.flatten() * illum_img\n",
    "\n",
    "illum_img[C_cond.flatten()] = valid_pattern_img_C.flatten()\n",
    "illum_img_C = bott_left_weight.flatten() * illum_img\n",
    "\n",
    "illum_img[D_cond.flatten()] = valid_pattern_img_D.flatten()\n",
    "illum_img_D = bott_right_weight.flatten() * illum_img"
   ]
  },
  {
   "cell_type": "code",
   "execution_count": 138,
   "metadata": {},
   "outputs": [],
   "source": [
    "illum_img_final = illum_img_A + illum_img_B + illum_img_C + illum_img_D"
   ]
  },
  {
   "cell_type": "code",
   "execution_count": 139,
   "metadata": {},
   "outputs": [],
   "source": [
    "illum_img_final = illum_img_final.reshape(batch_size, m_n, wvls_n, pixel_num)"
   ]
  },
  {
   "cell_type": "code",
   "execution_count": 140,
   "metadata": {},
   "outputs": [],
   "source": [
    "illums_m_img = illum_img_final.sum(axis = 1).reshape(batch_size, wvls_n, pixel_num).permute(0,2,1)"
   ]
  },
  {
   "cell_type": "code",
   "execution_count": 141,
   "metadata": {},
   "outputs": [
    {
     "data": {
      "image/png": "[encoded data removed]",
      "text/plain": [
       "<Figure size 640x480 with 2 Axes>"
      ]
     },
     "metadata": {},
     "output_type": "display_data"
    }
   ],
   "source": [
    "plt.figure()\n",
    "plt.imshow(illums_m_img.numpy().reshape(580, 890, 25)[:,:,0]), plt.colorbar()\n",
    "plt.show()"
   ]
  }
 ],
 "metadata": {
  "kernelspec": {
   "display_name": "hyper3d",
   "language": "python",
   "name": "python3"
  },
  "language_info": {
   "codemirror_mode": {
    "name": "ipython",
    "version": 3
   },
   "file_extension": ".py",
   "mimetype": "text/x-python",
   "name": "python",
   "nbconvert_exporter": "python",
   "pygments_lexer": "ipython3",
   "version": "3.7.16"
  },
  "orig_nbformat": 4
 },
 "nbformat": 4,
 "nbformat_minor": 2
}
