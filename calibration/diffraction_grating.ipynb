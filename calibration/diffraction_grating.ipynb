{
 "cells": [
  {
   "cell_type": "code",
   "execution_count": 1,
   "metadata": {},
   "outputs": [
    {
     "name": "stderr",
     "output_type": "stream",
     "text": [
      "/home/shshin/.conda/envs/hyper3d/lib/python3.7/site-packages/tqdm/auto.py:22: TqdmWarning: IProgress not found. Please update jupyter and ipywidgets. See https://ipywidgets.readthedocs.io/en/stable/user_install.html\n",
      "  from .autonotebook import tqdm as notebook_tqdm\n"
     ]
    }
   ],
   "source": [
    "import torch, os\n",
    "import sys, cv2\n",
    "import matplotlib.pyplot as plt\n",
    "\n",
    "sys.path.append('/home/shshin/Scalable-Hyperspectral-3D-Imaging')\n",
    "from hyper_sl.utils import _constants as C\n",
    "\n",
    "device = 'cuda'"
   ]
  },
  {
   "attachments": {},
   "cell_type": "markdown",
   "metadata": {},
   "source": [
    "### grid pattern 생성"
   ]
  },
  {
   "cell_type": "code",
   "execution_count": 2,
   "metadata": {},
   "outputs": [],
   "source": [
    "from PIL import Image, ImageDraw\n",
    "\n",
    "# Define the size of the image\n",
    "width = 1280\n",
    "height = 720\n",
    "\n",
    "# Define the size of each dot\n",
    "dot_size = 3\n",
    "margin = 200\n",
    "\n",
    "# Create a new image with a white background\n",
    "img = Image.new('RGB', (width, height), color='black')\n",
    "\n",
    "# Get a drawing context for the image\n",
    "draw = ImageDraw.Draw(img)\n",
    "\n",
    "# Draw dots on the image in a grid pattern\n",
    "for x in range(0, width, dot_size + margin):\n",
    "    for y in range(0, height, dot_size + margin):\n",
    "        draw.ellipse((x, y, x+dot_size, y+dot_size), fill='white')\n",
    "        \n",
    "# Save the image\n",
    "img.save('grid_dot_pattern.png')"
   ]
  },
  {
   "attachments": {},
   "cell_type": "markdown",
   "metadata": {},
   "source": [
    "#### Input pixel location where white dots exist"
   ]
  },
  {
   "cell_type": "code",
   "execution_count": 63,
   "metadata": {},
   "outputs": [
    {
     "data": {
      "image/png": "[encoded data removed]",
      "text/plain": [
       "<Figure size 640x480 with 1 Axes>"
      ]
     },
     "metadata": {},
     "output_type": "display_data"
    }
   ],
   "source": [
    "import torch\n",
    "import torch.nn.functional as F\n",
    "import matplotlib.pyplot as plt\n",
    "\n",
    "# set illum dimensions and dot spacing\n",
    "illum_height = 720\n",
    "illum_width = 1280\n",
    "dot_size = 5\n",
    "\n",
    "# create tensor representing black illum\n",
    "illum = torch.zeros((illum_height, illum_width))\n",
    "\n",
    "\n",
    "# get user input for circle center locations\n",
    "centers = []\n",
    "while True:\n",
    "    center_input = input(\"Enter the x,y coordinates of a circle center (or 'done' to finish): \")\n",
    "    if center_input == 'done':\n",
    "        break\n",
    "    else:\n",
    "        x, y = center_input.split(',')\n",
    "        centers.append((int(x), int(y)))\n",
    "\n",
    "# loop through the illum and set pixels within the circles to white\n",
    "for i in range(illum_height):\n",
    "    for j in range(illum_width):\n",
    "        for center in centers:\n",
    "            if (i - center[0])**2 + (j - center[1])**2 <= dot_size**2:\n",
    "                illum[i, j] = 1\n",
    "\n",
    "# resize the illum to a square and convert to a PyTorch variable\n",
    "illum = illum.unsqueeze(0).unsqueeze(0)\n",
    "illum = F.interpolate(illum, size=(illum_height, illum_width))\n",
    "illum = illum.squeeze()\n",
    "illum_np = illum.squeeze().numpy()\n",
    "\n",
    "# plot the illum using matplotlib\n",
    "plt.imshow(1-illum, cmap='binary')\n",
    "cv2.imwrite('dot.png',illum_np*255.)\n",
    "# plt.imshow(illum), plt.colorbar()\n",
    "plt.show()"
   ]
  },
  {
   "cell_type": "code",
   "execution_count": 8,
   "metadata": {},
   "outputs": [
    {
     "data": {
      "text/plain": [
       "True"
      ]
     },
     "execution_count": 8,
     "metadata": {},
     "output_type": "execute_result"
    }
   ],
   "source": [
    "import torch\n",
    "import torch.nn.functional as F\n",
    "import matplotlib.pyplot as plt\n",
    "\n",
    "# set illum dimensions and dot spacing\n",
    "illum_height = 720\n",
    "illum_width = 1280\n",
    "\n",
    "# create tensor representing black illum\n",
    "illum = torch.zeros((illum_height, illum_width))\n",
    "\n",
    "\n",
    "# get user input for circle center locations\n",
    "illum[int(illum_height/2)-1:int(illum_height/2)+1,int(illum_width/2)-1:int(illum_width/2)+1]=1\n",
    "illum_np = illum.numpy()\n",
    "cv2.imwrite('dot.png',illum_np*255.)"
   ]
  },
  {
   "attachments": {},
   "cell_type": "markdown",
   "metadata": {},
   "source": [
    "### Camera captured Image 가져오기"
   ]
  },
  {
   "cell_type": "code",
   "execution_count": 5,
   "metadata": {},
   "outputs": [
    {
     "data": {
      "text/plain": [
       "(1536, 2048)"
      ]
     },
     "execution_count": 5,
     "metadata": {},
     "output_type": "execute_result"
    }
   ],
   "source": [
    "def bring_cap_img():\n",
    "    img_path = ''\n",
    "    img_fn = ''\n",
    "    captured_img = cv2.imread(os.path.join(img_path, img_fn), -1)\n",
    "    captured_img = torch.tensor(captured_img)\n",
    "    \n",
    "    return captured_img"
   ]
  },
  {
   "cell_type": "code",
   "execution_count": null,
   "metadata": {},
   "outputs": [],
   "source": [
    "def find_idx_real():\n",
    "    capt_img = bring_cap_img()\n",
    "    idx = torch.where(capt_img == 1)\n",
    "    \n",
    "    return idx"
   ]
  },
  {
   "attachments": {},
   "cell_type": "markdown",
   "metadata": {},
   "source": [
    "## Depth 알아내기"
   ]
  },
  {
   "cell_type": "code",
   "execution_count": 6,
   "metadata": {},
   "outputs": [],
   "source": [
    "# Intrinsic of projector\n",
    "\n",
    "proj_sensor_diag = C.PROJ_DIAG *1e-3\n",
    "proj_focal_length = C.PROJ_FOCAL_LENGTH *1e-3\n",
    "proj_H = 720\n",
    "proj_W = 1280\n",
    "sensor_width_proj = torch.sin(torch.atan2(torch.tensor(proj_H),torch.tensor(proj_H)))*proj_sensor_diag\n",
    "proj_pitch = sensor_width_proj/proj_H"
   ]
  },
  {
   "cell_type": "code",
   "execution_count": 7,
   "metadata": {},
   "outputs": [],
   "source": [
    "# Intrinsic of camera\n",
    "\n",
    "cam_H, cam_W = 1536, 2048\n",
    "sensor_width_cam = 5.32 * 1e-3\n",
    "cam_pitch = sensor_width_cam / cam_H\n",
    "focal_length_cam = 8 * 1e-3"
   ]
  },
  {
   "attachments": {},
   "cell_type": "markdown",
   "metadata": {},
   "source": [
    "##### Unprojection"
   ]
  },
  {
   "cell_type": "code",
   "execution_count": 8,
   "metadata": {},
   "outputs": [],
   "source": [
    "def unprojection(depth):\n",
    "        \"\"\" Unproject camera sensor coord plane to world coord\n",
    "\n",
    "            input : depth\n",
    "            return : world coordinate X,Y,Z\n",
    "            \n",
    "        \"\"\"\n",
    "        c, r = torch.meshgrid(torch.linspace(0,cam_H-1,cam_H), torch.linspace(0,cam_W-1,cam_W), indexing='ij') # 행렬 indexing\n",
    "        \n",
    "        x_c, y_c = (r-cam_W/2)*cam_pitch, (c-cam_H/2)*cam_pitch\n",
    "        x_c, y_c = x_c.reshape(cam_W*cam_H), y_c.reshape(cam_W*cam_H)\n",
    "        # z_c = torch.zeros_like(x_c)\n",
    "        # z_c[:] = -focal_length_cam\n",
    "        \n",
    "        X,Y,Z = -x_c/focal_length_cam*depth, -y_c/focal_length_cam*depth, -depth\n",
    "        \n",
    "        return X,Y,Z"
   ]
  },
  {
   "attachments": {},
   "cell_type": "markdown",
   "metadata": {},
   "source": [
    "##### extrinsic matrix of projector"
   ]
  },
  {
   "cell_type": "code",
   "execution_count": 9,
   "metadata": {},
   "outputs": [],
   "source": [
    "def extrinsic_proj_real():\n",
    "        \"\"\" World coordinate to real proj's coordinate\n",
    "        \n",
    "        \"\"\"\n",
    "        extrinsic_proj_real = torch.zeros((4,4)).to(device)\n",
    "        # no rotation\n",
    "        extrinsic_proj_real[0,0] = 1 \n",
    "        extrinsic_proj_real[1,1] = 1\n",
    "        extrinsic_proj_real[2,2] = 1\n",
    "\n",
    "        # translate + x 50e-3\n",
    "        extrinsic_proj_real[0,3] = 50e-3 \n",
    "        extrinsic_proj_real[3,3] = 1\n",
    "        \n",
    "        return extrinsic_proj_real"
   ]
  },
  {
   "attachments": {},
   "cell_type": "markdown",
   "metadata": {},
   "source": [
    "##### Projection"
   ]
  },
  {
   "cell_type": "code",
   "execution_count": 10,
   "metadata": {},
   "outputs": [],
   "source": [
    "def projection(X,Y,Z):\n",
    "        \"\"\"\n",
    "            input : object's XYZ coordinate\n",
    "                    extrinsic matrix of rproj to vproj (vproj)\n",
    "                    focal length of virtual projector\n",
    "                    \n",
    "            outputs : virtual projector sensor coordinate (in virtual proj's coordinate)\n",
    "        \"\"\"\n",
    "\n",
    "        # focal_length_proj_virtual : 3, 77\n",
    "\n",
    "        X,Y,Z = X.flatten(), Y.flatten(), Z.flatten()\n",
    "        XYZ1 = torch.stack((X,Y,Z,torch.ones_like(X)), dim = 0).to(device=device)\n",
    "\n",
    "        # XYZ coords in virtual proj's coordinate                   \n",
    "        XYZ_vir = torch.linalg.inv(extrinsic_proj_real())@XYZ1\n",
    "        XYZ_vir = XYZ_vir[:3,:] \n",
    "        \n",
    "        print(XYZ_vir.shape)\n",
    "        XYZ_vir_z = torch.unsqueeze(XYZ_vir[2,:] , dim = 0)\n",
    "\n",
    "        xy_proj = (-proj_focal_length*XYZ_vir[:2,:]/XYZ_vir_z)\n",
    "\n",
    "        return xy_proj "
   ]
  },
  {
   "attachments": {},
   "cell_type": "markdown",
   "metadata": {},
   "source": [
    "##### find the idx of white camera pixel"
   ]
  },
  {
   "cell_type": "code",
   "execution_count": 11,
   "metadata": {},
   "outputs": [],
   "source": [
    "def find_idx(xy_proj, illum):\n",
    "    \n",
    "    r_proj = xy_proj[0,:]/proj_pitch + proj_W/2\n",
    "    c_proj = xy_proj[1,:]/proj_pitch + proj_H/2\n",
    "\n",
    "    rc_proj = torch.cat((r_proj.unsqueeze(dim = 1), c_proj.unsqueeze(dim =1)), dim = 1)\n",
    "\n",
    "    r_proj, c_proj = rc_proj[...,1], rc_proj[...,0]\n",
    "    \n",
    "    cond = (0<= r_proj)*(r_proj < proj_H)*(0<=c_proj)*(c_proj< proj_W)\n",
    "    r_proj_valid, c_proj_valid = r_proj[cond], c_proj[cond]\n",
    "    r_proj_valid, c_proj_valid = torch.tensor(r_proj_valid), torch.tensor(c_proj_valid)  # TODO: do we need this?\n",
    "\n",
    "    new_idx = proj_W * r_proj_valid.long() + c_proj_valid.long()      \n",
    "    \n",
    "    illum_img = torch.zeros(size=(640,640))\n",
    "\n",
    "    illum = illum.reshape(proj_H*proj_W).to(device=device)\n",
    "    valid_pattern_img=illum[new_idx]\n",
    "\n",
    "    illum_img = torch.zeros(size=(cam_H*cam_W,), device = device)\n",
    "    illum_img[cond.flatten()] = valid_pattern_img\n",
    "    \n",
    "    illum_img = illum_img.reshape(cam_H, cam_W)\n",
    "    \n",
    "    check = torch.where(illum_img == 1)\n",
    "    \n",
    "    return check, illum_img"
   ]
  },
  {
   "attachments": {},
   "cell_type": "markdown",
   "metadata": {},
   "source": [
    "### Depth value to be optimized"
   ]
  },
  {
   "cell_type": "code",
   "execution_count": 12,
   "metadata": {},
   "outputs": [
    {
     "name": "stdout",
     "output_type": "stream",
     "text": [
      "initialized depth value :  tensor([-1.4431], device='cuda:0', requires_grad=True)\n"
     ]
    }
   ],
   "source": [
    "# optimize depth value\n",
    "\n",
    "epoch = 1000\n",
    "loss_f = torch.nn.L1Loss()\n",
    "\n",
    "lr = 1e-3\n",
    "decay_step = 500\n",
    "\n",
    "losses = []\n",
    "\n",
    "depth_value = torch.randn(1, requires_grad = True, device = device)\n",
    "print('initialized depth value : ', depth_value)\n",
    "\n",
    "optimizer = torch.optim.Adam([depth_value], lr = lr)\n",
    "scheduler = torch.optim.lr_scheduler.StepLR(optimizer=optimizer, step_size=decay_step, gamma = 0.5)\n",
    "\n",
    "for i in range(epoch):\n",
    "    # depth value\n",
    "    depth = torch.zeros(size=(cam_H* cam_W,))\n",
    "    depth[:] = depth_value\n",
    "\n",
    "    # Unproject to 3D points\n",
    "    X,Y,Z = unprojection(depth=depth)\n",
    "\n",
    "    # Projector to projector\n",
    "    xy_proj = projection(X,Y,Z)\n",
    "\n",
    "    # find camera index\n",
    "    cam_idx, illum_img = find_idx(xy_proj, illum)\n",
    "\n",
    "    # index of real captured img\n",
    "    real_idx = find_idx_real()\n",
    "\n",
    "    loss = loss_f(cam_idx,real_idx)\n",
    "    \n",
    "    loss.backward()\n",
    "    losses.append(loss.item())\n",
    "    optimizer.step()\n",
    "    scheduler.step()\n",
    "    optimizer.zero_grad()\n",
    "    \n",
    "    if i % 100 == 0:\n",
    "            print(f\" Epoch : {epoch}, Loss: {loss.item()}, LR: {optimizer.param_groups[0]['lr']}\")"
   ]
  },
  {
   "attachments": {},
   "cell_type": "markdown",
   "metadata": {},
   "source": [
    "## Diffraction grating calibration"
   ]
  },
  {
   "attachments": {},
   "cell_type": "markdown",
   "metadata": {},
   "source": [
    "#### camera pixel position from catured image"
   ]
  },
  {
   "cell_type": "code",
   "execution_count": 17,
   "metadata": {},
   "outputs": [],
   "source": [
    "# 특정 파장의 빛이 있는 camera pixel 위치 알아내기?"
   ]
  },
  {
   "cell_type": "code",
   "execution_count": null,
   "metadata": {},
   "outputs": [],
   "source": []
  },
  {
   "cell_type": "code",
   "execution_count": null,
   "metadata": {},
   "outputs": [],
   "source": []
  },
  {
   "cell_type": "code",
   "execution_count": null,
   "metadata": {},
   "outputs": [],
   "source": []
  },
  {
   "attachments": {},
   "cell_type": "markdown",
   "metadata": {},
   "source": [
    "#### camera pixel position from unproj & proj method"
   ]
  },
  {
   "cell_type": "code",
   "execution_count": null,
   "metadata": {},
   "outputs": [],
   "source": []
  },
  {
   "cell_type": "code",
   "execution_count": null,
   "metadata": {},
   "outputs": [],
   "source": []
  },
  {
   "cell_type": "code",
   "execution_count": null,
   "metadata": {},
   "outputs": [],
   "source": []
  },
  {
   "cell_type": "code",
   "execution_count": null,
   "metadata": {},
   "outputs": [],
   "source": []
  },
  {
   "attachments": {},
   "cell_type": "markdown",
   "metadata": {},
   "source": [
    "#### Optimization"
   ]
  },
  {
   "cell_type": "code",
   "execution_count": null,
   "metadata": {},
   "outputs": [],
   "source": []
  },
  {
   "cell_type": "code",
   "execution_count": null,
   "metadata": {},
   "outputs": [],
   "source": []
  },
  {
   "cell_type": "code",
   "execution_count": null,
   "metadata": {},
   "outputs": [],
   "source": []
  },
  {
   "cell_type": "code",
   "execution_count": null,
   "metadata": {},
   "outputs": [],
   "source": []
  }
 ],
 "metadata": {
  "kernelspec": {
   "display_name": "hyper3d",
   "language": "python",
   "name": "python3"
  },
  "language_info": {
   "codemirror_mode": {
    "name": "ipython",
    "version": 3
   },
   "file_extension": ".py",
   "mimetype": "text/x-python",
   "name": "python",
   "nbconvert_exporter": "python",
   "pygments_lexer": "ipython3",
   "version": "3.7.16"
  },
  "orig_nbformat": 4,
  "vscode": {
   "interpreter": {
    "hash": "9fa623eb3390c47c076f568bf88f24d6007a788d3fe47958c8bfce56c724a2ed"
   }
  }
 },
 "nbformat": 4,
 "nbformat_minor": 2
}
