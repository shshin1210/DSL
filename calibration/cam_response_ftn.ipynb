{
 "cells": [
  {
   "cell_type": "code",
   "execution_count": 2,
   "metadata": {},
   "outputs": [],
   "source": [
    "import numpy as np"
   ]
  },
  {
   "cell_type": "code",
   "execution_count": 3,
   "metadata": {},
   "outputs": [],
   "source": [
    "dg_intensity = np.load(\"C:/Users/owner/Documents/GitHub/Scalable-Hyp-3D-Imaging/dataset/image_formation/intensity_dg.npy\")"
   ]
  },
  {
   "cell_type": "code",
   "execution_count": 4,
   "metadata": {},
   "outputs": [
    {
     "data": {
      "text/plain": [
       "array([[-0.05369972,  0.04875561,  0.10653906,  0.13349999,  0.14132513,\n",
       "         0.13953814,  0.1355    ,  0.13440883,  0.1393    ,  0.15104605,\n",
       "         0.16835671,  0.18778983,  0.20458354,  0.215175  ,  0.21803205,\n",
       "         0.21366453,  0.20461409,  0.19468607,  0.18662497,  0.18134631,\n",
       "         0.17792658,  0.17360324,  0.1637746 ,  0.142     ,  0.09999969],\n",
       "       [ 1.        ,  1.        ,  1.        ,  1.        ,  1.        ,\n",
       "         1.        ,  1.        ,  1.        ,  1.        ,  1.        ,\n",
       "         1.        ,  1.        ,  1.        ,  1.        ,  1.        ,\n",
       "         1.        ,  1.        ,  1.        ,  1.        ,  1.        ,\n",
       "         1.        ,  1.        ,  1.        ,  1.        ,  1.        ],\n",
       "       [-0.05369972,  0.04875561,  0.10653906,  0.13349999,  0.14132513,\n",
       "         0.13953814,  0.1355    ,  0.13440883,  0.1393    ,  0.15104605,\n",
       "         0.16835671,  0.18778983,  0.20458354,  0.215175  ,  0.21803205,\n",
       "         0.21366453,  0.20461409,  0.19468607,  0.18662497,  0.18134631,\n",
       "         0.17792658,  0.17360324,  0.1637746 ,  0.142     ,  0.09999969]])"
      ]
     },
     "execution_count": 4,
     "metadata": {},
     "output_type": "execute_result"
    }
   ],
   "source": [
    "dg_intensity"
   ]
  },
  {
   "cell_type": "code",
   "execution_count": 5,
   "metadata": {},
   "outputs": [],
   "source": [
    "dg_intensity_21 = dg_intensity[2][3:24]"
   ]
  },
  {
   "cell_type": "code",
   "execution_count": 6,
   "metadata": {},
   "outputs": [],
   "source": [
    "white_box_p = np.array([0.000045513,\n",
    "0.00011785,\n",
    "0.000450827,\n",
    "0.00192969,\n",
    "0.00646062,\n",
    "0.0121806,\n",
    "0.00988155,\n",
    "0.00384551,\n",
    "0.0012909,\n",
    "0.00158269,\n",
    "0.00342962,\n",
    "0.0048454,\n",
    "0.00536611,\n",
    "0.00552526,\n",
    "0.00547096,\n",
    "0.00517708,\n",
    "0.00465882,\n",
    "0.00409307,\n",
    "0.00335211,\n",
    "0.00229322,\n",
    "0.00148828,\n",
    "0.00177185,\n",
    "0.0041034,\n",
    "0.00914754,\n",
    "0.00845859,\n",
    "0.00202013,\n",
    "0.00049117,\n",
    "0.000153816,\n",
    "0.0000572871,\n",
    "])"
   ]
  },
  {
   "cell_type": "code",
   "execution_count": 7,
   "metadata": {},
   "outputs": [
    {
     "data": {
      "text/plain": [
       "(29,)"
      ]
     },
     "execution_count": 7,
     "metadata": {},
     "output_type": "execute_result"
    }
   ],
   "source": [
    "white_box_p.shape"
   ]
  },
  {
   "cell_type": "code",
   "execution_count": 8,
   "metadata": {},
   "outputs": [],
   "source": [
    "white_box_p_21 = white_box_p[5:-3]"
   ]
  },
  {
   "cell_type": "code",
   "execution_count": 9,
   "metadata": {},
   "outputs": [
    {
     "data": {
      "text/plain": [
       "array([0.0121806 , 0.00988155, 0.00384551, 0.0012909 , 0.00158269,\n",
       "       0.00342962, 0.0048454 , 0.00536611, 0.00552526, 0.00547096,\n",
       "       0.00517708, 0.00465882, 0.00409307, 0.00335211, 0.00229322,\n",
       "       0.00148828, 0.00177185, 0.0041034 , 0.00914754, 0.00845859,\n",
       "       0.00202013])"
      ]
     },
     "execution_count": 9,
     "metadata": {},
     "output_type": "execute_result"
    }
   ],
   "source": [
    "white_box_p_21"
   ]
  },
  {
   "cell_type": "code",
   "execution_count": 10,
   "metadata": {},
   "outputs": [],
   "source": [
    "PE = white_box_p_21 * dg_intensity_21"
   ]
  },
  {
   "cell_type": "code",
   "execution_count": 11,
   "metadata": {},
   "outputs": [
    {
     "data": {
      "text/plain": [
       "array([0.13349999, 0.14132513, 0.13953814, 0.1355    , 0.13440883,\n",
       "       0.1393    , 0.15104605, 0.16835671, 0.18778983, 0.20458354,\n",
       "       0.215175  , 0.21803205, 0.21366453, 0.20461409, 0.19468607,\n",
       "       0.18662497, 0.18134631, 0.17792658, 0.17360324, 0.1637746 ,\n",
       "       0.142     ])"
      ]
     },
     "execution_count": 11,
     "metadata": {},
     "output_type": "execute_result"
    }
   ],
   "source": [
    "dg_intensity_21"
   ]
  },
  {
   "cell_type": "code",
   "execution_count": 12,
   "metadata": {},
   "outputs": [],
   "source": [
    "import cv2"
   ]
  },
  {
   "cell_type": "code",
   "execution_count": 13,
   "metadata": {},
   "outputs": [],
   "source": [
    "# img = cv2.imread(\"C:/Users/owner/Documents/GitHub/Scalable-Hyp-3D-Imaging/calibration/dispersion_20ms_crf_experiment.png\")\n",
    "img = cv2.imread(\"C:/Users/owner/Documents/GitHub/Scalable-Hyp-3D-Imaging/calibration/capture_0000.png\")\n",
    "img = cv2.cvtColor(img, cv2.COLOR_BGR2RGB)"
   ]
  },
  {
   "cell_type": "code",
   "execution_count": 14,
   "metadata": {},
   "outputs": [
    {
     "data": {
      "text/plain": [
       "(768, 1024, 3)"
      ]
     },
     "execution_count": 14,
     "metadata": {},
     "output_type": "execute_result"
    }
   ],
   "source": [
    "img.shape"
   ]
  },
  {
   "cell_type": "code",
   "execution_count": 15,
   "metadata": {},
   "outputs": [
    {
     "data": {
      "text/plain": [
       "array([ 36,  39, 250], dtype=uint8)"
      ]
     },
     "execution_count": 15,
     "metadata": {},
     "output_type": "execute_result"
    }
   ],
   "source": [
    "img[257,462]"
   ]
  },
  {
   "cell_type": "code",
   "execution_count": 16,
   "metadata": {},
   "outputs": [],
   "source": [
    "crf = np.zeros(shape=(21, 3))"
   ]
  },
  {
   "cell_type": "code",
   "execution_count": 17,
   "metadata": {},
   "outputs": [
    {
     "data": {
      "text/plain": [
       "(21,)"
      ]
     },
     "execution_count": 17,
     "metadata": {},
     "output_type": "execute_result"
    }
   ],
   "source": [
    "PE.shape"
   ]
  },
  {
   "cell_type": "code",
   "execution_count": 18,
   "metadata": {},
   "outputs": [],
   "source": [
    "nm_idx_x = np.array([462,454,446,438,430,419,411,403,395,387,378,370,362,354,346,337,329,321,313,305,297])"
   ]
  },
  {
   "cell_type": "code",
   "execution_count": 19,
   "metadata": {},
   "outputs": [
    {
     "data": {
      "text/plain": [
       "(21,)"
      ]
     },
     "execution_count": 19,
     "metadata": {},
     "output_type": "execute_result"
    }
   ],
   "source": [
    "nm_idx_x.shape"
   ]
  },
  {
   "cell_type": "code",
   "execution_count": 20,
   "metadata": {},
   "outputs": [
    {
     "name": "stderr",
     "output_type": "stream",
     "text": [
      "c:\\Users\\owner\\anaconda3\\envs\\hyper3d\\lib\\site-packages\\tqdm\\auto.py:21: TqdmWarning: IProgress not found. Please update jupyter and ipywidgets. See https://ipywidgets.readthedocs.io/en/stable/user_install.html\n",
      "  from .autonotebook import tqdm as notebook_tqdm\n"
     ]
    }
   ],
   "source": [
    "import torch\n",
    "wvl = torch.linspace(450, 650, 21)\n",
    "color = np.array(['R','G','B'])"
   ]
  },
  {
   "cell_type": "code",
   "execution_count": 21,
   "metadata": {},
   "outputs": [
    {
     "data": {
      "text/plain": [
       "tensor([450., 460., 470., 480., 490., 500., 510., 520., 530., 540., 550., 560.,\n",
       "        570., 580., 590., 600., 610., 620., 630., 640., 650.])"
      ]
     },
     "execution_count": 21,
     "metadata": {},
     "output_type": "execute_result"
    }
   ],
   "source": [
    "wvl"
   ]
  },
  {
   "cell_type": "code",
   "execution_count": 22,
   "metadata": {},
   "outputs": [
    {
     "data": {
      "text/plain": [
       "(255, 31)"
      ]
     },
     "execution_count": 22,
     "metadata": {},
     "output_type": "execute_result"
    }
   ],
   "source": [
    "max, min = img[257,297:462].max(), img[257,297:462].min()\n",
    "max, min"
   ]
  },
  {
   "cell_type": "code",
   "execution_count": 23,
   "metadata": {},
   "outputs": [],
   "source": [
    "for i in range(3):\n",
    "    for j in range(21):\n",
    "        # print(f'{wvl[j]}nm {color[i]}', img[257,nm_idx_x[j],i])\n",
    "        crf[j, i] = (img[257,nm_idx_x[j],i] - min)/(max-min) * PE[j]"
   ]
  },
  {
   "cell_type": "code",
   "execution_count": 24,
   "metadata": {},
   "outputs": [
    {
     "data": {
      "text/plain": [
       "(21, 3)"
      ]
     },
     "execution_count": 24,
     "metadata": {},
     "output_type": "execute_result"
    }
   ],
   "source": [
    "crf.shape"
   ]
  },
  {
   "cell_type": "code",
   "execution_count": 25,
   "metadata": {},
   "outputs": [],
   "source": [
    "import matplotlib.pyplot as plt"
   ]
  },
  {
   "cell_type": "code",
   "execution_count": 26,
   "metadata": {},
   "outputs": [
    {
     "data": {
      "text/plain": [
       "[<matplotlib.lines.Line2D at 0x129953dad08>,\n",
       " <matplotlib.lines.Line2D at 0x129953b5088>,\n",
       " <matplotlib.lines.Line2D at 0x12995482308>]"
      ]
     },
     "execution_count": 26,
     "metadata": {},
     "output_type": "execute_result"
    },
    {
     "data": {
      "image/png": "[encoded data removed]",
      "text/plain": [
       "<Figure size 640x480 with 1 Axes>"
      ]
     },
     "metadata": {},
     "output_type": "display_data"
    }
   ],
   "source": [
    "plt.plot(crf)"
   ]
  },
  {
   "cell_type": "code",
   "execution_count": 27,
   "metadata": {},
   "outputs": [],
   "source": [
    "cam_crf = np.zeros(shape = (29, 3))"
   ]
  },
  {
   "cell_type": "code",
   "execution_count": 28,
   "metadata": {},
   "outputs": [],
   "source": [
    "cam_crf[:,0] = np.array([0.09075,\n",
    "0.07031994,\n",
    "0.05344998,\n",
    "0.04014003,\n",
    "0.03041814,\n",
    "0.0249,\n",
    "0.023837505,\n",
    "0.02523333,\n",
    "0.0242052,\n",
    "0.020964735,\n",
    "0.02505,\n",
    "0.04036296,\n",
    "0.059691255,\n",
    "0.06540468,\n",
    "0.056858535,\n",
    "0.037499865,\n",
    "0.008739,\n",
    "0.02753913,\n",
    "0.23314449,\n",
    "0.61937205,\n",
    "0.91095,\n",
    "0.99526719,\n",
    "0.9355293,\n",
    "0.8862372,\n",
    "0.8535294,\n",
    "0.81795,\n",
    "0.77154,\n",
    "0.69274713,\n",
    "0.528888705])\n"
   ]
  },
  {
   "cell_type": "code",
   "execution_count": 29,
   "metadata": {},
   "outputs": [],
   "source": [
    "cam_crf[:,1] = np.array([0.0704,\n",
    "0.06122411,\n",
    "0.05372275,\n",
    "0.04789588,\n",
    "0.04419689,\n",
    "0.0526,\n",
    "0.07718548,\n",
    "0.13260333,\n",
    "0.25466397,\n",
    "0.440288,\n",
    "0.5859,\n",
    "0.64912814,\n",
    "0.6522202,\n",
    "0.6495597,\n",
    "0.6434468,\n",
    "0.6300999,\n",
    "0.60797226,\n",
    "0.5752577,\n",
    "0.5275419,\n",
    "0.46469188,\n",
    "0.3882,\n",
    "0.2986767,\n",
    "0.20837703,\n",
    "0.14725776,\n",
    "0.11603077,\n",
    "0.1004,\n",
    "0.09451748,\n",
    "0.09184141,\n",
    "0.07638084,\n",
    "])"
   ]
  },
  {
   "cell_type": "code",
   "execution_count": 30,
   "metadata": {},
   "outputs": [],
   "source": [
    "cam_crf[:, 2] = np.array([0.2429,\n",
    "0.3182906,\n",
    "0.3851603,\n",
    "0.44350952,\n",
    "0.49302822,\n",
    "0.5269,\n",
    "0.5423363,\n",
    "0.53673637,\n",
    "0.5037431,\n",
    "0.4436149,\n",
    "0.3684,\n",
    "0.28302726,\n",
    "0.19699267,\n",
    "0.1335088,\n",
    "0.09310442,\n",
    "0.06419986,\n",
    "0.04205811,\n",
    "0.0267778,\n",
    "0.01860077,\n",
    "0.01727041,\n",
    "0.0169,\n",
    "0.01508131,\n",
    "0.01327676,\n",
    "0.01506111,\n",
    "0.02047346,\n",
    "0.0268,\n",
    "0.03293049,\n",
    "0.03646783,\n",
    "0.03155245,\n",
    "])"
   ]
  },
  {
   "cell_type": "code",
   "execution_count": 31,
   "metadata": {},
   "outputs": [],
   "source": [
    "np.save('crf_cam_new_v2.npy', cam_crf)"
   ]
  },
  {
   "cell_type": "code",
   "execution_count": null,
   "metadata": {},
   "outputs": [],
   "source": []
  },
  {
   "cell_type": "code",
   "execution_count": null,
   "metadata": {},
   "outputs": [],
   "source": []
  }
 ],
 "metadata": {
  "kernelspec": {
   "display_name": "hyper3d",
   "language": "python",
   "name": "python3"
  },
  "language_info": {
   "codemirror_mode": {
    "name": "ipython",
    "version": 3
   },
   "file_extension": ".py",
   "mimetype": "text/x-python",
   "name": "python",
   "nbconvert_exporter": "python",
   "pygments_lexer": "ipython3",
   "version": "3.7.16"
  },
  "orig_nbformat": 4
 },
 "nbformat": 4,
 "nbformat_minor": 2
}
