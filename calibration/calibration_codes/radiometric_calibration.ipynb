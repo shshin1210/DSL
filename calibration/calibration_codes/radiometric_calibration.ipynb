{
 "cells": [
  {
   "cell_type": "code",
   "execution_count": 1,
   "metadata": {},
   "outputs": [],
   "source": [
    "import numpy as np\n",
    "import cv2\n",
    "import matplotlib.pyplot as plt"
   ]
  },
  {
   "cell_type": "code",
   "execution_count": 2,
   "metadata": {},
   "outputs": [],
   "source": [
    "for i in range(256):\n",
    "    pattern = np.ones(shape=(720,720,1))\n",
    "    pattern[:,:] = i # 0 부터 255\n",
    "    cv2.imwrite(f'./patterns/pattern_{i}.png', pattern)\n",
    "    "
   ]
  },
  {
   "cell_type": "code",
   "execution_count": 3,
   "metadata": {},
   "outputs": [],
   "source": [
    "pattern = np.ones(shape=(720,720,1))\n",
    "pattern[:,:] = 255"
   ]
  },
  {
   "cell_type": "code",
   "execution_count": 4,
   "metadata": {},
   "outputs": [
    {
     "data": {
      "text/plain": [
       "True"
      ]
     },
     "execution_count": 4,
     "metadata": {},
     "output_type": "execute_result"
    }
   ],
   "source": [
    "cv2.imwrite('./patterns/pattern.png', pattern)"
   ]
  },
  {
   "cell_type": "code",
   "execution_count": 22,
   "metadata": {},
   "outputs": [
    {
     "name": "stdout",
     "output_type": "stream",
     "text": [
      "\"patterns/rgb_random_pattern/rgb_0.png\",\n",
      "\"patterns/rgb_random_pattern/rgb_1.png\",\n",
      "\"patterns/rgb_random_pattern/rgb_2.png\",\n",
      "\"patterns/rgb_random_pattern/rgb_3.png\",\n",
      "\"patterns/rgb_random_pattern/rgb_4.png\",\n",
      "\"patterns/rgb_random_pattern/rgb_5.png\",\n",
      "\"patterns/rgb_random_pattern/rgb_6.png\",\n",
      "\"patterns/rgb_random_pattern/rgb_7.png\",\n",
      "\"patterns/rgb_random_pattern/rgb_8.png\",\n",
      "\"patterns/rgb_random_pattern/rgb_9.png\",\n",
      "\"patterns/rgb_random_pattern/rgb_10.png\",\n",
      "\"patterns/rgb_random_pattern/rgb_11.png\",\n",
      "\"patterns/rgb_random_pattern/rgb_12.png\",\n",
      "\"patterns/rgb_random_pattern/rgb_13.png\",\n",
      "\"patterns/rgb_random_pattern/rgb_14.png\",\n",
      "\"patterns/rgb_random_pattern/rgb_15.png\",\n",
      "\"patterns/rgb_random_pattern/rgb_16.png\",\n",
      "\"patterns/rgb_random_pattern/rgb_17.png\",\n",
      "\"patterns/rgb_random_pattern/rgb_18.png\",\n",
      "\"patterns/rgb_random_pattern/rgb_19.png\",\n",
      "\"patterns/rgb_random_pattern/rgb_20.png\",\n",
      "\"patterns/rgb_random_pattern/rgb_21.png\",\n",
      "\"patterns/rgb_random_pattern/rgb_22.png\",\n",
      "\"patterns/rgb_random_pattern/rgb_23.png\",\n",
      "\"patterns/rgb_random_pattern/rgb_24.png\",\n",
      "\"patterns/rgb_random_pattern/rgb_25.png\",\n",
      "\"patterns/rgb_random_pattern/rgb_26.png\",\n",
      "\"patterns/rgb_random_pattern/rgb_27.png\",\n",
      "\"patterns/rgb_random_pattern/rgb_28.png\",\n",
      "\"patterns/rgb_random_pattern/rgb_29.png\",\n",
      "\"patterns/rgb_random_pattern/rgb_30.png\",\n",
      "\"patterns/rgb_random_pattern/rgb_31.png\",\n",
      "\"patterns/rgb_random_pattern/rgb_32.png\",\n",
      "\"patterns/rgb_random_pattern/rgb_33.png\",\n",
      "\"patterns/rgb_random_pattern/rgb_34.png\",\n",
      "\"patterns/rgb_random_pattern/rgb_35.png\",\n",
      "\"patterns/rgb_random_pattern/rgb_36.png\",\n",
      "\"patterns/rgb_random_pattern/rgb_37.png\",\n",
      "\"patterns/rgb_random_pattern/rgb_38.png\",\n",
      "\"patterns/rgb_random_pattern/rgb_39.png\",\n",
      "\"patterns/rgb_random_pattern/rgb_40.png\",\n",
      "\"patterns/rgb_random_pattern/rgb_41.png\",\n",
      "\"patterns/rgb_random_pattern/rgb_42.png\",\n",
      "\"patterns/rgb_random_pattern/rgb_43.png\",\n",
      "\"patterns/rgb_random_pattern/rgb_44.png\",\n",
      "\"patterns/rgb_random_pattern/rgb_45.png\",\n",
      "\"patterns/rgb_random_pattern/rgb_46.png\",\n",
      "\"patterns/rgb_random_pattern/rgb_47.png\",\n",
      "\"patterns/rgb_random_pattern/rgb_48.png\",\n",
      "\"patterns/rgb_random_pattern/rgb_49.png\",\n",
      "\"patterns/rgb_random_pattern/rgb_50.png\",\n",
      "\"patterns/rgb_random_pattern/rgb_51.png\",\n",
      "\"patterns/rgb_random_pattern/rgb_52.png\",\n",
      "\"patterns/rgb_random_pattern/rgb_53.png\",\n",
      "\"patterns/rgb_random_pattern/rgb_54.png\",\n",
      "\"patterns/rgb_random_pattern/rgb_55.png\",\n",
      "\"patterns/rgb_random_pattern/rgb_56.png\",\n",
      "\"patterns/rgb_random_pattern/rgb_57.png\",\n",
      "\"patterns/rgb_random_pattern/rgb_58.png\",\n",
      "\"patterns/rgb_random_pattern/rgb_59.png\",\n",
      "\"patterns/rgb_random_pattern/rgb_60.png\",\n",
      "\"patterns/rgb_random_pattern/rgb_61.png\",\n",
      "\"patterns/rgb_random_pattern/rgb_62.png\",\n",
      "\"patterns/rgb_random_pattern/rgb_63.png\",\n",
      "\"patterns/rgb_random_pattern/rgb_64.png\",\n",
      "\"patterns/rgb_random_pattern/rgb_65.png\",\n",
      "\"patterns/rgb_random_pattern/rgb_66.png\",\n",
      "\"patterns/rgb_random_pattern/rgb_67.png\",\n",
      "\"patterns/rgb_random_pattern/rgb_68.png\",\n",
      "\"patterns/rgb_random_pattern/rgb_69.png\",\n",
      "\"patterns/rgb_random_pattern/rgb_70.png\",\n",
      "\"patterns/rgb_random_pattern/rgb_71.png\",\n",
      "\"patterns/rgb_random_pattern/rgb_72.png\",\n",
      "\"patterns/rgb_random_pattern/rgb_73.png\",\n",
      "\"patterns/rgb_random_pattern/rgb_74.png\",\n",
      "\"patterns/rgb_random_pattern/rgb_75.png\",\n",
      "\"patterns/rgb_random_pattern/rgb_76.png\",\n",
      "\"patterns/rgb_random_pattern/rgb_77.png\",\n",
      "\"patterns/rgb_random_pattern/rgb_78.png\",\n",
      "\"patterns/rgb_random_pattern/rgb_79.png\",\n",
      "\"patterns/rgb_random_pattern/rgb_80.png\",\n",
      "\"patterns/rgb_random_pattern/rgb_81.png\",\n",
      "\"patterns/rgb_random_pattern/rgb_82.png\",\n",
      "\"patterns/rgb_random_pattern/rgb_83.png\",\n",
      "\"patterns/rgb_random_pattern/rgb_84.png\",\n",
      "\"patterns/rgb_random_pattern/rgb_85.png\",\n",
      "\"patterns/rgb_random_pattern/rgb_86.png\",\n",
      "\"patterns/rgb_random_pattern/rgb_87.png\",\n",
      "\"patterns/rgb_random_pattern/rgb_88.png\",\n",
      "\"patterns/rgb_random_pattern/rgb_89.png\",\n",
      "\"patterns/rgb_random_pattern/rgb_90.png\",\n",
      "\"patterns/rgb_random_pattern/rgb_91.png\",\n",
      "\"patterns/rgb_random_pattern/rgb_92.png\",\n",
      "\"patterns/rgb_random_pattern/rgb_93.png\",\n",
      "\"patterns/rgb_random_pattern/rgb_94.png\",\n",
      "\"patterns/rgb_random_pattern/rgb_95.png\",\n",
      "\"patterns/rgb_random_pattern/rgb_96.png\",\n",
      "\"patterns/rgb_random_pattern/rgb_97.png\",\n",
      "\"patterns/rgb_random_pattern/rgb_98.png\",\n",
      "\"patterns/rgb_random_pattern/rgb_99.png\",\n",
      "\"patterns/rgb_random_pattern/rgb_100.png\",\n",
      "\"patterns/rgb_random_pattern/rgb_101.png\",\n",
      "\"patterns/rgb_random_pattern/rgb_102.png\",\n",
      "\"patterns/rgb_random_pattern/rgb_103.png\",\n",
      "\"patterns/rgb_random_pattern/rgb_104.png\",\n",
      "\"patterns/rgb_random_pattern/rgb_105.png\",\n",
      "\"patterns/rgb_random_pattern/rgb_106.png\",\n",
      "\"patterns/rgb_random_pattern/rgb_107.png\",\n",
      "\"patterns/rgb_random_pattern/rgb_108.png\",\n",
      "\"patterns/rgb_random_pattern/rgb_109.png\",\n",
      "\"patterns/rgb_random_pattern/rgb_110.png\",\n",
      "\"patterns/rgb_random_pattern/rgb_111.png\",\n",
      "\"patterns/rgb_random_pattern/rgb_112.png\",\n",
      "\"patterns/rgb_random_pattern/rgb_113.png\",\n",
      "\"patterns/rgb_random_pattern/rgb_114.png\",\n",
      "\"patterns/rgb_random_pattern/rgb_115.png\",\n",
      "\"patterns/rgb_random_pattern/rgb_116.png\",\n",
      "\"patterns/rgb_random_pattern/rgb_117.png\",\n",
      "\"patterns/rgb_random_pattern/rgb_118.png\",\n",
      "\"patterns/rgb_random_pattern/rgb_119.png\",\n",
      "\"patterns/rgb_random_pattern/rgb_120.png\",\n",
      "\"patterns/rgb_random_pattern/rgb_121.png\",\n",
      "\"patterns/rgb_random_pattern/rgb_122.png\",\n",
      "\"patterns/rgb_random_pattern/rgb_123.png\",\n",
      "\"patterns/rgb_random_pattern/rgb_124.png\",\n",
      "\"patterns/rgb_random_pattern/rgb_125.png\",\n",
      "\"patterns/rgb_random_pattern/rgb_126.png\",\n",
      "\"patterns/rgb_random_pattern/rgb_127.png\",\n",
      "\"patterns/rgb_random_pattern/rgb_128.png\",\n",
      "\"patterns/rgb_random_pattern/rgb_129.png\",\n",
      "\"patterns/rgb_random_pattern/rgb_130.png\",\n",
      "\"patterns/rgb_random_pattern/rgb_131.png\",\n",
      "\"patterns/rgb_random_pattern/rgb_132.png\",\n",
      "\"patterns/rgb_random_pattern/rgb_133.png\",\n",
      "\"patterns/rgb_random_pattern/rgb_134.png\",\n",
      "\"patterns/rgb_random_pattern/rgb_135.png\",\n",
      "\"patterns/rgb_random_pattern/rgb_136.png\",\n",
      "\"patterns/rgb_random_pattern/rgb_137.png\",\n",
      "\"patterns/rgb_random_pattern/rgb_138.png\",\n",
      "\"patterns/rgb_random_pattern/rgb_139.png\",\n",
      "\"patterns/rgb_random_pattern/rgb_140.png\",\n",
      "\"patterns/rgb_random_pattern/rgb_141.png\",\n",
      "\"patterns/rgb_random_pattern/rgb_142.png\",\n",
      "\"patterns/rgb_random_pattern/rgb_143.png\",\n",
      "\"patterns/rgb_random_pattern/rgb_144.png\",\n",
      "\"patterns/rgb_random_pattern/rgb_145.png\",\n",
      "\"patterns/rgb_random_pattern/rgb_146.png\",\n",
      "\"patterns/rgb_random_pattern/rgb_147.png\",\n",
      "\"patterns/rgb_random_pattern/rgb_148.png\",\n",
      "\"patterns/rgb_random_pattern/rgb_149.png\",\n",
      "\"patterns/rgb_random_pattern/rgb_150.png\",\n",
      "\"patterns/rgb_random_pattern/rgb_151.png\",\n",
      "\"patterns/rgb_random_pattern/rgb_152.png\",\n",
      "\"patterns/rgb_random_pattern/rgb_153.png\",\n",
      "\"patterns/rgb_random_pattern/rgb_154.png\",\n",
      "\"patterns/rgb_random_pattern/rgb_155.png\",\n",
      "\"patterns/rgb_random_pattern/rgb_156.png\",\n",
      "\"patterns/rgb_random_pattern/rgb_157.png\",\n",
      "\"patterns/rgb_random_pattern/rgb_158.png\",\n",
      "\"patterns/rgb_random_pattern/rgb_159.png\",\n",
      "\"patterns/rgb_random_pattern/rgb_160.png\",\n",
      "\"patterns/rgb_random_pattern/rgb_161.png\",\n",
      "\"patterns/rgb_random_pattern/rgb_162.png\",\n",
      "\"patterns/rgb_random_pattern/rgb_163.png\",\n",
      "\"patterns/rgb_random_pattern/rgb_164.png\",\n",
      "\"patterns/rgb_random_pattern/rgb_165.png\",\n",
      "\"patterns/rgb_random_pattern/rgb_166.png\",\n",
      "\"patterns/rgb_random_pattern/rgb_167.png\",\n",
      "\"patterns/rgb_random_pattern/rgb_168.png\",\n",
      "\"patterns/rgb_random_pattern/rgb_169.png\",\n",
      "\"patterns/rgb_random_pattern/rgb_170.png\",\n",
      "\"patterns/rgb_random_pattern/rgb_171.png\",\n",
      "\"patterns/rgb_random_pattern/rgb_172.png\",\n",
      "\"patterns/rgb_random_pattern/rgb_173.png\",\n",
      "\"patterns/rgb_random_pattern/rgb_174.png\",\n",
      "\"patterns/rgb_random_pattern/rgb_175.png\",\n",
      "\"patterns/rgb_random_pattern/rgb_176.png\",\n",
      "\"patterns/rgb_random_pattern/rgb_177.png\",\n",
      "\"patterns/rgb_random_pattern/rgb_178.png\",\n",
      "\"patterns/rgb_random_pattern/rgb_179.png\",\n",
      "\"patterns/rgb_random_pattern/rgb_180.png\",\n",
      "\"patterns/rgb_random_pattern/rgb_181.png\",\n",
      "\"patterns/rgb_random_pattern/rgb_182.png\",\n",
      "\"patterns/rgb_random_pattern/rgb_183.png\",\n",
      "\"patterns/rgb_random_pattern/rgb_184.png\",\n",
      "\"patterns/rgb_random_pattern/rgb_185.png\",\n",
      "\"patterns/rgb_random_pattern/rgb_186.png\",\n",
      "\"patterns/rgb_random_pattern/rgb_187.png\",\n",
      "\"patterns/rgb_random_pattern/rgb_188.png\",\n",
      "\"patterns/rgb_random_pattern/rgb_189.png\",\n",
      "\"patterns/rgb_random_pattern/rgb_190.png\",\n",
      "\"patterns/rgb_random_pattern/rgb_191.png\",\n",
      "\"patterns/rgb_random_pattern/rgb_192.png\",\n",
      "\"patterns/rgb_random_pattern/rgb_193.png\",\n",
      "\"patterns/rgb_random_pattern/rgb_194.png\",\n",
      "\"patterns/rgb_random_pattern/rgb_195.png\",\n",
      "\"patterns/rgb_random_pattern/rgb_196.png\",\n",
      "\"patterns/rgb_random_pattern/rgb_197.png\",\n",
      "\"patterns/rgb_random_pattern/rgb_198.png\",\n",
      "\"patterns/rgb_random_pattern/rgb_199.png\",\n",
      "\"patterns/rgb_random_pattern/rgb_200.png\",\n",
      "\"patterns/rgb_random_pattern/rgb_201.png\",\n",
      "\"patterns/rgb_random_pattern/rgb_202.png\",\n",
      "\"patterns/rgb_random_pattern/rgb_203.png\",\n",
      "\"patterns/rgb_random_pattern/rgb_204.png\",\n",
      "\"patterns/rgb_random_pattern/rgb_205.png\",\n",
      "\"patterns/rgb_random_pattern/rgb_206.png\",\n",
      "\"patterns/rgb_random_pattern/rgb_207.png\",\n",
      "\"patterns/rgb_random_pattern/rgb_208.png\",\n",
      "\"patterns/rgb_random_pattern/rgb_209.png\",\n",
      "\"patterns/rgb_random_pattern/rgb_210.png\",\n",
      "\"patterns/rgb_random_pattern/rgb_211.png\",\n",
      "\"patterns/rgb_random_pattern/rgb_212.png\",\n",
      "\"patterns/rgb_random_pattern/rgb_213.png\",\n",
      "\"patterns/rgb_random_pattern/rgb_214.png\",\n",
      "\"patterns/rgb_random_pattern/rgb_215.png\",\n",
      "\"patterns/rgb_random_pattern/rgb_216.png\",\n",
      "\"patterns/rgb_random_pattern/rgb_217.png\",\n",
      "\"patterns/rgb_random_pattern/rgb_218.png\",\n",
      "\"patterns/rgb_random_pattern/rgb_219.png\",\n",
      "\"patterns/rgb_random_pattern/rgb_220.png\",\n",
      "\"patterns/rgb_random_pattern/rgb_221.png\",\n",
      "\"patterns/rgb_random_pattern/rgb_222.png\",\n",
      "\"patterns/rgb_random_pattern/rgb_223.png\",\n",
      "\"patterns/rgb_random_pattern/rgb_224.png\",\n",
      "\"patterns/rgb_random_pattern/rgb_225.png\",\n",
      "\"patterns/rgb_random_pattern/rgb_226.png\",\n",
      "\"patterns/rgb_random_pattern/rgb_227.png\",\n",
      "\"patterns/rgb_random_pattern/rgb_228.png\",\n",
      "\"patterns/rgb_random_pattern/rgb_229.png\",\n",
      "\"patterns/rgb_random_pattern/rgb_230.png\",\n",
      "\"patterns/rgb_random_pattern/rgb_231.png\",\n",
      "\"patterns/rgb_random_pattern/rgb_232.png\",\n",
      "\"patterns/rgb_random_pattern/rgb_233.png\",\n",
      "\"patterns/rgb_random_pattern/rgb_234.png\",\n",
      "\"patterns/rgb_random_pattern/rgb_235.png\",\n",
      "\"patterns/rgb_random_pattern/rgb_236.png\",\n",
      "\"patterns/rgb_random_pattern/rgb_237.png\",\n",
      "\"patterns/rgb_random_pattern/rgb_238.png\",\n",
      "\"patterns/rgb_random_pattern/rgb_239.png\",\n",
      "\"patterns/rgb_random_pattern/rgb_240.png\",\n",
      "\"patterns/rgb_random_pattern/rgb_241.png\",\n",
      "\"patterns/rgb_random_pattern/rgb_242.png\",\n",
      "\"patterns/rgb_random_pattern/rgb_243.png\",\n",
      "\"patterns/rgb_random_pattern/rgb_244.png\",\n",
      "\"patterns/rgb_random_pattern/rgb_245.png\",\n",
      "\"patterns/rgb_random_pattern/rgb_246.png\",\n",
      "\"patterns/rgb_random_pattern/rgb_247.png\",\n",
      "\"patterns/rgb_random_pattern/rgb_248.png\",\n",
      "\"patterns/rgb_random_pattern/rgb_249.png\",\n",
      "\"patterns/rgb_random_pattern/rgb_250.png\",\n",
      "\"patterns/rgb_random_pattern/rgb_251.png\",\n",
      "\"patterns/rgb_random_pattern/rgb_252.png\",\n",
      "\"patterns/rgb_random_pattern/rgb_253.png\",\n",
      "\"patterns/rgb_random_pattern/rgb_254.png\",\n",
      "\"patterns/rgb_random_pattern/rgb_255.png\",\n"
     ]
    }
   ],
   "source": [
    "for i in range(256):\n",
    "\n",
    "    print(f'\"patterns/rgb_random_pattern/rgb_{i}.png\",')"
   ]
  },
  {
   "cell_type": "code",
   "execution_count": 6,
   "metadata": {},
   "outputs": [],
   "source": [
    "import cv2\n",
    "import os\n",
    "import matplotlib.pyplot as plt\n",
    "import numpy as np"
   ]
  },
  {
   "cell_type": "code",
   "execution_count": 7,
   "metadata": {},
   "outputs": [],
   "source": [
    "img_path = './experiments/test_2022_11_16_09_23/calibration0/'\n",
    "\n",
    "N = 256 # number of projector intensities\n",
    "M = 1 # number of repeatition for each projector intensity\n",
    "roi = [917, 1017, 1100, 1200]  # rmin, rmax, cmin, cmax\n",
    "#exp = [1]\n",
    "intensity = np.zeros((N,3))\n",
    "\n",
    "\n",
    "for i in range(N):\n",
    "    \n",
    "    for j in range(M):\n",
    "        im = cv2.imread(os.path.join(img_path,'pattern_%04d_capture_%04d.png' %(i, i+1)), -1).astype(np.float64)\n",
    "        im /= 65535.0\n",
    "        im = im[roi[0]:roi[1], roi[2]:roi[3], :]\n",
    "        if j == 0:\n",
    "            im_i = im/M\n",
    "        else:\n",
    "            im_i += im/M\n",
    "     \n",
    "    im_i_mean = im_i.mean(axis=(0,1))\n",
    "    intensity[i,:] = im_i_mean\n",
    "        "
   ]
  },
  {
   "cell_type": "code",
   "execution_count": 52,
   "metadata": {},
   "outputs": [],
   "source": [
    "x_linear = np.linspace(0,255,256)\n",
    "y_linear = np.linspace(0,255,256)"
   ]
  },
  {
   "cell_type": "code",
   "execution_count": 64,
   "metadata": {},
   "outputs": [
    {
     "data": {
      "text/plain": [
       "[<matplotlib.lines.Line2D at 0x14f60a73fd0>]"
      ]
     },
     "execution_count": 64,
     "metadata": {},
     "output_type": "execute_result"
    },
    {
     "data": {
      "image/png": "[encoded data removed]",
      "text/plain": [
       "<Figure size 640x480 with 1 Axes>"
      ]
     },
     "metadata": {},
     "output_type": "display_data"
    }
   ],
   "source": [
    "plt.plot(intensity[:,0], 'r')\n",
    "plt.plot(intensity[:,1], 'g')\n",
    "plt.plot(intensity[:,2], 'b')"
   ]
  },
  {
   "cell_type": "code",
   "execution_count": 23,
   "metadata": {},
   "outputs": [],
   "source": [
    "import scipy.io"
   ]
  },
  {
   "cell_type": "code",
   "execution_count": 30,
   "metadata": {},
   "outputs": [],
   "source": [
    "r_dic = {\"r_x\":x_linear, \"r_y\":intensity[:,0]}\n",
    "g_dic = {\"g_x\":x_linear, \"g_y\":intensity[:,1]}\n",
    "b_dic = {\"b_x\":x_linear, \"b_y\":intensity[:,2]}"
   ]
  },
  {
   "cell_type": "code",
   "execution_count": 31,
   "metadata": {},
   "outputs": [],
   "source": [
    "scipy.io.savemat(\"./r_curve.mat\",r_dic)\n",
    "scipy.io.savemat(\"./g_curve.mat\",g_dic)\n",
    "scipy.io.savemat(\"./b_curve.mat\",b_dic)"
   ]
  },
  {
   "cell_type": "code",
   "execution_count": 32,
   "metadata": {},
   "outputs": [],
   "source": [
    "rgb_fit = scipy.io.loadmat(\"./rgb_fit.mat\")"
   ]
  },
  {
   "cell_type": "code",
   "execution_count": 35,
   "metadata": {},
   "outputs": [],
   "source": [
    "rgb_fit = rgb_fit['p']"
   ]
  },
  {
   "cell_type": "code",
   "execution_count": 61,
   "metadata": {},
   "outputs": [],
   "source": [
    "r_a,r_b,r_c = rgb_fit[0,0],rgb_fit[0,1],rgb_fit[0,2]\n",
    "g_a,g_b,g_c = rgb_fit[0,3],rgb_fit[0,4],rgb_fit[0,5]\n",
    "b_a,b_b,b_c = rgb_fit[0,6],rgb_fit[0,7],rgb_fit[0,8]"
   ]
  },
  {
   "cell_type": "code",
   "execution_count": 62,
   "metadata": {},
   "outputs": [],
   "source": [
    "r_y = r_a*(y_linear**r_b)+r_c\n",
    "g_y = g_a*(y_linear**g_b)+g_c\n",
    "b_y = b_a*(y_linear**b_b)+b_c"
   ]
  },
  {
   "cell_type": "code",
   "execution_count": 63,
   "metadata": {},
   "outputs": [
    {
     "data": {
      "text/plain": [
       "([<matplotlib.lines.Line2D at 0x14f609f6d30>],\n",
       " [<matplotlib.lines.Line2D at 0x14f60a040a0>])"
      ]
     },
     "execution_count": 63,
     "metadata": {},
     "output_type": "execute_result"
    },
    {
     "data": {
      "image/png": "[encoded data removed]",
      "text/plain": [
       "<Figure size 640x480 with 1 Axes>"
      ]
     },
     "metadata": {},
     "output_type": "display_data"
    }
   ],
   "source": [
    "plt.plot(intensity[:,0],'r'),plt.plot(x_linear,r_y,'black')\n",
    "plt.plot(intensity[:,1],'g'),plt.plot(x_linear,g_y,'black')\n",
    "plt.plot(intensity[:,2],'b'),plt.plot(x_linear,b_y,'black')"
   ]
  },
  {
   "cell_type": "code",
   "execution_count": 2,
   "metadata": {},
   "outputs": [],
   "source": [
    "# random rgb colors\n",
    "import numpy as np\n",
    "import random ,cv2\n",
    "\n",
    "R = 100 # repetition\n",
    "rgb_array = np.zeros(shape=(R,3))\n",
    "for i in range(R):\n",
    "    r, g, b = random.randint(0,255), random.randint(0,255), random.randint(0,255)\n",
    "    rgb_array[i,:] = r,g,b\n",
    "    patt = np.zeros(shape = (720,720,3))\n",
    "    patt[:,:,0],patt[:,:,1],patt[:,:,2] = r,g,b\n",
    "    patt = np.asarray(patt, dtype=np.uint8)\n",
    "\n",
    "    cv2.imwrite(f'./patterns/rgb_pattern/rgb_{i}.png', cv2.cvtColor(patt, cv2.COLOR_RGB2BGR))"
   ]
  },
  {
   "cell_type": "code",
   "execution_count": 6,
   "metadata": {},
   "outputs": [],
   "source": [
    "np.save('./rgb_array.npy',rgb_array)"
   ]
  },
  {
   "cell_type": "code",
   "execution_count": 8,
   "metadata": {},
   "outputs": [],
   "source": [
    "import numpy as np\n",
    "import os,cv2"
   ]
  },
  {
   "cell_type": "code",
   "execution_count": 2,
   "metadata": {},
   "outputs": [],
   "source": [
    "import numpy as np\n",
    "int = np.round(np.linspace(20,255,15))\n",
    "np.save('./rgb.npy',int)"
   ]
  },
  {
   "cell_type": "code",
   "execution_count": 21,
   "metadata": {},
   "outputs": [],
   "source": [
    "int = np.linspace(20,255,10)\n",
    "rgb_pattern_path = './patterns/rgb_pattern'\n",
    "\n",
    "for i in range(3):\n",
    "    patt = np.zeros(shape=(720,720,3))\n",
    "    for j in range(len(int)):\n",
    "        patt[:,:,i] = int[j]\n",
    "        patt = np.asarray(patt, dtype=np.uint8)\n",
    "        \n",
    "        if i == 0:\n",
    "            col = 'r'\n",
    "        elif i == 1:\n",
    "            col = 'g'\n",
    "        else:\n",
    "            col = 'b'\n",
    "        \n",
    "        if (os.path.isdir(rgb_pattern_path)) == False:\n",
    "            os.mkdir(rgb_pattern_path)\n",
    "        cv2.imwrite(f'./patterns/rgb_pattern/{col}_{j}.png', cv2.cvtColor(patt, cv2.COLOR_RGB2BGR))"
   ]
  }
 ],
 "metadata": {
  "kernelspec": {
   "display_name": "Python 3.8.15 ('hyp3dimaging')",
   "language": "python",
   "name": "python3"
  },
  "language_info": {
   "codemirror_mode": {
    "name": "ipython",
    "version": 3
   },
   "file_extension": ".py",
   "mimetype": "text/x-python",
   "name": "python",
   "nbconvert_exporter": "python",
   "pygments_lexer": "ipython3",
   "version": "3.8.15"
  },
  "orig_nbformat": 4,
  "vscode": {
   "interpreter": {
    "hash": "f9e838a2dd61d477be12c14e7e01691a932416785e90b5ccb4a7a19bebbf59a2"
   }
  }
 },
 "nbformat": 4,
 "nbformat_minor": 2
}
