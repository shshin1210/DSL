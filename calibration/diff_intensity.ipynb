{
 "cells": [
  {
   "cell_type": "code",
   "execution_count": 2,
   "metadata": {},
   "outputs": [
    {
     "name": "stderr",
     "output_type": "stream",
     "text": [
      "c:\\Users\\owner\\anaconda3\\envs\\hyper3d\\lib\\site-packages\\tqdm\\auto.py:21: TqdmWarning: IProgress not found. Please update jupyter and ipywidgets. See https://ipywidgets.readthedocs.io/en/stable/user_install.html\n",
      "  from .autonotebook import tqdm as notebook_tqdm\n"
     ]
    }
   ],
   "source": [
    "from scipy import interpolate\n",
    "import torch"
   ]
  },
  {
   "cell_type": "code",
   "execution_count": 3,
   "metadata": {},
   "outputs": [],
   "source": [
    "# 450nm\n",
    "# m = 0\n",
    "m0_450_t = torch.tensor([ 20.5625 , 21.0625, 206.5   ])\n",
    "m0_450_b = torch.tensor([ 21.125,  21.625, 225.125])\n",
    "\n",
    "# m = 1\n",
    "m1_450_t = torch.tensor([15.875 ,15.125 ,29.   ])\n",
    "m1_450_b = torch.tensor([15.5625 ,15.375 , 28.4375])"
   ]
  },
  {
   "cell_type": "code",
   "execution_count": 4,
   "metadata": {},
   "outputs": [
    {
     "name": "stdout",
     "output_type": "stream",
     "text": [
      "tensor([0.7720, 0.7181, 0.1404]) tensor([0.7367, 0.7110, 0.1263])\n"
     ]
    }
   ],
   "source": [
    "print(m1_450_t/m0_450_t, m1_450_b/m0_450_b)"
   ]
  },
  {
   "cell_type": "code",
   "execution_count": 5,
   "metadata": {},
   "outputs": [],
   "source": [
    "# 500nm\n",
    "# m = 0\n",
    "m0_500_t = torch.tensor([ 22.3125 ,136.9375, 185.0625])\n",
    "m0_500_b = torch.tensor([ 23.3125 ,155.375 , 195.3125])\n",
    "\n",
    "# m = 1\n",
    "m1_500_t = torch.tensor([15., 19.6875, 19.9375])\n",
    "m1_500_b = torch.tensor([15.0625, 20.9375, 22.875 ])"
   ]
  },
  {
   "cell_type": "code",
   "execution_count": 6,
   "metadata": {},
   "outputs": [
    {
     "name": "stdout",
     "output_type": "stream",
     "text": [
      "tensor([0.6723, 0.1438, 0.1077]) tensor([0.6461, 0.1348, 0.1171])\n"
     ]
    }
   ],
   "source": [
    "print(m1_500_t/m0_500_t, m1_500_b/m0_500_b)"
   ]
  },
  {
   "cell_type": "code",
   "execution_count": 7,
   "metadata": {},
   "outputs": [],
   "source": [
    "# 550nm\n",
    "# m = 0\n",
    "m0_550_t = torch.tensor([ 31.875 , 202.8125 , 57.9375])\n",
    "m0_550_b = torch.tensor([ 29.5625, 180.4375 , 50.125 ])\n",
    "\n",
    "# m = 1\n",
    "m1_550_t = torch.tensor([16.625, 26.375 ,17.125])\n",
    "m1_550_b = torch.tensor([15.875,  19.5625, 16.375 ])"
   ]
  },
  {
   "cell_type": "code",
   "execution_count": 8,
   "metadata": {},
   "outputs": [
    {
     "name": "stdout",
     "output_type": "stream",
     "text": [
      "tensor([0.5216, 0.1300, 0.2956]) tensor([0.5370, 0.1084, 0.3267])\n"
     ]
    }
   ],
   "source": [
    "print(m1_550_t/m0_550_t, m1_550_b/m0_550_b)"
   ]
  },
  {
   "cell_type": "code",
   "execution_count": 9,
   "metadata": {},
   "outputs": [],
   "source": [
    "# 600nm\n",
    "# m = 0\n",
    "m0_600_t = torch.tensor([195.0625,  79.6875 , 21.8125])\n",
    "m0_600_b = torch.tensor([157.6875 , 61.125,   19.6875])\n",
    "\n",
    "# m = 1\n",
    "m1_600_t = torch.tensor([25.75  , 18.1875, 15.8125])\n",
    "m1_600_b = torch.tensor([19.  ,   16.25  , 15.3125])"
   ]
  },
  {
   "cell_type": "code",
   "execution_count": 10,
   "metadata": {},
   "outputs": [
    {
     "name": "stdout",
     "output_type": "stream",
     "text": [
      "tensor([0.1320, 0.2282, 0.7249]) tensor([0.1205, 0.2658, 0.7778])\n"
     ]
    }
   ],
   "source": [
    "print(m1_600_t/m0_600_t, m1_600_b/m0_600_b)"
   ]
  },
  {
   "cell_type": "code",
   "execution_count": 11,
   "metadata": {},
   "outputs": [],
   "source": [
    "# 650nm\n",
    "# m = 0\n",
    "m0_650_t = torch.tensor([184.0625,  32.75 ,   21.625 ])\n",
    "m0_650_b = torch.tensor([131.875  , 26.4375 , 20.25  ])\n",
    "\n",
    "# m = 1\n",
    "m1_650_t = torch.tensor([25.75  , 18.1875, 15.8125])\n",
    "m1_650_b = torch.tensor([19.  ,   16.25  , 15.3125])"
   ]
  },
  {
   "cell_type": "code",
   "execution_count": 12,
   "metadata": {},
   "outputs": [
    {
     "name": "stdout",
     "output_type": "stream",
     "text": [
      "tensor([0.1399, 0.5553, 0.7312]) tensor([0.1441, 0.6147, 0.7562])\n"
     ]
    }
   ],
   "source": [
    "print(m1_650_t/m0_650_t, m1_650_b/m0_650_b)"
   ]
  },
  {
   "cell_type": "code",
   "execution_count": 13,
   "metadata": {},
   "outputs": [],
   "source": [
    "# y = torch.tensor([0.1, 0.1335,0.12585,0.215175,0.186625,0.142, 0.1])\n",
    "y = torch.tensor([ 0.1335,0.1355,0.1393,0.215175,0.186625,0.142, 0.1])"
   ]
  },
  {
   "cell_type": "code",
   "execution_count": 14,
   "metadata": {},
   "outputs": [],
   "source": [
    "def cubic_interpolation(x_new, x_points, y_points, n):\n",
    "    tck = interpolate.splrep(x_points, y_points, k=n)   # Estimate the polynomial of nth degree by using x_points and y_points\n",
    "    y_new = interpolate.splev(x_new, tck)\n",
    "    return y_new"
   ]
  },
  {
   "cell_type": "code",
   "execution_count": 15,
   "metadata": {},
   "outputs": [],
   "source": [
    "wvls = torch.tensor([420, 450, 500, 550, 600, 650, 660])*1e-9\n",
    "new_wvls = torch.linspace(420*1e-9, 660*1e-9, 25) # 400 ~ 680 까지 10nm 간격으로\n",
    "\n",
    "order1 = cubic_interpolation(new_wvls, wvls, y, 4)\n",
    "# g = cubic_interpolation(new_wvls, wvls, y[:,1], 1)\n",
    "# b = cubic_interpolation(new_wvls, wvls, y[:,2], 1)"
   ]
  },
  {
   "cell_type": "code",
   "execution_count": 16,
   "metadata": {},
   "outputs": [],
   "source": [
    "import matplotlib.pyplot as plt"
   ]
  },
  {
   "cell_type": "code",
   "execution_count": 17,
   "metadata": {},
   "outputs": [
    {
     "data": {
      "text/plain": [
       "(<AxesSubplot:title={'center':'order m = 1'}>,\n",
       " [<matplotlib.lines.Line2D at 0x2afc1dd40c8>],\n",
       " Text(0.5, 1.0, 'order m = 1'))"
      ]
     },
     "execution_count": 17,
     "metadata": {},
     "output_type": "execute_result"
    },
    {
     "data": {
      "image/png": "[encoded data removed]",
      "text/plain": [
       "<Figure size 1500x500 with 1 Axes>"
      ]
     },
     "metadata": {},
     "output_type": "display_data"
    }
   ],
   "source": [
    "plt.figure(figsize=(15,5))\n",
    "plt.subplot(131), plt.plot(new_wvls, order1), plt.title('order m = 1')\n",
    "# plt.subplot(132),plt.plot(g), plt.title('green')\n",
    "# plt.subplot(133),plt.plot(b), plt.title('blue')"
   ]
  },
  {
   "cell_type": "code",
   "execution_count": 18,
   "metadata": {},
   "outputs": [
    {
     "data": {
      "text/plain": [
       "array([0.13349999, 0.14290864, 0.1418003 , 0.1355    , 0.12828705,\n",
       "       0.12339524, 0.1230127 , 0.12828198, 0.1393    , 0.15511809,\n",
       "       0.17374194, 0.1921386 , 0.20676589, 0.215175  , 0.21653946,\n",
       "       0.21166246, 0.20296808, 0.19384058, 0.18662497, 0.1819663 ,\n",
       "       0.17880099, 0.17435686, 0.16415302, 0.142     , 0.09999969])"
      ]
     },
     "execution_count": 18,
     "metadata": {},
     "output_type": "execute_result"
    }
   ],
   "source": [
    "order1"
   ]
  },
  {
   "cell_type": "code",
   "execution_count": 19,
   "metadata": {},
   "outputs": [],
   "source": [
    "import numpy as np"
   ]
  },
  {
   "cell_type": "code",
   "execution_count": 20,
   "metadata": {},
   "outputs": [],
   "source": [
    "intensity_dg = np.zeros(shape=(3,25))"
   ]
  },
  {
   "cell_type": "code",
   "execution_count": 21,
   "metadata": {},
   "outputs": [],
   "source": [
    "intensity_dg[1] = 1. "
   ]
  },
  {
   "cell_type": "code",
   "execution_count": 22,
   "metadata": {},
   "outputs": [],
   "source": [
    "intensity_dg[0] = order1\n",
    "intensity_dg[2] = order1"
   ]
  },
  {
   "cell_type": "code",
   "execution_count": 23,
   "metadata": {},
   "outputs": [],
   "source": [
    "np.save('./intensity_dg.npy', intensity_dg)"
   ]
  },
  {
   "cell_type": "code",
   "execution_count": null,
   "metadata": {},
   "outputs": [],
   "source": []
  }
 ],
 "metadata": {
  "kernelspec": {
   "display_name": "hyper3d",
   "language": "python",
   "name": "python3"
  },
  "language_info": {
   "codemirror_mode": {
    "name": "ipython",
    "version": 3
   },
   "file_extension": ".py",
   "mimetype": "text/x-python",
   "name": "python",
   "nbconvert_exporter": "python",
   "pygments_lexer": "ipython3",
   "version": "3.7.16"
  },
  "orig_nbformat": 4,
  "vscode": {
   "interpreter": {
    "hash": "9fa623eb3390c47c076f568bf88f24d6007a788d3fe47958c8bfce56c724a2ed"
   }
  }
 },
 "nbformat": 4,
 "nbformat_minor": 2
}
