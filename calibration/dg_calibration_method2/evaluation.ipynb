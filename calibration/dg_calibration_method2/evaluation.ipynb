{
 "cells": [
  {
   "cell_type": "code",
   "execution_count": 1,
   "metadata": {},
   "outputs": [],
   "source": [
    "import numpy as np\n",
    "import torch"
   ]
  },
  {
   "cell_type": "markdown",
   "metadata": {},
   "source": [
    "### Line Evaluation"
   ]
  },
  {
   "cell_type": "markdown",
   "metadata": {},
   "source": [
    "line의 direction vector와 starting point를 알고 있을 때, front / mid / back 에 있는 spectralon 점 3개와의 distance 합이 얼마인지"
   ]
  },
  {
   "cell_type": "code",
   "execution_count": null,
   "metadata": {},
   "outputs": [],
   "source": [
    "def distance(p, q, dir_vec):\n",
    "    \"\"\"\n",
    "        p : point on the line\n",
    "        q : 3d point\n",
    "    \n",
    "    \"\"\"\n",
    "    cross = torch.cross(q - p, dir_vec, dim = 0)\n",
    "    distance = torch.norm(cross, p = 2, dim = 0) / torch.norm(dir_vec, p = 2, dim = 0)\n",
    "    \n",
    "    return distance"
   ]
  },
  {
   "cell_type": "code",
   "execution_count": null,
   "metadata": {},
   "outputs": [],
   "source": [
    "# distance between 3 points\n",
    "error = 0\n",
    "start = \" start point of line \"\n",
    "points = \" 3 points for distance calculation\"\n",
    "direction_vector = \" direction vector of line \"\n",
    "\n",
    "for k in range(points.shape[0]):\n",
    "    dist = distance(torch.tensor(start), torch.tensor(points[k]) , torch.tensor(direction_vector))\n",
    "    error += dist\n",
    "    print('%d-th point distance'%k,dist)\n",
    "print('final error:', error/3)"
   ]
  },
  {
   "cell_type": "markdown",
   "metadata": {},
   "source": [
    "### Detection Evaluation"
   ]
  },
  {
   "cell_type": "markdown",
   "metadata": {},
   "source": [
    "detection 된 (u, v) 점으로 3d point를 찾은 다음에 다시 projector로 projection 했을 때 projector plane 위에 GT 점이랑 얼마나 차이가 나는지?\n",
    "근데 이거 0-order만 가능한거 아닌가?\n",
    "\n",
    "다른 m, lambda에 대해서는 어떻게 evaluation을 할 수 있지?"
   ]
  },
  {
   "cell_type": "markdown",
   "metadata": {},
   "source": [
    "### 3D gray code decoding evaluation"
   ]
  },
  {
   "cell_type": "markdown",
   "metadata": {},
   "source": []
  },
  {
   "cell_type": "code",
   "execution_count": null,
   "metadata": {},
   "outputs": [],
   "source": []
  }
 ],
 "metadata": {
  "kernelspec": {
   "display_name": "hyper3d",
   "language": "python",
   "name": "python3"
  },
  "language_info": {
   "codemirror_mode": {
    "name": "ipython",
    "version": 3
   },
   "file_extension": ".py",
   "mimetype": "text/x-python",
   "name": "python",
   "nbconvert_exporter": "python",
   "pygments_lexer": "ipython3",
   "version": "3.7.16"
  },
  "orig_nbformat": 4
 },
 "nbformat": 4,
 "nbformat_minor": 2
}
