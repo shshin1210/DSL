{
 "cells": [
  {
   "cell_type": "code",
   "execution_count": 3,
   "metadata": {},
   "outputs": [],
   "source": [
    "import numpy as np\n",
    "import matplotlib.pyplot as plt\n",
    "import torch\n",
    "import scipy.io as io\n",
    "import os"
   ]
  },
  {
   "attachments": {},
   "cell_type": "markdown",
   "metadata": {},
   "source": [
    "### Direction vector 구하기"
   ]
  },
  {
   "attachments": {},
   "cell_type": "markdown",
   "metadata": {},
   "source": [
    "#### Method 1 : Mean"
   ]
  },
  {
   "cell_type": "code",
   "execution_count": 2,
   "metadata": {},
   "outputs": [
    {
     "name": "stdout",
     "output_type": "stream",
     "text": [
      "Normalized direction vector: [0.35856858 0.5976143  0.71713717]\n"
     ]
    }
   ],
   "source": [
    "# Three points as (x, y, z) tuples\n",
    "points = np.array([[1, 2, 3], [2, 4, 5], [3, 5, 7]])\n",
    "\n",
    "# Calculate the average of the last two points\n",
    "average_point = np.mean(points[1:], axis=0)\n",
    "\n",
    "# Calculate the direction vector\n",
    "direction_vector = average_point - points[0]\n",
    "\n",
    "# Normalize the direction vector\n",
    "normalized_direction = direction_vector / np.linalg.norm(direction_vector)\n",
    "\n",
    "print(\"Normalized direction vector:\", normalized_direction)"
   ]
  },
  {
   "attachments": {},
   "cell_type": "markdown",
   "metadata": {},
   "source": [
    "#### Method 2 : Optimization"
   ]
  },
  {
   "cell_type": "code",
   "execution_count": 3,
   "metadata": {},
   "outputs": [],
   "source": [
    "def distance(p, q, dir_vec):\n",
    "    \"\"\"\n",
    "        p : point on the line\n",
    "        q : 3d point\n",
    "    \n",
    "    \"\"\"\n",
    "    cross = torch.cross(q - p, dir_vec, dim = 0)\n",
    "    distance = torch.norm(cross, p = 2, dim = 0) / torch.norm(dir_vec, p = 2, dim = 0)\n",
    "    \n",
    "    return distance"
   ]
  },
  {
   "cell_type": "code",
   "execution_count": 4,
   "metadata": {},
   "outputs": [
    {
     "name": "stderr",
     "output_type": "stream",
     "text": [
      "c:\\Users\\owner\\anaconda3\\envs\\hyper3d\\lib\\site-packages\\ipykernel_launcher.py:8: UserWarning: To copy construct from a tensor, it is recommended to use sourceTensor.clone().detach() or sourceTensor.clone().detach().requires_grad_(True), rather than torch.tensor(sourceTensor).\n",
      "  \n"
     ]
    },
    {
     "name": "stdout",
     "output_type": "stream",
     "text": [
      " Opt param value : tensor([0.9990, 2.0010, 3.0010, 1.4990, 1.0010, 0.8010], device='cuda:0',\n",
      "       requires_grad=True), Epoch : 0/15000, Loss: 1.4040303230285645, LR: 0.001\n",
      " Opt param value : tensor([1.0426, 2.1114, 3.1178, 0.7337, 1.0832, 1.4553], device='cuda:0',\n",
      "       requires_grad=True), Epoch : 1000/15000, Loss: 0.14460606376330057, LR: 0.001\n",
      " Opt param value : tensor([1.0591, 2.0887, 3.1185, 0.7280, 1.0915, 1.4556], device='cuda:0',\n",
      "       requires_grad=True), Epoch : 2000/15000, Loss: 0.13849401473999023, LR: 0.001\n",
      " Opt param value : tensor([1.0592, 2.0891, 3.1182, 0.7278, 1.0919, 1.4556], device='cuda:0',\n",
      "       requires_grad=True), Epoch : 3000/15000, Loss: 0.138569305340449, LR: 0.0008\n",
      " Opt param value : tensor([1.0590, 2.0891, 3.1183, 0.7280, 1.0918, 1.4556], device='cuda:0',\n",
      "       requires_grad=True), Epoch : 4000/15000, Loss: 0.1385461986064911, LR: 0.0008\n",
      " Opt param value : tensor([1.0592, 2.0893, 3.1181, 0.7278, 1.0919, 1.4558], device='cuda:0',\n",
      "       requires_grad=True), Epoch : 5000/15000, Loss: 0.13866853713989258, LR: 0.00064\n",
      " Opt param value : tensor([1.0591, 2.0893, 3.1182, 0.7281, 1.0918, 1.4558], device='cuda:0',\n",
      "       requires_grad=True), Epoch : 6000/15000, Loss: 0.13861975073814392, LR: 0.00064\n",
      " Opt param value : tensor([1.0591, 2.0890, 3.1186, 0.7280, 1.0919, 1.4559], device='cuda:0',\n",
      "       requires_grad=True), Epoch : 7000/15000, Loss: 0.13851416110992432, LR: 0.00064\n",
      " Opt param value : tensor([1.0594, 2.0889, 3.1185, 0.7280, 1.0919, 1.4559], device='cuda:0',\n",
      "       requires_grad=True), Epoch : 8000/15000, Loss: 0.13844671845436096, LR: 0.0005120000000000001\n",
      " Opt param value : tensor([1.0591, 2.0891, 3.1185, 0.7280, 1.0920, 1.4559], device='cuda:0',\n",
      "       requires_grad=True), Epoch : 9000/15000, Loss: 0.13849472006162009, LR: 0.0005120000000000001\n",
      " Opt param value : tensor([1.0593, 2.0890, 3.1186, 0.7280, 1.0920, 1.4560], device='cuda:0',\n",
      "       requires_grad=True), Epoch : 10000/15000, Loss: 0.13851515452067056, LR: 0.0004096000000000001\n",
      " Opt param value : tensor([1.0593, 2.0890, 3.1186, 0.7280, 1.0921, 1.4559], device='cuda:0',\n",
      "       requires_grad=True), Epoch : 11000/15000, Loss: 0.13847114642461142, LR: 0.0004096000000000001\n",
      " Opt param value : tensor([1.0593, 2.0890, 3.1186, 0.7280, 1.0921, 1.4560], device='cuda:0',\n",
      "       requires_grad=True), Epoch : 12000/15000, Loss: 0.1384408175945282, LR: 0.0004096000000000001\n",
      " Opt param value : tensor([1.0592, 2.0891, 3.1186, 0.7280, 1.0920, 1.4560], device='cuda:0',\n",
      "       requires_grad=True), Epoch : 13000/15000, Loss: 0.1384550929069519, LR: 0.0003276800000000001\n",
      " Opt param value : tensor([1.0592, 2.0891, 3.1186, 0.7280, 1.0920, 1.4561], device='cuda:0',\n",
      "       requires_grad=True), Epoch : 14000/15000, Loss: 0.13847514986991882, LR: 0.0003276800000000001\n"
     ]
    }
   ],
   "source": [
    "initial_point_value = torch.tensor([1., 2., 3])\n",
    "initial_dir_value = torch.tensor([1.5, 1., 0.8])\n",
    "\n",
    "initial_value = torch.hstack((initial_point_value,initial_dir_value))\n",
    "\n",
    "opt_param = torch.tensor(initial_value, dtype= torch.float, requires_grad=True, device= \"cuda\")\n",
    "\n",
    "# loss ftn\n",
    "loss = 0\n",
    "losses = []\n",
    "\n",
    "lr = 1e-3 # 1e-3\n",
    "decay_step = 2500 # 1000\n",
    "epoch = 15000\n",
    "\n",
    "num_pts = 3\n",
    "points = torch.tensor([[1, 2, 3], [2, 4, 5], [3, 5, 7]], device = \"cuda\")\n",
    "\n",
    "optimizer = torch.optim.Adam([opt_param], lr = lr)\n",
    "scheduler = torch.optim.lr_scheduler.StepLR(optimizer=optimizer, step_size=decay_step, gamma = 0.8)\n",
    "\n",
    "for i in range(epoch):\n",
    "    loss = 0\n",
    "    # distance between 3 points\n",
    "    for k in range(3):\n",
    "        dist = distance(opt_param[:3], points[k], opt_param[3:]) # p, q, dir\n",
    "        loss += dist\n",
    "\n",
    "    optimizer.zero_grad()\n",
    "    loss.backward()\n",
    "    \n",
    "    losses.append(loss.item() / num_pts)\n",
    "    optimizer.step()\n",
    "    scheduler.step()\n",
    "\n",
    "    if i % 1000 == 0:\n",
    "        print(f\" Opt param value : {opt_param}, Epoch : {i}/{epoch}, Loss: {loss.item() / num_pts}, LR: {optimizer.param_groups[0]['lr']}\")"
   ]
  },
  {
   "cell_type": "code",
   "execution_count": 5,
   "metadata": {},
   "outputs": [],
   "source": [
    "direction_vector = opt_param[3:].detach().cpu().numpy()\n",
    "p = opt_param[:3].detach().cpu().numpy()\n",
    "points = points.detach().cpu().numpy()"
   ]
  },
  {
   "cell_type": "code",
   "execution_count": 8,
   "metadata": {},
   "outputs": [],
   "source": [
    "start = p"
   ]
  },
  {
   "cell_type": "code",
   "execution_count": 9,
   "metadata": {},
   "outputs": [
    {
     "data": {
      "text/plain": [
       "[<mpl_toolkits.mplot3d.art3d.Line3D at 0x1c9a0de0308>]"
      ]
     },
     "execution_count": 9,
     "metadata": {},
     "output_type": "execute_result"
    },
    {
     "data": {
      "image/png": "[encoded data removed]",
      "text/plain": [
       "<Figure size 640x480 with 1 Axes>"
      ]
     },
     "metadata": {},
     "output_type": "display_data"
    }
   ],
   "source": [
    "fig = plt.figure()\n",
    "ax = plt.axes(projection = '3d')\n",
    "ax.scatter(start[0], start[1], start[2], c = 'red', s = 1)\n",
    "ax.scatter(points[:,0], points[:, 1], points[:, 2] , c = 'black', s =1)\n",
    "\n",
    "scale = 6\n",
    "X_d = [start[0], start[0] + scale* direction_vector[0]]\n",
    "Y_d = [start[1], start[1] + scale* direction_vector[1]]\n",
    "Z_d = [start[2], start[2] + scale* direction_vector[2]]\n",
    "\n",
    "ax.plot(X_d,Y_d,Z_d, color = 'red', linewidth = 1)\n",
    "            "
   ]
  },
  {
   "attachments": {},
   "cell_type": "markdown",
   "metadata": {},
   "source": [
    "### Line / Direction vector의 error"
   ]
  },
  {
   "cell_type": "code",
   "execution_count": 53,
   "metadata": {},
   "outputs": [
    {
     "name": "stdout",
     "output_type": "stream",
     "text": [
      "0-th point distance tensor(5.0475e-05)\n",
      "1-th point distance tensor(0.4151)\n",
      "2-th point distance tensor(0.0003)\n",
      "final error: tensor(0.1385)\n"
     ]
    }
   ],
   "source": [
    "# distance between 3 points\n",
    "error = 0\n",
    "for k in range(3):\n",
    "    dist = distance(torch.tensor(start), torch.tensor(points[k]) , torch.tensor(direction_vector))\n",
    "    error += dist\n",
    "    print('%d-th point distance'%k,dist)\n",
    "print('final error:', error/3)"
   ]
  },
  {
   "cell_type": "code",
   "execution_count": 54,
   "metadata": {},
   "outputs": [
    {
     "name": "stdout",
     "output_type": "stream",
     "text": [
      "0-th point distance tensor(0.0079)\n",
      "1-th point distance tensor(0.2751)\n",
      "2-th point distance tensor(0.2594)\n",
      "final error: tensor(0.1808)\n"
     ]
    }
   ],
   "source": [
    "error = 0\n",
    "for k in range(3):\n",
    "    dist = distance(torch.tensor(start, dtype = torch.float32), torch.tensor(points[k]) , torch.tensor(normalized_direction, dtype = torch.float32))\n",
    "    error += dist\n",
    "    print('%d-th point distance'%k,dist)\n",
    "print('final error:', error/3)"
   ]
  },
  {
   "cell_type": "markdown",
   "metadata": {},
   "source": [
    "### Interpolation"
   ]
  },
  {
   "cell_type": "code",
   "execution_count": 4,
   "metadata": {},
   "outputs": [],
   "source": [
    "# 먼저 하나의 order에 대해서 5개의 wavelength를 가지고 25개 wavelength의 coefficient를 찾기\n",
    "from scipy import interpolate\n",
    "import torch"
   ]
  },
  {
   "cell_type": "code",
   "execution_count": 5,
   "metadata": {},
   "outputs": [],
   "source": [
    "param_dir = \"../../dataset/image_formation/dat/method2/\""
   ]
  },
  {
   "cell_type": "code",
   "execution_count": 6,
   "metadata": {},
   "outputs": [],
   "source": [
    "m_list = np.array([-1, 1])\n",
    "wvl_list = np.arange(450, 660, 50)\n",
    "depth = np.arange(0.6, 0.9, 0.01)\n",
    "interpolated_wvls = np.arange(420, 670, 10)\n",
    "num_param = 21"
   ]
  },
  {
   "cell_type": "code",
   "execution_count": 7,
   "metadata": {},
   "outputs": [],
   "source": [
    "param_list = np.zeros(shape=(len(m_list), len(wvl_list), len(depth), 21, 2))"
   ]
  },
  {
   "cell_type": "code",
   "execution_count": 8,
   "metadata": {},
   "outputs": [],
   "source": [
    "# Load datas\n",
    "\n",
    "for m in range(len(m_list)):\n",
    "    for w in range(len(wvl_list)):\n",
    "        for d in range(len(depth)):\n",
    "            param_list[m, w, d] = param = io.loadmat(os.path.join(param_dir, 'param_dispersion_coordinates_m%d_wvl%d_depth%dcm.mat' %(m_list[m], wvl_list[w], depth[d] * 100)))['p'].T"
   ]
  },
  {
   "cell_type": "code",
   "execution_count": 9,
   "metadata": {},
   "outputs": [],
   "source": [
    "def cubic_interpolation(x_new, x_points, y_points, n):\n",
    "    tck = interpolate.splrep(x_points, y_points, k=n)   # Estimate the polynomial of nth degree by using x_points and y_points\n",
    "    y_new = interpolate.splev(x_new, tck)\n",
    "    return y_new"
   ]
  },
  {
   "cell_type": "code",
   "execution_count": 10,
   "metadata": {},
   "outputs": [],
   "source": [
    "# Interpolation\n",
    "\n",
    "interpolated_param_list = np.zeros(shape=(len(m_list), len(interpolated_wvls), len(depth), num_param, 2))\n",
    "\n",
    "# do interpolation\n",
    "for z in (range(len(depth))):\n",
    "    for m in (range(len(m_list))):\n",
    "            for w in (range(len(wvl_list))):\n",
    "                for i in (range(num_param)):\n",
    "                    for xy in (range(2)):\n",
    "                        params = param_list[m,:,z,i,xy]\n",
    "                        interpolated_param_list[m,:,z,i,xy] = cubic_interpolation(interpolated_wvls, wvl_list, params, 3)"
   ]
  },
  {
   "cell_type": "code",
   "execution_count": 11,
   "metadata": {},
   "outputs": [
    {
     "data": {
      "text/plain": [
       "(2, 25, 31, 21, 2)"
      ]
     },
     "execution_count": 11,
     "metadata": {},
     "output_type": "execute_result"
    }
   ],
   "source": [
    "interpolated_param_list.shape"
   ]
  },
  {
   "cell_type": "markdown",
   "metadata": {},
   "source": [
    "#### Visualization"
   ]
  },
  {
   "cell_type": "code",
   "execution_count": null,
   "metadata": {},
   "outputs": [],
   "source": [
    "xory = np.array([\"x\", \"y\"])\n",
    "m_str = np.array([\"minus1\", \"plus1\"])\n",
    "for z in (range(len(depth))):\n",
    "    for m in (range(len(m_list))):\n",
    "            for i in (range(num_param)):\n",
    "                for xy in (range(2)):\n",
    "                    fig = plt.figure()\n",
    "                    ax = fig.add_subplot(1, 1, 1)\n",
    "                    plt.title(\"%s order, %dcm depth, %d-th parameter, %s data\" %(m_str[m], depth[z]*100, i, xory[xy]))\n",
    "                    \n",
    "                    plt.plot(interpolated_wvls, interpolated_param_list[m,:,z,i,xy], label = 'interpolated data')\n",
    "                    plt.plot(wvl_list, param_list[m,:,z,i,xy], label = 'prev data')\n",
    "                    \n",
    "                    plt.scatter(interpolated_wvls, interpolated_param_list[m,:,z,i,xy], s = 10)\n",
    "                    plt.scatter(wvl_list, param_list[m,:,z,i,xy], s= 20)\n",
    "                    \n",
    "                    ax.set_xticks(interpolated_wvls)\n",
    "                    ax.set_xlabel(\"wavelengths(nm)\")\n",
    "                    plt.xticks(rotation = 45)\n",
    "                    \n",
    "                    plt.legend()\n",
    "                    plt.savefig('../../dataset/image_formation/dat/method2/interpolated/visualization/%sorder_%02dcmdepth_%02dparameter_%sdata.png' %(m_str[m], depth[z]*100, i, xory[xy]))\n",
    "                    plt.show()"
   ]
  },
  {
   "cell_type": "markdown",
   "metadata": {},
   "source": [
    "#### Reconstruction Test"
   ]
  },
  {
   "cell_type": "code",
   "execution_count": 12,
   "metadata": {},
   "outputs": [],
   "source": [
    "m_list = np.array([-1, 1])\n",
    "wvl_list = np.arange(450, 660, 50)\n",
    "depth = np.arange(0.6, 0.9, 0.01)\n",
    "interpolated_wvls = np.arange(420, 670, 10)\n",
    "num_param = 21\n",
    "dat_path = \"../../dataset/image_formation/dat/method2/interpolated\"\n",
    "point_path = \"../../dataset/image_formation/dat/method2\"\n",
    "pitch =  7.9559e-06"
   ]
  },
  {
   "cell_type": "code",
   "execution_count": 13,
   "metadata": {},
   "outputs": [],
   "source": [
    "point = io.loadmat(os.path.join(point_path, 'dispersion_coordinates_m%d_wvl%d_depth%dcm.mat'%(0, 650, 0.72*100)))"
   ]
  },
  {
   "cell_type": "code",
   "execution_count": 16,
   "metadata": {},
   "outputs": [],
   "source": [
    "def bring_distortion_coeff():\n",
    "    \n",
    "    p_list = torch.zeros(size=(len(m_list), len(interpolated_wvls), len(depth), 21, 2))\n",
    "\n",
    "    # distortion coeff 합치기\n",
    "    \n",
    "    for d_i, d in enumerate(depth):\n",
    "        for m_i, m in enumerate(m_list):\n",
    "            for wvl_i, wvl in enumerate(interpolated_wvls):\n",
    "                p = io.loadmat(os.path.join(dat_path, 'param_dispersion_coordinates_m%d_wvl%d_depth%dcm.mat'%(m, wvl,d*100)))\n",
    "                p = p['p']\n",
    "                p = torch.tensor(p, dtype=torch.float32)\n",
    "\n",
    "                p_list[m_i, wvl_i] = p\n",
    "    \n",
    "    return p_list"
   ]
  },
  {
   "cell_type": "code",
   "execution_count": 17,
   "metadata": {},
   "outputs": [],
   "source": [
    "p_list = bring_distortion_coeff()"
   ]
  },
  {
   "cell_type": "code",
   "execution_count": 80,
   "metadata": {},
   "outputs": [
    {
     "data": {
      "text/plain": [
       "torch.Size([2, 25, 31, 21, 2])"
      ]
     },
     "execution_count": 80,
     "metadata": {},
     "output_type": "execute_result"
    }
   ],
   "source": [
    "p_list.shape"
   ]
  },
  {
   "cell_type": "code",
   "execution_count": 81,
   "metadata": {},
   "outputs": [],
   "source": [
    "def distort_func(x, y, p, q, N = 5): # p = p[:,0], q = p[:,1]\n",
    "\n",
    "    x = x.unsqueeze(dim = 1).unsqueeze(dim = 1)\n",
    "    y = y.unsqueeze(dim = 1).unsqueeze(dim = 1)\n",
    "    \n",
    "    p = p.unsqueeze(dim = 3)\n",
    "    q = q.unsqueeze(dim = 3)\n",
    "    \n",
    "    print(x.shape, y.shape, p.shape, q.shape)\n",
    "    \n",
    "    x_d = p[...,0] + p[...,1]*x + p[...,2]*y + p[...,3]*(x**2) + p[...,4]*x*y + p[...,5]*(y**2) + p[...,6]*(x**3) + p[...,7]*(x**2)*y + p[...,8]*x*(y**2) + p[...,9]*(y**3) + p[...,10]*(x**4) + p[...,11]*(x**3)*y + p[...,12]*(x**2)*(y**2) + p[...,13]*x*(y**3) + p[...,14]*(y**4) + p[...,15]*(x**5) + p[...,16]*(x**4)*y + p[...,17]*(x**3)*(y**2) + p[...,18]*(x**2)*(y**3) + p[...,19]*x*(y**4) + p[...,20]*(y**5)\n",
    "    y_d = q[...,0] + q[...,1]*x + q[...,2]*y + q[...,3]*(x**2) + q[...,4]*x*y + q[...,5]*(y**2) + q[...,6]*(x**3) + q[...,7]*(x**2)*y + q[...,8]*x*(y**2) + q[...,9]*(y**3) + q[...,10]*(x**4) + q[...,11]*(x**3)*y + q[...,12]*(x**2)*(y**2) + q[...,13]*x*(y**3) + q[...,14]*(y**4) + q[...,15]*(x**5) + q[...,16]*(x**4)*y + q[...,17]*(x**3)*(y**2) + q[...,18]*(x**2)*(y**3) + q[...,19]*x*(y**4) + q[...,20]*(y**5)\n",
    "\n",
    "    return x_d, y_d"
   ]
  },
  {
   "cell_type": "code",
   "execution_count": 82,
   "metadata": {},
   "outputs": [
    {
     "name": "stderr",
     "output_type": "stream",
     "text": [
      "c:\\Users\\owner\\anaconda3\\envs\\hyper3d\\lib\\site-packages\\ipykernel_launcher.py:3: UserWarning: To copy construct from a tensor, it is recommended to use sourceTensor.clone().detach() or sourceTensor.clone().detach().requires_grad_(True), rather than torch.tensor(sourceTensor).\n",
      "  This is separate from the ipykernel package so we can avoid doing imports until\n"
     ]
    }
   ],
   "source": [
    "x_point = torch.tensor(point['x']) /pitch\n",
    "y_point = torch.tensor(point['y']) /pitch\n",
    "p_list = torch.tensor(p_list)"
   ]
  },
  {
   "cell_type": "code",
   "execution_count": 83,
   "metadata": {},
   "outputs": [
    {
     "data": {
      "text/plain": [
       "torch.Size([1, 2304])"
      ]
     },
     "execution_count": 83,
     "metadata": {},
     "output_type": "execute_result"
    }
   ],
   "source": [
    "x_point.shape"
   ]
  },
  {
   "cell_type": "code",
   "execution_count": 84,
   "metadata": {},
   "outputs": [
    {
     "data": {
      "text/plain": [
       "torch.Size([2, 25, 31, 21])"
      ]
     },
     "execution_count": 84,
     "metadata": {},
     "output_type": "execute_result"
    }
   ],
   "source": [
    "p_list[...,0].shape"
   ]
  },
  {
   "cell_type": "code",
   "execution_count": 85,
   "metadata": {},
   "outputs": [
    {
     "name": "stdout",
     "output_type": "stream",
     "text": [
      "torch.Size([1, 1, 1, 2304]) torch.Size([1, 1, 1, 2304]) torch.Size([2, 25, 31, 1, 21]) torch.Size([2, 25, 31, 1, 21])\n"
     ]
    }
   ],
   "source": [
    "x_d, y_d = distort_func(x_point, y_point, p_list[...,0], p_list[...,1])"
   ]
  },
  {
   "cell_type": "code",
   "execution_count": 86,
   "metadata": {},
   "outputs": [],
   "source": [
    "x_d = x_d.numpy()\n",
    "y_d = y_d.numpy()"
   ]
  },
  {
   "cell_type": "code",
   "execution_count": 87,
   "metadata": {},
   "outputs": [
    {
     "data": {
      "text/plain": [
       "(2, 25, 31, 2304)"
      ]
     },
     "execution_count": 87,
     "metadata": {},
     "output_type": "execute_result"
    }
   ],
   "source": [
    "x_d.shape"
   ]
  },
  {
   "cell_type": "code",
   "execution_count": null,
   "metadata": {},
   "outputs": [],
   "source": [
    "for m in (range(len(m_list))):\n",
    "    for z in (range(len(depth))):\n",
    "            for w in (range(len(interpolated_wvls))):\n",
    "                    fig = plt.figure()\n",
    "                    ax = fig.add_subplot(1, 1, 1)\n",
    "                    plt.title(\"%d order, %dnm wvl, %dcm depth\" %(m_list[m], interpolated_wvls[w], depth[z]*100))\n",
    "                    plt.scatter(x_d[m,w,z], y_d[m,w,z], s= 10)\n",
    "                    plt.show()\n"
   ]
  }
 ],
 "metadata": {
  "kernelspec": {
   "display_name": "hyper3d",
   "language": "python",
   "name": "python3"
  },
  "language_info": {
   "codemirror_mode": {
    "name": "ipython",
    "version": 3
   },
   "file_extension": ".py",
   "mimetype": "text/x-python",
   "name": "python",
   "nbconvert_exporter": "python",
   "pygments_lexer": "ipython3",
   "version": "3.7.16"
  },
  "orig_nbformat": 4
 },
 "nbformat": 4,
 "nbformat_minor": 2
}
