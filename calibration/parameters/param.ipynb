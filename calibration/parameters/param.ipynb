{
 "cells": [
  {
   "cell_type": "code",
   "execution_count": 1,
   "metadata": {},
   "outputs": [],
   "source": [
    "import numpy as np"
   ]
  },
  {
   "cell_type": "code",
   "execution_count": 2,
   "metadata": {},
   "outputs": [],
   "source": [
    "cam_int = np.load('./cam_int.npy')\n",
    "cam_proj_rmat = np.load('./cam_proj_rmat.npy')\n",
    "proj_int = np.load('./proj_int.npy')\n",
    "proj_dist = np.load('./proj_dist.npy')"
   ]
  },
  {
   "cell_type": "code",
   "execution_count": 3,
   "metadata": {},
   "outputs": [
    {
     "data": {
      "text/plain": [
       "array([[2.02636127e+03, 0.00000000e+00, 6.41597887e+02],\n",
       "       [0.00000000e+00, 2.04296197e+03, 6.88201132e+02],\n",
       "       [0.00000000e+00, 0.00000000e+00, 1.00000000e+00]])"
      ]
     },
     "execution_count": 3,
     "metadata": {},
     "output_type": "execute_result"
    }
   ],
   "source": [
    "proj_int"
   ]
  },
  {
   "cell_type": "code",
   "execution_count": 4,
   "metadata": {},
   "outputs": [
    {
     "data": {
      "text/plain": [
       "array([[3.48148622e+03, 0.00000000e+00, 1.08507745e+03],\n",
       "       [0.00000000e+00, 3.49628118e+03, 8.48019154e+02],\n",
       "       [0.00000000e+00, 0.00000000e+00, 1.00000000e+00]])"
      ]
     },
     "execution_count": 4,
     "metadata": {},
     "output_type": "execute_result"
    }
   ],
   "source": [
    "cam_int"
   ]
  },
  {
   "cell_type": "code",
   "execution_count": null,
   "metadata": {},
   "outputs": [],
   "source": []
  },
  {
   "cell_type": "code",
   "execution_count": 5,
   "metadata": {},
   "outputs": [],
   "source": [
    "# proj params\n",
    "focal_length_proj = 8e-3\n",
    "sensor_diag_proj = 5.842e-3\n",
    "sensor_width_proj = np.sin(np.arctan2(720,1280))*sensor_diag_proj\n",
    "\n",
    "N_proj,R,C = 720, 720, 720\n",
    "proj_pitch = sensor_width_proj/N_proj"
   ]
  },
  {
   "cell_type": "code",
   "execution_count": 6,
   "metadata": {},
   "outputs": [],
   "source": [
    "# proj params\n",
    "focal_length_proj = 8e-3\n",
    "sensor_diag_proj = 5.842e-3\n",
    "sensor_width_proj = np.sin(np.arctan2(720,720))*sensor_diag_proj\n",
    "\n",
    "N_proj,R,C = 720, 720, 720\n",
    "proj_pitch = sensor_width_proj/N_proj"
   ]
  },
  {
   "cell_type": "code",
   "execution_count": 7,
   "metadata": {},
   "outputs": [
    {
     "data": {
      "text/plain": [
       "5.737385855127514e-06"
      ]
     },
     "execution_count": 7,
     "metadata": {},
     "output_type": "execute_result"
    }
   ],
   "source": [
    "proj_pitch"
   ]
  },
  {
   "cell_type": "code",
   "execution_count": 8,
   "metadata": {},
   "outputs": [
    {
     "data": {
      "text/plain": [
       "5.737385855127514e-06"
      ]
     },
     "execution_count": 8,
     "metadata": {},
     "output_type": "execute_result"
    }
   ],
   "source": [
    "proj_pitch"
   ]
  },
  {
   "cell_type": "code",
   "execution_count": 9,
   "metadata": {},
   "outputs": [
    {
     "data": {
      "text/plain": [
       "array([[ 0.99966346,  0.01026103,  0.02382615],\n",
       "       [-0.00765745,  0.99424012, -0.10690154],\n",
       "       [-0.02478584,  0.10668312,  0.99398409]])"
      ]
     },
     "execution_count": 9,
     "metadata": {},
     "output_type": "execute_result"
    }
   ],
   "source": [
    "cam_proj_rmat"
   ]
  },
  {
   "cell_type": "code",
   "execution_count": 10,
   "metadata": {},
   "outputs": [],
   "source": [
    "cam_proj_tvec = np.load('./cam_proj_tvec.npy')"
   ]
  },
  {
   "cell_type": "code",
   "execution_count": 11,
   "metadata": {},
   "outputs": [
    {
     "data": {
      "text/plain": [
       "array([[-52.5938738 ],\n",
       "       [-11.56695638],\n",
       "       [  6.97808189]])"
      ]
     },
     "execution_count": 11,
     "metadata": {},
     "output_type": "execute_result"
    }
   ],
   "source": [
    "cam_proj_tvec"
   ]
  },
  {
   "cell_type": "code",
   "execution_count": 12,
   "metadata": {},
   "outputs": [],
   "source": [
    "cam_ent = np.zeros(shape=(4,4))\n",
    "cam_ent[:3,:3] = cam_proj_rmat\n",
    "cam_ent[:3,3:4] = cam_proj_tvec\n",
    "cam_ent[3,3] = 1"
   ]
  },
  {
   "cell_type": "markdown",
   "metadata": {},
   "source": [
    "projector extrinsic real\n",
    "\n",
    "([[ 9.99663456e-01,  1.02610315e-02,  2.38261545e-02, -5.25938738e+01],\n",
    "  [-7.65745365e-03,  9.94240124e-01, -1.06901543e-01, -1.15669564e+01],\n",
    "  [-2.47858389e-02,  1.06683118e-01,  9.93984092e-01, 6.97808189e+00],  \n",
    "  [ 0.00000000e+00,  0.00000000e+00,  0.00000000e+00, 1.00000000e+00]])"
   ]
  },
  {
   "cell_type": "code",
   "execution_count": 13,
   "metadata": {},
   "outputs": [
    {
     "data": {
      "text/plain": [
       "array([[3.48148622e+03, 0.00000000e+00, 1.08507745e+03],\n",
       "       [0.00000000e+00, 3.49628118e+03, 8.48019154e+02],\n",
       "       [0.00000000e+00, 0.00000000e+00, 1.00000000e+00]])"
      ]
     },
     "execution_count": 13,
     "metadata": {},
     "output_type": "execute_result"
    }
   ],
   "source": [
    "cam_int"
   ]
  },
  {
   "cell_type": "markdown",
   "metadata": {},
   "source": [
    "cam intrinsic real\n",
    "\n",
    "([[3.48148622e+03, 0.00000000e+00, 1.08507745e+03],\n",
    "  [0.00000000e+00, 3.49628118e+03, 8.48019154e+02],\n",
    "  [0.00000000e+00, 0.00000000e+00, 1.00000000e+00]])"
   ]
  },
  {
   "cell_type": "code",
   "execution_count": 14,
   "metadata": {},
   "outputs": [],
   "source": [
    "cam_pixel_pitch = 3.45*1e-6"
   ]
  },
  {
   "cell_type": "code",
   "execution_count": 20,
   "metadata": {},
   "outputs": [
    {
     "data": {
      "text/plain": [
       "0.012011127464278761"
      ]
     },
     "execution_count": 20,
     "metadata": {},
     "output_type": "execute_result"
    }
   ],
   "source": [
    "cam_int[0,0] * 1e-6 * 3.45 # a(um) * m = m"
   ]
  },
  {
   "cell_type": "code",
   "execution_count": null,
   "metadata": {},
   "outputs": [],
   "source": [
    "# 현재 focal length는 pixel_pitch가 나누어져 있는 형태"
   ]
  },
  {
   "cell_type": "code",
   "execution_count": 15,
   "metadata": {},
   "outputs": [
    {
     "data": {
      "text/plain": [
       "array([[0.01201113, 0.        ],\n",
       "       [0.        , 0.01206217],\n",
       "       [0.        , 0.        ]])"
      ]
     },
     "execution_count": 15,
     "metadata": {},
     "output_type": "execute_result"
    }
   ],
   "source": [
    "cam_int[:,:2]*cam_pixel_pitch"
   ]
  },
  {
   "cell_type": "code",
   "execution_count": null,
   "metadata": {},
   "outputs": [],
   "source": []
  }
 ],
 "metadata": {
  "kernelspec": {
   "display_name": "Python 3.7.13 ('HyperImaging')",
   "language": "python",
   "name": "python3"
  },
  "language_info": {
   "codemirror_mode": {
    "name": "ipython",
    "version": 3
   },
   "file_extension": ".py",
   "mimetype": "text/x-python",
   "name": "python",
   "nbconvert_exporter": "python",
   "pygments_lexer": "ipython3",
   "version": "3.7.13"
  },
  "orig_nbformat": 4,
  "vscode": {
   "interpreter": {
    "hash": "e8cf70f61cfe72a4f8190e2e208b2f51629869aacaf20dcade6a2849e98c1eaf"
   }
  }
 },
 "nbformat": 4,
 "nbformat_minor": 2
}
