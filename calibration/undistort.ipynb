{
 "cells": [
  {
   "cell_type": "code",
   "execution_count": 1,
   "metadata": {},
   "outputs": [],
   "source": [
    "import cv2\n",
    "import matplotlib.pyplot as plt\n",
    "import torch\n",
    "import numpy as np"
   ]
  },
  {
   "cell_type": "code",
   "execution_count": 2,
   "metadata": {},
   "outputs": [],
   "source": [
    "proj_int = torch.tensor([[1.00093845e+03, 0.00000000e+00, 2.97948385e+02],\n",
    " [0.00000000e+00 ,1.01013006e+03, 3.59948973e+02],\n",
    " [0.00000000e+00, 0.00000000e+00 ,1.00000000e+00]])"
   ]
  },
  {
   "cell_type": "code",
   "execution_count": 3,
   "metadata": {},
   "outputs": [],
   "source": [
    "proj_dist = torch.tensor([[-0.17571493,  1.50077991,  0.017854 ,  -0.00593274, -4.20076663]])"
   ]
  },
  {
   "cell_type": "code",
   "execution_count": 4,
   "metadata": {},
   "outputs": [],
   "source": [
    "cam_int = torch.tensor([[1.73451929e+03, 0.00000000e+00 ,4.44392360e+02],\n",
    " [0.00000000e+00 ,1.71309364e+03, 4.18639134e+02],\n",
    " [0.00000000e+00 ,0.00000000e+00, 1.00000000e+00]])"
   ]
  },
  {
   "cell_type": "code",
   "execution_count": 5,
   "metadata": {},
   "outputs": [],
   "source": [
    "cam_dist =torch.tensor([[-8.83378157e-02 ,-3.15706097e+00 , 1.95892297e-02 ,-6.06952217e-03,\n",
    "   2.12745484e+01]])"
   ]
  },
  {
   "cell_type": "code",
   "execution_count": 53,
   "metadata": {},
   "outputs": [],
   "source": [
    "binning = 2\n",
    "\n",
    "#  D/fine the size of the image\n",
    "WIDTH = 1280 // binning\n",
    "HEIGHT = 720 // binning\n",
    "\n",
    "# Define the size of the dot and its center coordinate\n",
    "DOT_SIZE = 5\n",
    "CENTER_COORDS = torch.tensor([(100, 100), (100, 200), (100, 300), (500, 100), (500, 200), (500, 300)])\n",
    "\n",
    "# # Create a tensor to store the dots\n",
    "dots = torch.zeros((HEIGHT, WIDTH))\n",
    "\n",
    "# Loop through each center coordinate and set the pixels of the corresponding dot to 1\n",
    "\n",
    "for center_x, center_y in CENTER_COORDS:\n",
    "    x_start = center_x - DOT_SIZE // 2\n",
    "    y_start = center_y - DOT_SIZE // 2\n",
    "    x_end = x_start + DOT_SIZE\n",
    "    y_end = y_start + DOT_SIZE\n",
    "    # x_start = center_x \n",
    "    # y_start = center_y\n",
    "    # x_end = center_x\n",
    "    # y_end = center_y\n",
    "    dots[ y_start:y_end+1, x_start:x_end+1] = 1\n",
    "    \n",
    "# Convert the tensor to a PIL image\n",
    "grid = dots\n",
    "\n",
    "# Display the imageplt.imshow(grid)\n",
    "plt.imsave('./grid.png', grid.numpy())\n",
    "# cv2.imwrite('./gird_720.png', grid.numpy()*255.)"
   ]
  },
  {
   "cell_type": "code",
   "execution_count": 54,
   "metadata": {},
   "outputs": [],
   "source": [
    "dst_grid = cv2.undistort(grid.numpy(), proj_int.numpy(), proj_dist.numpy())"
   ]
  },
  {
   "cell_type": "code",
   "execution_count": 57,
   "metadata": {},
   "outputs": [
    {
     "data": {
      "text/plain": [
       "True"
      ]
     },
     "execution_count": 57,
     "metadata": {},
     "output_type": "execute_result"
    }
   ],
   "source": [
    "cv2.imwrite('./output.png', dst_grid*255.)"
   ]
  },
  {
   "cell_type": "code",
   "execution_count": 15,
   "metadata": {},
   "outputs": [],
   "source": [
    "img = cv2.imread('./MicrosoftTeams-image (2).png')"
   ]
  },
  {
   "cell_type": "code",
   "execution_count": 20,
   "metadata": {},
   "outputs": [],
   "source": [
    "import os"
   ]
  },
  {
   "cell_type": "code",
   "execution_count": 22,
   "metadata": {},
   "outputs": [],
   "source": [
    "fns = os.listdir('./diff_captured_img/')"
   ]
  },
  {
   "cell_type": "code",
   "execution_count": 28,
   "metadata": {},
   "outputs": [
    {
     "data": {
      "text/plain": [
       "'capture_450.png'"
      ]
     },
     "execution_count": 28,
     "metadata": {},
     "output_type": "execute_result"
    }
   ],
   "source": [
    "fns[0]"
   ]
  },
  {
   "cell_type": "code",
   "execution_count": 33,
   "metadata": {},
   "outputs": [],
   "source": [
    "for i in range(len(fns)):\n",
    "    img_path = os.path.join('./diff_captured_img/', fns[i])\n",
    "    img = cv2.imread(img_path)\n",
    "    dst_img = cv2.undistort(img, cam_int.numpy(), cam_dist.numpy())\n",
    "    cv2.imwrite(f'./diff_captured_img/{fns[i]}_undistort.png', dst_img)"
   ]
  }
 ],
 "metadata": {
  "kernelspec": {
   "display_name": "hyper3d",
   "language": "python",
   "name": "python3"
  },
  "language_info": {
   "codemirror_mode": {
    "name": "ipython",
    "version": 3
   },
   "file_extension": ".py",
   "mimetype": "text/x-python",
   "name": "python",
   "nbconvert_exporter": "python",
   "pygments_lexer": "ipython3",
   "version": "3.7.16"
  },
  "orig_nbformat": 4,
  "vscode": {
   "interpreter": {
    "hash": "9fa623eb3390c47c076f568bf88f24d6007a788d3fe47958c8bfce56c724a2ed"
   }
  }
 },
 "nbformat": 4,
 "nbformat_minor": 2
}
