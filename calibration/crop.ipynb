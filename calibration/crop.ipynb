{
 "cells": [
  {
   "cell_type": "code",
   "execution_count": 1,
   "metadata": {},
   "outputs": [],
   "source": [
    "import os, cv2"
   ]
  },
  {
   "attachments": {},
   "cell_type": "markdown",
   "metadata": {},
   "source": [
    "calibration1"
   ]
  },
  {
   "cell_type": "code",
   "execution_count": 4,
   "metadata": {},
   "outputs": [],
   "source": [
    "dir = '/home/shshin/Scalable-Hyp-3D-Imaging/dataset/data/test_2023_04_23_15_04_graycode_35/calibration'\n",
    "\n",
    "new_dir = '/home/shshin/Scalable-Hyp-3D-Imaging/dataset/data/test_2023_04_23_15_04_graycode_35_crop'"
   ]
  },
  {
   "cell_type": "code",
   "execution_count": 7,
   "metadata": {},
   "outputs": [
    {
     "name": "stdout",
     "output_type": "stream",
     "text": [
      "(580, 890, 3)\n",
      "(580, 890, 3)\n",
      "(580, 890, 3)\n",
      "(580, 890, 3)\n",
      "(580, 890, 3)\n",
      "(580, 890, 3)\n",
      "(580, 890, 3)\n",
      "(580, 890, 3)\n",
      "(580, 890, 3)\n",
      "(580, 890, 3)\n",
      "(580, 890, 3)\n",
      "(580, 890, 3)\n",
      "(580, 890, 3)\n",
      "(580, 890, 3)\n",
      "(580, 890, 3)\n",
      "(580, 890, 3)\n",
      "(580, 890, 3)\n",
      "(580, 890, 3)\n",
      "(580, 890, 3)\n",
      "(580, 890, 3)\n",
      "(580, 890, 3)\n",
      "(580, 890, 3)\n",
      "(580, 890, 3)\n",
      "(580, 890, 3)\n",
      "(580, 890, 3)\n",
      "(580, 890, 3)\n",
      "(580, 890, 3)\n",
      "(580, 890, 3)\n",
      "(580, 890, 3)\n",
      "(580, 890, 3)\n",
      "(580, 890, 3)\n",
      "(580, 890, 3)\n",
      "(580, 890, 3)\n",
      "(580, 890, 3)\n",
      "(580, 890, 3)\n",
      "(580, 890, 3)\n",
      "(580, 890, 3)\n",
      "(580, 890, 3)\n",
      "(580, 890, 3)\n",
      "(580, 890, 3)\n"
     ]
    }
   ],
   "source": [
    "start_x, start_y = 75,77\n",
    "res_x, res_y = 890, 580\n",
    "\n",
    "for i in range(1):\n",
    "    fdir = dir+str(i)\n",
    "    fn = os.listdir(fdir)\n",
    "    \n",
    "    if not os.path.exists(os.path.join(new_dir, 'calibration'+str(i))):\n",
    "        os.makedirs(os.path.join(new_dir, 'calibration'+str(i)))\n",
    "    \n",
    "    for files in fn:\n",
    "    # bring img\n",
    "        img = cv2.imread(os.path.join(fdir, files), -1) \n",
    "        # crop img\n",
    "        img = img[start_y: start_y +res_y, start_x:start_x+res_x]\n",
    "        print(img.shape)\n",
    "        cv2.imwrite(os.path.join(new_dir,f'calibration'+str(i)+'/'+files), img)"
   ]
  },
  {
   "cell_type": "code",
   "execution_count": 27,
   "metadata": {},
   "outputs": [],
   "source": [
    "import shutil\n",
    "dir = 'C:/Users/owner/Desktop/hyp3dimaging/Scalable-Hyperspectral-3D-Imaging-2/Calibration/experiments/test_2023_04_22_21_34_crop/calibration'\n",
    "\n",
    "for i in range(17):\n",
    "    fdir = dir+str(i)\n",
    "    fname = '/capture_0038.png'\n",
    "    dest = 'C:/Users/owner/Desktop/hyp3dimaging/Scalable-Hyperspectral-3D-Imaging-2/Calibration/experiments/test_2023_04_22_21_34_white/'\n",
    "    shutil.copyfile(fdir+fname, dest+'white_%04d'%i+'.png')\n"
   ]
  },
  {
   "cell_type": "code",
   "execution_count": 64,
   "metadata": {},
   "outputs": [
    {
     "name": "stdout",
     "output_type": "stream",
     "text": [
      "(580, 890, 3)\n",
      "(580, 890, 3)\n",
      "(580, 890, 3)\n",
      "(580, 890, 3)\n",
      "(580, 890, 3)\n",
      "(580, 890, 3)\n",
      "(580, 890, 3)\n",
      "(580, 890, 3)\n",
      "(580, 890, 3)\n",
      "(580, 890, 3)\n",
      "(580, 890, 3)\n",
      "(580, 890, 3)\n",
      "(580, 890, 3)\n",
      "(580, 890, 3)\n",
      "(580, 890, 3)\n",
      "(580, 890, 3)\n",
      "(580, 890, 3)\n",
      "(580, 890, 3)\n",
      "(580, 890, 3)\n",
      "(580, 890, 3)\n",
      "(580, 890, 3)\n",
      "(580, 890, 3)\n",
      "(580, 890, 3)\n",
      "(580, 890, 3)\n",
      "(580, 890, 3)\n",
      "(580, 890, 3)\n",
      "(580, 890, 3)\n",
      "(580, 890, 3)\n",
      "(580, 890, 3)\n",
      "(580, 890, 3)\n",
      "(580, 890, 3)\n",
      "(580, 890, 3)\n",
      "(580, 890, 3)\n",
      "(580, 890, 3)\n",
      "(580, 890, 3)\n",
      "(580, 890, 3)\n",
      "(580, 890, 3)\n",
      "(580, 890, 3)\n",
      "(580, 890, 3)\n",
      "(580, 890, 3)\n"
     ]
    }
   ],
   "source": [
    "os.makedirs(os.path.join(new_dir, 'calibration9'))\n",
    "\n",
    "for files in fn:\n",
    "    # bring img\n",
    "    img = cv2.imread(os.path.join(dir, files))\n",
    "    # crop img\n",
    "    img = img[start_y: start_y +res_y, start_x:start_x+res_x]\n",
    "    print(img.shape)\n",
    "    cv2.imwrite(os.path.join(new_dir,f'calibration9/{files}.png'), img)"
   ]
  }
 ],
 "metadata": {
  "kernelspec": {
   "display_name": "hyp3dimaging",
   "language": "python",
   "name": "python3"
  },
  "language_info": {
   "codemirror_mode": {
    "name": "ipython",
    "version": 3
   },
   "file_extension": ".py",
   "mimetype": "text/x-python",
   "name": "python",
   "nbconvert_exporter": "python",
   "pygments_lexer": "ipython3",
   "version": "3.7.15"
  },
  "orig_nbformat": 4
 },
 "nbformat": 4,
 "nbformat_minor": 2
}
