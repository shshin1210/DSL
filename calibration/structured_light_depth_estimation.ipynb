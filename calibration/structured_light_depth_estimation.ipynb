{
 "cells": [
  {
   "cell_type": "code",
   "execution_count": 1,
   "metadata": {},
   "outputs": [
    {
     "name": "stderr",
     "output_type": "stream",
     "text": [
      "c:\\Users\\owner\\anaconda3\\envs\\hyp3dimaging\\lib\\site-packages\\scipy\\__init__.py:146: UserWarning: A NumPy version >=1.16.5 and <1.23.0 is required for this version of SciPy (detected version 1.23.5\n",
      "  warnings.warn(f\"A NumPy version >={np_minversion} and <{np_maxversion}\"\n"
     ]
    }
   ],
   "source": [
    "import numpy as np\n",
    "import cv2\n",
    "import os\n",
    "\n",
    "from scipy import ndimage\n",
    "from scipy.io import savemat\n",
    "import matplotlib.pyplot as plt"
   ]
  },
  {
   "cell_type": "code",
   "execution_count": 2,
   "metadata": {},
   "outputs": [],
   "source": [
    "vmin=520\n",
    "vmax=1400\n",
    "cmap='nipy_spectral'\n",
    "res_path = './results'\n",
    "# dat_path = './experiments/crop_0419/calibration6/'\n",
    "dat_path = './experiments/test_2023_04_22_21_34_crop/calibration16'\n",
    "\n",
    "binning = 2\n",
    "\n",
    "#  D/fine the size of the image\n",
    "PROJ_WIDTH = 1280 // binning\n",
    "PROJ_HEIGHT = 720 // binning\n",
    "\n",
    "# cam_H, cam_W = 1536//binning, 2048//binning\n",
    "cam_H, cam_W = 580, 890"
   ]
  },
  {
   "cell_type": "markdown",
   "metadata": {},
   "source": [
    "# Structured light"
   ]
  },
  {
   "cell_type": "code",
   "execution_count": 3,
   "metadata": {},
   "outputs": [],
   "source": [
    "def read_epi_gc(dat_path, prefix):\n",
    "    N_gc = 40 # number of graycode images\n",
    "\n",
    "    # load captured patterns\n",
    "    cap_roi = []\n",
    "    for i in range(N_gc):\n",
    "        fn = os.path.join(dat_path, '%s_%04d.png'%(prefix, i))\n",
    "        im_roi = cv2.imread(fn, cv2.IMREAD_GRAYSCALE)*2\n",
    "        cap_roi.append(im_roi)\n",
    "        \n",
    "    return cap_roi\n",
    "\n",
    "def estimate_depth_graycode(cap):\n",
    "    # parameters\n",
    "    cam_shape = (cam_H, cam_W) # row, column\n",
    "    proj_shape = (PROJ_HEIGHT, PROJ_WIDTH) # row, column\n",
    "    N_gc = 40 # number of graycode images\n",
    "    N_tot = N_gc  # number of capture images (graycode + white + black)\n",
    "    gc_step = 1 # should be 1 \n",
    "    black_thr = 0\n",
    "    white_thr = 0\n",
    "    \n",
    "    # captured patterns\n",
    "    \n",
    "    # dmap_SL = estimate_depth_graycode(roi2, im)\n",
    "\n",
    "    # prepare simulation patterns\n",
    "    gc_height = int((proj_shape[0]-1)/gc_step)+1\n",
    "    gc_width = int((proj_shape[1]-1)/gc_step)+1\n",
    "    graycode = cv2.structured_light_GrayCodePattern.create(gc_width, gc_height)\n",
    "    graycode.setBlackThreshold(black_thr)\n",
    "    graycode.setWhiteThreshold(white_thr)\n",
    "    sim = graycode.generate()[1]\n",
    "    sim_w = np.ones(proj_shape)\n",
    "    sim_b = np.zeros(proj_shape)\n",
    "    \n",
    "    R,C = cam_H, cam_W\n",
    "    cap_w = cap[-2]\n",
    "    cap_b = cap[-1]\n",
    "    \n",
    "    # estimate the correspondence map\n",
    "    corr = np.zeros((cam_shape[0], cam_shape[1], 2))\n",
    "    cam_pts = []\n",
    "    prj_pts = []\n",
    "    valid_mask = np.zeros(cam_shape)\n",
    "    for r in range(cam_shape[0]):\n",
    "        if r%100 == 0:\n",
    "            print('decoding %.2f'%(r/cam_shape[0]))\n",
    "        for c in range(cam_shape[1]):\n",
    "            err, proj_pix = graycode.getProjPixel(cap, c, r)\n",
    "            if not err:\n",
    "                corr[r,c] = np.array(proj_pix)\n",
    "                cam_pts.append((c,r))\n",
    "                prj_pts.append((proj_pix[0],proj_pix[1]))\n",
    "                valid_mask[r,c] = True\n",
    "    \n",
    "    # load the geometric calibration data\n",
    "    camproj_calib_path = './calibration_propcam.xml'\n",
    "    fs = cv2.FileStorage(camproj_calib_path, cv2.FileStorage_READ)\n",
    "    img_shape = fs.getNode(\"img_shape\").mat()\n",
    "    cam_int = fs.getNode(\"cam_int\").mat()\n",
    "    cam_dist = fs.getNode(\"cam_dist\").mat()\n",
    "    proj_int = fs.getNode(\"proj_int\").mat()\n",
    "    proj_dist = fs.getNode(\"proj_dist\").mat()\n",
    "    cam_proj_rmat = fs.getNode(\"rotation\").mat()\n",
    "    cam_proj_tvec = fs.getNode(\"translation\").mat()\n",
    "    F = fs.getNode(\"fundamental\").mat()\n",
    "    E = fs.getNode(\"epipolar\").mat()\n",
    "\n",
    "    # undistort points using calibration\n",
    "    cam_pts = np.array(cam_pts, dtype=np.float32) \n",
    "    cam_pts = cam_pts.reshape((-1, 1, 2))\n",
    "    cam_pts_n = cv2.undistortPoints(cam_pts, cam_int, cam_dist, P=cam_int)\n",
    "    prj_pts = np.array(prj_pts, dtype=np.float32) \n",
    "    prj_pts = prj_pts.reshape((-1, 1, 2))\n",
    "    prj_pts_n = cv2.undistortPoints(prj_pts, proj_int, proj_dist, P=proj_int)\n",
    "    \n",
    "    # triangulate\n",
    "    P0 = np.dot(cam_int, np.array([[1,0,0,0],\n",
    "                                   [0,1,0,0],\n",
    "                                   [0,0,1,0]]))\n",
    "    P1 = np.concatenate((np.dot(proj_int, cam_proj_rmat), np.dot(proj_int,cam_proj_tvec)), axis = 1)\n",
    "    triang_res = cv2.triangulatePoints(P0, P1, cam_pts_n, prj_pts_n)\n",
    "    # cam coord 3d points\n",
    "    points_3d = cv2.convertPointsFromHomogeneous(triang_res.T).squeeze()\n",
    "    \n",
    "    # xyz \n",
    "    cam_pts = cam_pts.astype(np.int16)\n",
    "    xyz = np.zeros((R,C,3))\n",
    "    xyz[cam_pts[:,0,1], cam_pts[:,0,0], 0]=points_3d[:,0]\n",
    "    xyz[cam_pts[:,0,1], cam_pts[:,0,0], 1]=points_3d[:,1]\n",
    "    xyz[cam_pts[:,0,1], cam_pts[:,0,0], 2]=points_3d[:,2]\n",
    "    \n",
    "    return xyz"
   ]
  },
  {
   "cell_type": "code",
   "execution_count": 4,
   "metadata": {},
   "outputs": [],
   "source": [
    "im = read_epi_gc(dat_path, 'capture')\n",
    "# im = read_epi_gc('/projects/FHEIDE/polar/captured_data_cam_prj/20210114_lion_bust', 'graycode0000')"
   ]
  },
  {
   "cell_type": "code",
   "execution_count": 5,
   "metadata": {},
   "outputs": [],
   "source": [
    "# print(im[0].shape,roi2)"
   ]
  },
  {
   "cell_type": "code",
   "execution_count": 6,
   "metadata": {},
   "outputs": [
    {
     "data": {
      "text/plain": [
       "890"
      ]
     },
     "execution_count": 6,
     "metadata": {},
     "output_type": "execute_result"
    }
   ],
   "source": [
    "cam_W"
   ]
  },
  {
   "cell_type": "code",
   "execution_count": 7,
   "metadata": {},
   "outputs": [
    {
     "name": "stdout",
     "output_type": "stream",
     "text": [
      "decoding 0.00\n",
      "decoding 0.17\n",
      "decoding 0.34\n",
      "decoding 0.52\n",
      "decoding 0.69\n",
      "decoding 0.86\n"
     ]
    }
   ],
   "source": [
    "# dmap_SL = estimate_depth_graycode(roi2, im)\n",
    "dmap_SL = estimate_depth_graycode(im)"
   ]
  },
  {
   "cell_type": "code",
   "execution_count": 8,
   "metadata": {},
   "outputs": [
    {
     "data": {
      "text/plain": [
       "-2185038.75"
      ]
     },
     "execution_count": 8,
     "metadata": {},
     "output_type": "execute_result"
    }
   ],
   "source": [
    "dmap_SL[...,2].min()"
   ]
  },
  {
   "cell_type": "code",
   "execution_count": 9,
   "metadata": {},
   "outputs": [
    {
     "data": {
      "image/png": "[encoded data removed]",
      "text/plain": [
       "<Figure size 640x480 with 2 Axes>"
      ]
     },
     "metadata": {},
     "output_type": "display_data"
    }
   ],
   "source": [
    "plt.imshow(dmap_SL[...,2],vmin=vmin,vmax=vmax, cmap=cmap)\n",
    "plt.title('conventional structured light [mm]')\n",
    "plt.colorbar()\n",
    "plt.savefig(os.path.join(res_path,'dmap_SL.svg'))\n",
    "plt.show()\n",
    "\n",
    "savemat('dmap_SL.mat', {'dmap_SL':dmap_SL})\n",
    "\n",
    "# nmap_SL = surface_normal_xyz(dmap_SL, kfilt=5, dsize=11)\n",
    "# plt.imshow((nmap_SL+1)/2)\n",
    "# plt.title('conventional structured light XYZ normals')\n",
    "# plt.savefig(os.path.join(res_path,'nmap_SL.svg'))\n",
    "# plt.show()\n",
    "\n",
    "# savemat('nmap_SL.mat', {'nmap_SL':nmap_SL})"
   ]
  },
  {
   "cell_type": "code",
   "execution_count": 10,
   "metadata": {},
   "outputs": [],
   "source": [
    "dmap_SL = dmap_SL*1e-3"
   ]
  },
  {
   "cell_type": "code",
   "execution_count": 11,
   "metadata": {},
   "outputs": [],
   "source": [
    "vis = dmap_SL.reshape(-1,3)"
   ]
  },
  {
   "cell_type": "code",
   "execution_count": 12,
   "metadata": {},
   "outputs": [
    {
     "data": {
      "text/plain": [
       "(516200, 3)"
      ]
     },
     "execution_count": 12,
     "metadata": {},
     "output_type": "execute_result"
    }
   ],
   "source": [
    "vis.shape"
   ]
  },
  {
   "cell_type": "code",
   "execution_count": 13,
   "metadata": {},
   "outputs": [],
   "source": [
    "def draw_setup(elev,azi):\n",
    "    fig = plt.figure(figsize=(15,10))\n",
    "    ax = plt.axes(projection = '3d')\n",
    "    ax.set_xlim([-1,1]) #-0.08,0.005    \n",
    "    ax.set_ylim([-1,1]) #-0.02,0.02    \n",
    "    ax.set_zlim([0,2])\n",
    "    for i in range(0,vis.shape[0],100):\n",
    "        # projector points       \n",
    "        depth_points = ax.scatter(vis[i,0],vis[i,1],vis[i,2], marker = '.',  c = vis[i,2], s = 1, vmin=0,vmax=1.4, cmap=cmap)\n",
    "        ax.set_xlabel('x-axis')\n",
    "        ax.set_ylabel('y-axis')\n",
    "        ax.set_zlabel('z-axis')\n",
    "        plt.xticks(rotation=45)\n",
    "        plt.yticks(rotation =90)\n",
    "        ax.view_init(elev, azi)\n",
    "    plt.colorbar(depth_points,ax = ax, shrink = 0.5, aspect = 5)\n",
    "# draw_setup(0, 90)\n",
    "# draw_setup(0,45)\n",
    "# draw_setup(45,45)"
   ]
  },
  {
   "attachments": {},
   "cell_type": "markdown",
   "metadata": {},
   "source": [
    "### Find Depth"
   ]
  },
  {
   "cell_type": "code",
   "execution_count": 14,
   "metadata": {},
   "outputs": [],
   "source": [
    "cam_shape = (cam_H, cam_W) # row, column\n",
    "proj_shape = (PROJ_HEIGHT, PROJ_WIDTH) # row, column"
   ]
  },
  {
   "cell_type": "code",
   "execution_count": 15,
   "metadata": {},
   "outputs": [],
   "source": [
    "cam_pts = []\n",
    "prj_pts = []"
   ]
  },
  {
   "cell_type": "code",
   "execution_count": 16,
   "metadata": {},
   "outputs": [
    {
     "name": "stdout",
     "output_type": "stream",
     "text": [
      "[[131, 223], [127, 389], [124, 560], [801, 222], [805, 383], [808, 557]]\n",
      "[[100, 100], [100, 200], [100, 300], [500, 100], [500, 200], [500, 300]]\n",
      "[[[128.72551 222.12012]]\n",
      "\n",
      " [[124.90274 389.3352 ]]\n",
      "\n",
      " [[120.72912 562.32623]]\n",
      "\n",
      " [[805.0305  220.7076 ]]\n",
      "\n",
      " [[808.81384 383.44263]]\n",
      "\n",
      " [[813.19946 560.0136 ]]]\n",
      "[[[102.81249 101.74119]]\n",
      "\n",
      " [[102.03841 200.89432]]\n",
      "\n",
      " [[101.64479 300.19528]]\n",
      "\n",
      " [[504.90414  97.57749]]\n",
      "\n",
      " [[503.6481  198.97382]]\n",
      "\n",
      " [[503.4815  299.91467]]]\n"
     ]
    }
   ],
   "source": [
    "# load the geometric calibration data\n",
    "camproj_calib_path = './calibration_propcam.xml'\n",
    "fs = cv2.FileStorage(camproj_calib_path, cv2.FileStorage_READ)\n",
    "img_shape = fs.getNode(\"img_shape\").mat()\n",
    "cam_int = fs.getNode(\"cam_int\").mat()\n",
    "cam_dist = fs.getNode(\"cam_dist\").mat()\n",
    "proj_int = fs.getNode(\"proj_int\").mat()\n",
    "proj_dist = fs.getNode(\"proj_dist\").mat()\n",
    "cam_proj_rmat = fs.getNode(\"rotation\").mat()\n",
    "cam_proj_tvec = fs.getNode(\"translation\").mat()\n",
    "F = fs.getNode(\"fundamental\").mat()\n",
    "E = fs.getNode(\"epipolar\").mat()\n",
    "\n",
    "# cam_pts = [[128,219],[126,389],[125,559],[809,217],[810,386],[812,557]]\n",
    "# prj_pts = [[98,95],[99,198],[100,300],[505,94],[504,197],[503,300]]\n",
    "\n",
    "cam_pts = [[131,223],[127,389],[124,560],[801,222],[805,383],[808,557]]\n",
    "prj_pts = [[100,100],[100,200],[100,300],[500,100],[500,200],[500,300]]\n",
    "\n",
    "print(cam_pts)\n",
    "print(prj_pts)\n",
    "\n",
    "# undistort points using calibration\n",
    "cam_pts = np.array(cam_pts, dtype=np.float32) \n",
    "cam_pts = cam_pts.reshape((-1, 1, 2))\n",
    "cam_pts_n = cv2.undistortPoints(cam_pts, cam_int, cam_dist, P=cam_int)\n",
    "print(cam_pts_n)\n",
    "prj_pts = np.array(prj_pts, dtype=np.float32) \n",
    "prj_pts = prj_pts.reshape((-1, 1, 2))\n",
    "prj_pts_n = cv2.undistortPoints(prj_pts, proj_int, proj_dist, P=proj_int)\n",
    "print(prj_pts_n)\n",
    "# triangulate\n",
    "P0 = np.dot(cam_int, np.array([[1,0,0,0],\n",
    "                                [0,1,0,0],\n",
    "                                [0,0,1,0]]))\n",
    "P1 = np.concatenate((np.dot(proj_int, cam_proj_rmat), np.dot(proj_int,cam_proj_tvec)), axis = 1)\n",
    "triang_res = cv2.triangulatePoints(P0, P1, cam_pts_n, prj_pts_n)\n",
    "# triang_res = cv2.triangulatePoints(P0, P1, cam_pts, prj_pts)\n",
    "\n",
    "# cam coord 3d points\n",
    "points_3d = cv2.convertPointsFromHomogeneous(triang_res.T).squeeze()"
   ]
  },
  {
   "cell_type": "code",
   "execution_count": 17,
   "metadata": {},
   "outputs": [
    {
     "data": {
      "text/plain": [
       "array([[-91.65407  , -38.334957 , 526.8624   ],\n",
       "       [-92.591034 ,  11.994973 , 525.1396   ],\n",
       "       [-93.75596  ,  63.650444 , 524.36285  ],\n",
       "       [111.94232  , -38.008156 , 525.5504   ],\n",
       "       [111.54714  ,  10.8094425, 518.87775  ],\n",
       "       [110.95808  ,  61.287106 , 509.7527   ]], dtype=float32)"
      ]
     },
     "execution_count": 17,
     "metadata": {},
     "output_type": "execute_result"
    }
   ],
   "source": [
    "points_3d"
   ]
  },
  {
   "cell_type": "code",
   "execution_count": 18,
   "metadata": {},
   "outputs": [
    {
     "data": {
      "text/plain": [
       "array([[ 0.99286293,  0.0066195 ,  0.1190772 ],\n",
       "       [ 0.00475939,  0.99546384, -0.09502153],\n",
       "       [-0.11916604,  0.0949101 ,  0.98832764]])"
      ]
     },
     "execution_count": 18,
     "metadata": {},
     "output_type": "execute_result"
    }
   ],
   "source": [
    "cam_proj_rmat"
   ]
  },
  {
   "cell_type": "code",
   "execution_count": 19,
   "metadata": {},
   "outputs": [
    {
     "data": {
      "text/plain": [
       "array([[-62.17763073],\n",
       "       [-12.62577828],\n",
       "       [ -1.68096196]])"
      ]
     },
     "execution_count": 19,
     "metadata": {},
     "output_type": "execute_result"
    }
   ],
   "source": [
    "cam_proj_tvec"
   ]
  },
  {
   "cell_type": "code",
   "execution_count": 20,
   "metadata": {},
   "outputs": [],
   "source": [
    "import numpy as np\n",
    "ext_proj = np.zeros((4,4))\n",
    "ext_proj[:3,:3] = cam_proj_rmat\n",
    "t_mtrx = cam_proj_tvec*1e-3\n",
    "ext_proj[:3,3:4] = t_mtrx\n",
    "ext_proj[3,3] = 1."
   ]
  },
  {
   "cell_type": "code",
   "execution_count": 21,
   "metadata": {},
   "outputs": [
    {
     "data": {
      "text/plain": [
       "array([[ 0.99286293,  0.0066195 ,  0.1190772 , -0.06217763],\n",
       "       [ 0.00475939,  0.99546384, -0.09502153, -0.01262578],\n",
       "       [-0.11916604,  0.0949101 ,  0.98832764, -0.00168096],\n",
       "       [ 0.        ,  0.        ,  0.        ,  1.        ]])"
      ]
     },
     "execution_count": 21,
     "metadata": {},
     "output_type": "execute_result"
    }
   ],
   "source": [
    "ext_proj"
   ]
  },
  {
   "cell_type": "code",
   "execution_count": 22,
   "metadata": {},
   "outputs": [
    {
     "data": {
      "text/plain": [
       "array([[-0.09165407, -0.03833496,  0.52686244],\n",
       "       [-0.09259104,  0.01199497,  0.52513963],\n",
       "       [-0.09375596,  0.06365044,  0.52436286],\n",
       "       [ 0.11194233, -0.03800816,  0.5255504 ],\n",
       "       [ 0.11154715,  0.01080944,  0.51887774],\n",
       "       [ 0.11095808,  0.06128711,  0.5097527 ]], dtype=float32)"
      ]
     },
     "execution_count": 22,
     "metadata": {},
     "output_type": "execute_result"
    }
   ],
   "source": [
    "points_3d*1e-3"
   ]
  },
  {
   "cell_type": "code",
   "execution_count": 23,
   "metadata": {},
   "outputs": [],
   "source": [
    "ones = np.ones(shape=(6,1))\n",
    "points1_3d = np.concatenate((points_3d*1e-3, ones), axis = 1)"
   ]
  },
  {
   "cell_type": "code",
   "execution_count": 24,
   "metadata": {},
   "outputs": [],
   "source": [
    "points1_3d = points1_3d.transpose(1,0)"
   ]
  },
  {
   "cell_type": "code",
   "execution_count": 25,
   "metadata": {},
   "outputs": [],
   "source": [
    "proj_points1_3d = ext_proj@points1_3d"
   ]
  },
  {
   "cell_type": "code",
   "execution_count": 26,
   "metadata": {},
   "outputs": [
    {
     "data": {
      "text/plain": [
       "array([[-9.06940127e-02, -9.14962843e-02, -9.24034527e-02,\n",
       "         1.11295236e-01,  1.10431462e-01,  1.09094152e-01],\n",
       "       [-1.01286339e-01, -5.10254665e-02,  4.63951769e-04,\n",
       "        -9.98673549e-02, -5.06390317e-02,  4.73932352e-04],\n",
       "       [ 5.26315432e-01,  5.29501202e-01,  5.33774946e-01,\n",
       "         5.00787968e-01,  4.98873549e-01,  4.94716043e-01],\n",
       "       [ 1.00000000e+00,  1.00000000e+00,  1.00000000e+00,\n",
       "         1.00000000e+00,  1.00000000e+00,  1.00000000e+00]])"
      ]
     },
     "execution_count": 26,
     "metadata": {},
     "output_type": "execute_result"
    }
   ],
   "source": [
    "proj_points1_3d"
   ]
  }
 ],
 "metadata": {
  "kernelspec": {
   "display_name": "Python 3",
   "language": "python",
   "name": "python3"
  },
  "language_info": {
   "codemirror_mode": {
    "name": "ipython",
    "version": 3
   },
   "file_extension": ".py",
   "mimetype": "text/x-python",
   "name": "python",
   "nbconvert_exporter": "python",
   "pygments_lexer": "ipython3",
   "version": "3.8.15"
  }
 },
 "nbformat": 4,
 "nbformat_minor": 4
}
