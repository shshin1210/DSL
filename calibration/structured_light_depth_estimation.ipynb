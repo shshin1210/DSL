{
 "cells": [
  {
   "cell_type": "code",
   "execution_count": 1,
   "metadata": {},
   "outputs": [
    {
     "name": "stderr",
     "output_type": "stream",
     "text": [
      "c:\\Users\\owner\\anaconda3\\envs\\hyp3dimaging\\lib\\site-packages\\scipy\\__init__.py:146: UserWarning: A NumPy version >=1.16.5 and <1.23.0 is required for this version of SciPy (detected version 1.23.5\n",
      "  warnings.warn(f\"A NumPy version >={np_minversion} and <{np_maxversion}\"\n"
     ]
    }
   ],
   "source": [
    "import numpy as np\n",
    "import cv2\n",
    "import os\n",
    "\n",
    "from scipy import ndimage\n",
    "from scipy.io import savemat\n",
    "import matplotlib.pyplot as plt"
   ]
  },
  {
   "cell_type": "code",
   "execution_count": 2,
   "metadata": {},
   "outputs": [],
   "source": [
    "roi2 = [672,672+1244, 96, 96+1456]\n",
    "roi = [x//2 for x in roi2]\n",
    "R = 1024\n",
    "C = 1224\n",
    "R_roi = roi[1] - roi[0] \n",
    "C_roi = roi[3] - roi[2] \n",
    "vmin=520\n",
    "vmax=1400\n",
    "gamma = 1.5\n",
    "cmap='nipy_spectral'\n",
    "res_path = './results'\n",
    "dat_path = './experiments/crop_0419/calibration6/'\n",
    "\n",
    "binning = 2\n",
    "\n",
    "#  D/fine the size of the image\n",
    "PROJ_WIDTH = 1280 // binning\n",
    "PROJ_HEIGHT = 720 // binning\n",
    "\n",
    "# cam_H, cam_W = 1536//binning, 2048//binning\n",
    "cam_H, cam_W = 580, 890\n",
    "sensor_width_cam = 5.32 * 1e-3\n",
    "cam_pitch = sensor_width_cam / cam_H\n",
    "focal_length_cam = 8 * 1e-3"
   ]
  },
  {
   "cell_type": "markdown",
   "metadata": {},
   "source": [
    "# Structured light"
   ]
  },
  {
   "cell_type": "code",
   "execution_count": 3,
   "metadata": {},
   "outputs": [],
   "source": [
    "def read_epi_gc(dat_path, prefix):\n",
    "    N_gc = 40 # number of graycode images\n",
    "    fsize = 3\n",
    "\n",
    "    # load captured patterns\n",
    "    cap_roi = []\n",
    "    for i in range(N_gc):\n",
    "        fn = os.path.join(dat_path, '%s_%04d.png'%(prefix, i))\n",
    "        im_roi = cv2.imread(fn, cv2.IMREAD_GRAYSCALE)\n",
    "        im_roi = ndimage.median_filter(im_roi, size=fsize)\n",
    "        cap_roi.append(im_roi)\n",
    "        \n",
    "    return cap_roi\n",
    "\n",
    "def estimate_depth_graycode(roi, cap_roi):\n",
    "    # parameters\n",
    "    cam_shape = (cam_H, cam_W) # row, column\n",
    "    proj_shape = (PROJ_HEIGHT, PROJ_WIDTH) # row, column\n",
    "    N_gc = 40 # number of graycode images\n",
    "    N_tot = N_gc  # number of capture images (graycode + white + black)\n",
    "    gc_step = 1 # should be 1 \n",
    "    black_thr = 0\n",
    "    white_thr = 0\n",
    "    \n",
    "    # captured patterns\n",
    "    cap = []\n",
    "    # dmap_SL = estimate_depth_graycode(roi2, im)\n",
    "\n",
    "    for cap_roi_i in cap_roi:\n",
    "        im = np.zeros(cam_shape).astype(np.uint8)\n",
    "        # print(im.shape)\n",
    "        # print(cap_roi_i)\n",
    "        # print(cap_roi)\n",
    "        im[roi[0]:roi[1], roi[2]:roi[3]] = cap_roi_i\n",
    "        cap.append(im)\n",
    "    \n",
    "    # prepare simulation patterns\n",
    "    gc_height = int((proj_shape[0]-1)/gc_step)+1\n",
    "    gc_width = int((proj_shape[1]-1)/gc_step)+1\n",
    "    graycode = cv2.structured_light_GrayCodePattern.create(gc_width, gc_height)\n",
    "    graycode.setBlackThreshold(black_thr)\n",
    "    graycode.setWhiteThreshold(white_thr)\n",
    "    sim = graycode.generate()[1]\n",
    "    sim_w = np.ones(proj_shape)\n",
    "    sim_b = np.zeros(proj_shape)\n",
    "    \n",
    "    R,C = im.shape\n",
    "    cap_w = cap[-2]\n",
    "    cap_b = cap[-1]\n",
    "    \n",
    "    # estimate the correspondence map\n",
    "    corr = np.zeros((cam_shape[0], cam_shape[1], 2))\n",
    "    cam_pts = []\n",
    "    prj_pts = []\n",
    "    valid_mask = np.zeros(cam_shape)\n",
    "    for r in range(cam_shape[0]):\n",
    "        if r%100 == 0:\n",
    "            print('decoding %.2f'%(r/cam_shape[0]))\n",
    "        for c in range(cam_shape[1]):\n",
    "            err, proj_pix = graycode.getProjPixel(cap, c, r)\n",
    "            if not err:\n",
    "                corr[r,c] = np.array(proj_pix)\n",
    "                cam_pts.append((c,r))\n",
    "                prj_pts.append((proj_pix[0],proj_pix[1]))\n",
    "                valid_mask[r,c] = True\n",
    "    \n",
    "    # load the geometric calibration data\n",
    "    camproj_calib_path = './calibration_propcam.xml'\n",
    "    fs = cv2.FileStorage(camproj_calib_path, cv2.FileStorage_READ)\n",
    "    img_shape = fs.getNode(\"img_shape\").mat()\n",
    "    cam_int = fs.getNode(\"cam_int\").mat()\n",
    "    cam_dist = fs.getNode(\"cam_dist\").mat()\n",
    "    proj_int = fs.getNode(\"proj_int\").mat()\n",
    "    proj_dist = fs.getNode(\"proj_dist\").mat()\n",
    "    cam_proj_rmat = fs.getNode(\"rotation\").mat()\n",
    "    cam_proj_tvec = fs.getNode(\"translation\").mat()\n",
    "    F = fs.getNode(\"fundamental\").mat()\n",
    "    E = fs.getNode(\"epipolar\").mat()\n",
    "\n",
    "    # undistort points using calibration\n",
    "    cam_pts = np.array(cam_pts, dtype=np.float32) \n",
    "    cam_pts = cam_pts.reshape((-1, 1, 2))\n",
    "    cam_pts_n = cv2.undistortPoints(cam_pts, cam_int, cam_dist, P=cam_int)\n",
    "    prj_pts = np.array(prj_pts, dtype=np.float32) \n",
    "    prj_pts = prj_pts.reshape((-1, 1, 2))\n",
    "    prj_pts_n = cv2.undistortPoints(prj_pts, proj_int, proj_dist, P=proj_int)\n",
    "    \n",
    "    # triangulate\n",
    "    P0 = np.dot(cam_int, np.array([[1,0,0,0],\n",
    "                                   [0,1,0,0],\n",
    "                                   [0,0,1,0]]))\n",
    "    P1 = np.concatenate((np.dot(proj_int, cam_proj_rmat), np.dot(proj_int,cam_proj_tvec)), axis = 1)\n",
    "    triang_res = cv2.triangulatePoints(P0, P1, cam_pts_n, prj_pts_n)\n",
    "    # cam coord 3d points\n",
    "    points_3d = cv2.convertPointsFromHomogeneous(triang_res.T).squeeze()\n",
    "    \n",
    "    # xyz \n",
    "    cam_pts = cam_pts.astype(np.int16)\n",
    "    xyz = np.zeros((R,C,3))\n",
    "    xyz[cam_pts[:,0,1], cam_pts[:,0,0], 0]=points_3d[:,0]\n",
    "    xyz[cam_pts[:,0,1], cam_pts[:,0,0], 1]=points_3d[:,1]\n",
    "    xyz[cam_pts[:,0,1], cam_pts[:,0,0], 2]=points_3d[:,2]\n",
    "    xyz = xyz[roi[0]:roi[1], roi[2]:roi[3],:]\n",
    "    \n",
    "    return xyz"
   ]
  },
  {
   "cell_type": "code",
   "execution_count": 4,
   "metadata": {},
   "outputs": [],
   "source": [
    "im = read_epi_gc(dat_path, 'capture')\n",
    "# im = read_epi_gc('/projects/FHEIDE/polar/captured_data_cam_prj/20210114_lion_bust', 'graycode0000')"
   ]
  },
  {
   "cell_type": "code",
   "execution_count": 5,
   "metadata": {},
   "outputs": [],
   "source": [
    "# print(im[0].shape,roi2)"
   ]
  },
  {
   "cell_type": "code",
   "execution_count": 6,
   "metadata": {},
   "outputs": [
    {
     "data": {
      "text/plain": [
       "890"
      ]
     },
     "execution_count": 6,
     "metadata": {},
     "output_type": "execute_result"
    }
   ],
   "source": [
    "cam_W"
   ]
  },
  {
   "cell_type": "code",
   "execution_count": 7,
   "metadata": {},
   "outputs": [
    {
     "name": "stdout",
     "output_type": "stream",
     "text": [
      "decoding 0.00\n",
      "decoding 0.17\n",
      "decoding 0.34\n",
      "decoding 0.52\n",
      "decoding 0.69\n",
      "decoding 0.86\n"
     ]
    }
   ],
   "source": [
    "# dmap_SL = estimate_depth_graycode(roi2, im)\n",
    "dmap_SL = estimate_depth_graycode([0,cam_H,0,cam_W], im)"
   ]
  },
  {
   "cell_type": "code",
   "execution_count": 8,
   "metadata": {},
   "outputs": [],
   "source": [
    "dmap_SL = cv2.resize(dmap_SL, (C_roi,R_roi))"
   ]
  },
  {
   "cell_type": "code",
   "execution_count": 31,
   "metadata": {},
   "outputs": [
    {
     "data": {
      "text/plain": [
       "-709.304078325755"
      ]
     },
     "execution_count": 31,
     "metadata": {},
     "output_type": "execute_result"
    }
   ],
   "source": [
    "dmap_SL[...,2].min()"
   ]
  },
  {
   "cell_type": "code",
   "execution_count": 10,
   "metadata": {},
   "outputs": [
    {
     "data": {
      "image/png": "[encoded data removed]",
      "text/plain": [
       "<Figure size 640x480 with 2 Axes>"
      ]
     },
     "metadata": {},
     "output_type": "display_data"
    }
   ],
   "source": [
    "plt.imshow(dmap_SL[...,2],vmin=vmin,vmax=vmax, cmap=cmap)\n",
    "plt.title('conventional structured light [mm]')\n",
    "plt.colorbar()\n",
    "plt.savefig(os.path.join(res_path,'dmap_SL.svg'))\n",
    "plt.show()\n",
    "\n",
    "savemat('dmap_SL.mat', {'dmap_SL':dmap_SL})\n",
    "\n",
    "# nmap_SL = surface_normal_xyz(dmap_SL, kfilt=5, dsize=11)\n",
    "# plt.imshow((nmap_SL+1)/2)\n",
    "# plt.title('conventional structured light XYZ normals')\n",
    "# plt.savefig(os.path.join(res_path,'nmap_SL.svg'))\n",
    "# plt.show()\n",
    "\n",
    "# savemat('nmap_SL.mat', {'nmap_SL':nmap_SL})"
   ]
  },
  {
   "cell_type": "code",
   "execution_count": 11,
   "metadata": {},
   "outputs": [],
   "source": [
    "dmap_SL = dmap_SL*1e-3"
   ]
  },
  {
   "cell_type": "code",
   "execution_count": 12,
   "metadata": {},
   "outputs": [],
   "source": [
    "vis = dmap_SL.reshape(-1,3)"
   ]
  },
  {
   "cell_type": "code",
   "execution_count": 13,
   "metadata": {},
   "outputs": [
    {
     "data": {
      "text/plain": [
       "(452816, 3)"
      ]
     },
     "execution_count": 13,
     "metadata": {},
     "output_type": "execute_result"
    }
   ],
   "source": [
    "vis.shape"
   ]
  },
  {
   "cell_type": "code",
   "execution_count": 14,
   "metadata": {},
   "outputs": [],
   "source": [
    "def draw_setup(elev,azi):\n",
    "    fig = plt.figure(figsize=(15,10))\n",
    "    ax = plt.axes(projection = '3d')\n",
    "    ax.set_xlim([-1,1]) #-0.08,0.005    \n",
    "    ax.set_ylim([-1,1]) #-0.02,0.02    \n",
    "    ax.set_zlim([0,2])\n",
    "    for i in range(0,vis.shape[0],100):\n",
    "        # projector points       \n",
    "        depth_points = ax.scatter(vis[i,0],vis[i,1],vis[i,2], marker = '.',  c = vis[i,2], s = 1, vmin=0,vmax=1.4, cmap=cmap)\n",
    "        ax.set_xlabel('x-axis')\n",
    "        ax.set_ylabel('y-axis')\n",
    "        ax.set_zlabel('z-axis')\n",
    "        plt.xticks(rotation=45)\n",
    "        plt.yticks(rotation =90)\n",
    "        ax.view_init(elev, azi)\n",
    "    plt.colorbar(depth_points,ax = ax, shrink = 0.5, aspect = 5)\n",
    "# draw_setup(0, 90)\n",
    "# draw_setup(0,45)\n",
    "# draw_setup(45,45)"
   ]
  },
  {
   "attachments": {},
   "cell_type": "markdown",
   "metadata": {},
   "source": [
    "### Find Depth"
   ]
  },
  {
   "cell_type": "code",
   "execution_count": 15,
   "metadata": {},
   "outputs": [],
   "source": [
    "cam_shape = (cam_H, cam_W) # row, column\n",
    "proj_shape = (PROJ_HEIGHT, PROJ_WIDTH) # row, column"
   ]
  },
  {
   "cell_type": "code",
   "execution_count": 16,
   "metadata": {},
   "outputs": [],
   "source": [
    "cam_pts = []\n",
    "prj_pts = []"
   ]
  },
  {
   "cell_type": "code",
   "execution_count": 17,
   "metadata": {},
   "outputs": [
    {
     "name": "stdout",
     "output_type": "stream",
     "text": [
      "[[131, 223], [127, 389], [124, 560], [801, 222], [805, 383], [808, 557]]\n",
      "[[100, 100], [100, 200], [100, 300], [500, 100], [500, 200], [500, 300]]\n",
      "[[[125.48888 220.12328]]\n",
      "\n",
      " [[122.35085 389.03775]]\n",
      "\n",
      " [[117.92763 563.35535]]\n",
      "\n",
      " [[809.7424  218.0588 ]]\n",
      "\n",
      " [[811.8582  383.0365 ]]\n",
      "\n",
      " [[817.4784  561.5247 ]]]\n",
      "[[[ 91.40455   90.56129 ]]\n",
      "\n",
      " [[ 94.55291  195.95932 ]]\n",
      "\n",
      " [[ 95.79143  298.30292 ]]\n",
      "\n",
      " [[501.44788   95.222946]]\n",
      "\n",
      " [[500.7219   198.30225 ]]\n",
      "\n",
      " [[500.37933  299.54227 ]]]\n"
     ]
    }
   ],
   "source": [
    "# load the geometric calibration data\n",
    "camproj_calib_path = './calibration_propcam.xml'\n",
    "fs = cv2.FileStorage(camproj_calib_path, cv2.FileStorage_READ)\n",
    "img_shape = fs.getNode(\"img_shape\").mat()\n",
    "cam_int = fs.getNode(\"cam_int\").mat()\n",
    "cam_dist = fs.getNode(\"cam_dist\").mat()\n",
    "proj_int = fs.getNode(\"proj_int\").mat()\n",
    "proj_dist = fs.getNode(\"proj_dist\").mat()\n",
    "cam_proj_rmat = fs.getNode(\"rotation\").mat()\n",
    "cam_proj_tvec = fs.getNode(\"translation\").mat()\n",
    "F = fs.getNode(\"fundamental\").mat()\n",
    "E = fs.getNode(\"epipolar\").mat()\n",
    "\n",
    "# cam_pts = [[128,219],[126,389],[125,559],[809,217],[810,386],[812,557]]\n",
    "# prj_pts = [[98,95],[99,198],[100,300],[505,94],[504,197],[503,300]]\n",
    "\n",
    "cam_pts = [[131,223],[127,389],[124,560],[801,222],[805,383],[808,557]]\n",
    "prj_pts = [[100,100],[100,200],[100,300],[500,100],[500,200],[500,300]]\n",
    "\n",
    "print(cam_pts)\n",
    "print(prj_pts)\n",
    "\n",
    "# undistort points using calibration\n",
    "cam_pts = np.array(cam_pts, dtype=np.float32) \n",
    "cam_pts = cam_pts.reshape((-1, 1, 2))\n",
    "cam_pts_n = cv2.undistortPoints(cam_pts, cam_int, cam_dist, P=cam_int)\n",
    "print(cam_pts_n)\n",
    "prj_pts = np.array(prj_pts, dtype=np.float32) \n",
    "prj_pts = prj_pts.reshape((-1, 1, 2))\n",
    "prj_pts_n = cv2.undistortPoints(prj_pts, proj_int, proj_dist, P=proj_int)\n",
    "print(prj_pts_n)\n",
    "# triangulate\n",
    "P0 = np.dot(cam_int, np.array([[1,0,0,0],\n",
    "                                [0,1,0,0],\n",
    "                                [0,0,1,0]]))\n",
    "P1 = np.concatenate((np.dot(proj_int, cam_proj_rmat), np.dot(proj_int,cam_proj_tvec)), axis = 1)\n",
    "triang_res = cv2.triangulatePoints(P0, P1, cam_pts_n, prj_pts_n)\n",
    "# triang_res = cv2.triangulatePoints(P0, P1, cam_pts, prj_pts)\n",
    "\n",
    "# cam coord 3d points\n",
    "points_3d = cv2.convertPointsFromHomogeneous(triang_res.T).squeeze()"
   ]
  },
  {
   "cell_type": "code",
   "execution_count": 18,
   "metadata": {},
   "outputs": [
    {
     "data": {
      "text/plain": [
       "array([[-169.39673 , -113.910095, 1030.5396  ],\n",
       "       [-184.47308 ,  -14.092295, 1104.859   ],\n",
       "       [-195.50674 ,  100.89959 , 1149.3733  ],\n",
       "       [ 336.82556 , -164.70943 , 1458.0276  ],\n",
       "       [ 411.61697 ,  -30.552935, 1781.3973  ],\n",
       "       [ 468.78793 ,  171.51459 , 2006.8165  ]], dtype=float32)"
      ]
     },
     "execution_count": 18,
     "metadata": {},
     "output_type": "execute_result"
    }
   ],
   "source": [
    "points_3d"
   ]
  },
  {
   "cell_type": "code",
   "execution_count": 19,
   "metadata": {},
   "outputs": [
    {
     "data": {
      "text/plain": [
       "array([[ 9.99689767e-01, -4.43233090e-03, -2.45096588e-02],\n",
       "       [-1.11083528e-05,  9.83959413e-01, -1.78392472e-01],\n",
       "       [ 2.49072040e-02,  1.78337401e-01,  9.83654107e-01]])"
      ]
     },
     "execution_count": 19,
     "metadata": {},
     "output_type": "execute_result"
    }
   ],
   "source": [
    "cam_proj_rmat"
   ]
  },
  {
   "cell_type": "code",
   "execution_count": 20,
   "metadata": {},
   "outputs": [
    {
     "data": {
      "text/plain": [
       "array([[-63.30236527],\n",
       "       [-12.91339954],\n",
       "       [-35.26884169]])"
      ]
     },
     "execution_count": 20,
     "metadata": {},
     "output_type": "execute_result"
    }
   ],
   "source": [
    "cam_proj_tvec"
   ]
  },
  {
   "cell_type": "code",
   "execution_count": 21,
   "metadata": {},
   "outputs": [],
   "source": [
    "import numpy as np\n",
    "ext_proj = np.zeros((4,4))\n",
    "ext_proj[:3,:3] = cam_proj_rmat\n",
    "t_mtrx = cam_proj_tvec*1e-3\n",
    "ext_proj[:3,3:4] = t_mtrx\n",
    "ext_proj[3,3] = 1."
   ]
  },
  {
   "cell_type": "code",
   "execution_count": 22,
   "metadata": {},
   "outputs": [
    {
     "data": {
      "text/plain": [
       "array([[ 9.99689767e-01, -4.43233090e-03, -2.45096588e-02,\n",
       "        -6.33023653e-02],\n",
       "       [-1.11083528e-05,  9.83959413e-01, -1.78392472e-01,\n",
       "        -1.29133995e-02],\n",
       "       [ 2.49072040e-02,  1.78337401e-01,  9.83654107e-01,\n",
       "        -3.52688417e-02],\n",
       "       [ 0.00000000e+00,  0.00000000e+00,  0.00000000e+00,\n",
       "         1.00000000e+00]])"
      ]
     },
     "execution_count": 22,
     "metadata": {},
     "output_type": "execute_result"
    }
   ],
   "source": [
    "ext_proj"
   ]
  },
  {
   "cell_type": "code",
   "execution_count": 23,
   "metadata": {},
   "outputs": [
    {
     "data": {
      "text/plain": [
       "array([[-0.16939674, -0.1139101 ,  1.0305396 ],\n",
       "       [-0.1844731 , -0.0140923 ,  1.1048591 ],\n",
       "       [-0.19550675,  0.10089959,  1.1493733 ],\n",
       "       [ 0.33682558, -0.16470943,  1.4580276 ],\n",
       "       [ 0.41161698, -0.03055294,  1.7813975 ],\n",
       "       [ 0.46878797,  0.1715146 ,  2.0068166 ]], dtype=float32)"
      ]
     },
     "execution_count": 23,
     "metadata": {},
     "output_type": "execute_result"
    }
   ],
   "source": [
    "points_3d*1e-3"
   ]
  },
  {
   "cell_type": "code",
   "execution_count": 24,
   "metadata": {},
   "outputs": [],
   "source": [
    "ones = np.ones(shape=(6,1))\n",
    "points1_3d = np.concatenate((points_3d*1e-3, ones), axis = 1)"
   ]
  },
  {
   "cell_type": "code",
   "execution_count": 25,
   "metadata": {},
   "outputs": [],
   "source": [
    "points1_3d = points1_3d.transpose(1,0)"
   ]
  },
  {
   "cell_type": "code",
   "execution_count": 26,
   "metadata": {},
   "outputs": [],
   "source": [
    "proj_points1_3d = ext_proj@points1_3d"
   ]
  },
  {
   "cell_type": "code",
   "execution_count": 27,
   "metadata": {},
   "outputs": [
    {
     "data": {
      "text/plain": [
       "array([[-0.25739984, -0.27473549, -0.28736643,  0.23841301,  0.3046609 ,\n",
       "         0.35539357],\n",
       "       [-0.30883495, -0.22387615, -0.11866967, -0.43508569, -0.36076872,\n",
       "        -0.20215618],\n",
       "       [ 0.95389207,  1.04442247,  1.10844156,  1.37794153,  1.72181359,\n",
       "         1.98100824],\n",
       "       [ 1.        ,  1.        ,  1.        ,  1.        ,  1.        ,\n",
       "         1.        ]])"
      ]
     },
     "execution_count": 27,
     "metadata": {},
     "output_type": "execute_result"
    }
   ],
   "source": [
    "proj_points1_3d"
   ]
  }
 ],
 "metadata": {
  "kernelspec": {
   "display_name": "Python 3",
   "language": "python",
   "name": "python3"
  },
  "language_info": {
   "codemirror_mode": {
    "name": "ipython",
    "version": 3
   },
   "file_extension": ".py",
   "mimetype": "text/x-python",
   "name": "python",
   "nbconvert_exporter": "python",
   "pygments_lexer": "ipython3",
   "version": "3.8.15"
  }
 },
 "nbformat": 4,
 "nbformat_minor": 4
}
