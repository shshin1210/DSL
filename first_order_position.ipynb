{
 "cells": [
  {
   "cell_type": "code",
   "execution_count": 4,
   "metadata": {},
   "outputs": [],
   "source": [
    "import cv2\n",
    "import numpy as np\n",
    "import matplotlib.pyplot as plt\n",
    "import os"
   ]
  },
  {
   "cell_type": "code",
   "execution_count": 3,
   "metadata": {},
   "outputs": [],
   "source": [
    "# date of datas\n",
    "date = \"0913\"\n",
    "\n",
    "# arguments\n",
    "cam_H, cam_W = 580, 890\n",
    "wvls = np.arange(420, 670, 10)\n",
    "\n",
    "n_illum = 318\n",
    "n_patches = 24\n",
    "n_channel = 3\n",
    "\n",
    "patch_idx = np.arange(0, 24)\n",
    "patch_size = 3\n",
    "\n",
    "# dir\n",
    "first_order_data_dir = './calibration/first_order_2023%s'%date\n",
    "\n",
    "# center points for all patches\n",
    "all_patches_center_pts = np.array([[210, 130], [324,142], [442,142], [558, 147], [680,152], [792,154],\n",
    "[200,250], [326,253], [440,256], [560, 260], [676,261], [792,267],\n",
    "[190,366], [318,372], [440,372], [558,376], [676,380], [794,379],\n",
    "[190,490], [314,496], [436,491], [558,492], [678,495], [800,495]])"
   ]
  },
  {
   "cell_type": "code",
   "execution_count": null,
   "metadata": {},
   "outputs": [],
   "source": [
    "first_order_data = []\n",
    "\n",
    "exp_indx = 1\n",
    "\n",
    "for i in range(318): \n",
    "    first_order_dir = os.path.join(first_order_data_dir, '%snm_crop/calibration00/capture_%04d.png')\n",
    "\n",
    "    first_order_imgs = np.array([cv2.imread(first_order_dir%(wvls[w], i), -1)[:,:,::-1] for w in range(len(wvls))])\n",
    "    first_order_data.append(first_order_imgs)\n",
    "    \n",
    "first_order_data = np.array(first_order_data) # 318, 25, 580, 890, 3"
   ]
  },
  {
   "cell_type": "code",
   "execution_count": null,
   "metadata": {},
   "outputs": [],
   "source": [
    "first_order_data_transposed = first_order_data.transpose(2,3,0,1,4)"
   ]
  },
  {
   "cell_type": "code",
   "execution_count": null,
   "metadata": {},
   "outputs": [],
   "source": [
    "# plot reflectance for each patches - real\n",
    "# patches : 24개, wvl : 25 개\n",
    "patches_rgb_real = np.zeros(shape = (n_illum, n_patches, len(wvls), n_channel))\n",
    "patches_idx = all_patches_center_pts\n",
    "\n",
    "cnst = 1\n",
    "patch_size = 3\n",
    "\n",
    "# max value defined for each illumination pattern \n",
    "\n",
    "for w in range(len(wvls)):\n",
    "    for l in range(318):\n",
    "            y_idx_start, y_idx_end = (patches_idx[:,1] - patch_size//2).astype(np.int32), (patches_idx[:,1] + patch_size//2).astype(np.int32)\n",
    "            x_idx_start, x_idx_end = (patches_idx[:,0] - patch_size//2).astype(np.int32), (patches_idx[:,0] + patch_size//2).astype(np.int32)\n",
    "            \n",
    "            for p in range(n_patches):\n",
    "                    y_idx, x_idx = patches_idx[p,1], patches_idx[p,0]\n",
    "                    rgb_intensity = (first_order_data_transposed[y_idx_start[p]:y_idx_end[p], x_idx_start[p]:x_idx_end[p], l] / (65535)).reshape(-1, 3).mean(axis = 0)\n",
    "                    patches_rgb_real[l, p, w] = rgb_intensity"
   ]
  },
  {
   "cell_type": "code",
   "execution_count": null,
   "metadata": {},
   "outputs": [],
   "source": [
    "patches_rgb_real.shape # 318, 25, 580, 890, 3"
   ]
  },
  {
   "cell_type": "code",
   "execution_count": null,
   "metadata": {},
   "outputs": [],
   "source": [
    "illum = np.arange(0, 318, 1)\n",
    "\n",
    "start_idx = 0\n",
    "end_idx = 318\n",
    "\n",
    "for p in range(n_patches):\n",
    "    plt.figure(figsize = (10,5))\n",
    "\n",
    "    plt.plot(illum[start_idx: end_idx], patches_rgb_real[start_idx: end_idx, p, :, 0], label = 'real red', c = 'red'), plt.legend(), plt.ylim(0,1)\n",
    "    plt.plot(illum[start_idx: end_idx], patches_rgb_real[start_idx: end_idx, p, :, 1], label = 'real green', c = 'green'), plt.legend(), plt.ylim(0,1)\n",
    "    plt.plot(illum[start_idx: end_idx], patches_rgb_real[start_idx: end_idx, p, :, 2], label = 'real blue', c = 'blue'), plt.legend(), plt.ylim(0,1)\n",
    "\n",
    "    plt.title('RGB intensity %s-th patch'%patch_idx[p])\n",
    "    plt.xlabel('illumination index')\n",
    "    plt.ylabel('rgb intensity')\n",
    "    \n",
    "    # plt.savefig('./%sms_%02d-th_patch.png'%(ex_time[exp_indx],patch_idx[p]))"
   ]
  }
 ],
 "metadata": {
  "kernelspec": {
   "display_name": "hyper3d",
   "language": "python",
   "name": "python3"
  },
  "language_info": {
   "codemirror_mode": {
    "name": "ipython",
    "version": 3
   },
   "file_extension": ".py",
   "mimetype": "text/x-python",
   "name": "python",
   "nbconvert_exporter": "python",
   "pygments_lexer": "ipython3",
   "version": "3.7.16"
  },
  "orig_nbformat": 4
 },
 "nbformat": 4,
 "nbformat_minor": 2
}
